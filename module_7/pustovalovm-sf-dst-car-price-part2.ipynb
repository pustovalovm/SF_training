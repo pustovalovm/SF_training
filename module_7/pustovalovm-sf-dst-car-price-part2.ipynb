{
 "cells": [
  {
   "cell_type": "markdown",
   "metadata": {},
   "source": [
    "# Car Price prediction - Part 2\n",
    "\n",
    "<img src=\"https://whatcar.vn/media/2018/09/car-lot-940x470.jpg\"/>\n",
    "\n",
    "Вторая часть соревнования с предсказанием цены автомобиля на основании данных из объявлений о продаже. На этот раз работаем только с готовым датасетом, при этом можно применять модели глубокого обучения, как для анализа табличных данных, так и текста\\фотографий.\n",
    "\n",
    "Ноутбук сделан на основе baseleline, но при этом особое внимание уделено EDA и обработке табличных данных."
   ]
  },
  {
   "cell_type": "code",
   "execution_count": null,
   "metadata": {
    "_kg_hide-input": true,
    "execution": {
     "iopub.execute_input": "2021-06-27T16:34:46.909958Z",
     "iopub.status.busy": "2021-06-27T16:34:46.909588Z",
     "iopub.status.idle": "2021-06-27T16:34:53.217766Z",
     "shell.execute_reply": "2021-06-27T16:34:53.21673Z",
     "shell.execute_reply.started": "2021-06-27T16:34:46.909925Z"
    }
   },
   "outputs": [],
   "source": [
    "#аугментации изображений\n",
    "!pip install albumentations -q"
   ]
  },
  {
   "cell_type": "code",
   "execution_count": null,
   "metadata": {
    "_cell_guid": "b1076dfc-b9ad-4769-8c92-a6c4dae69d19",
    "_kg_hide-input": true,
    "_uuid": "8f2839f25d086af736a60e9eeb907d3b93b6e0e5",
    "execution": {
     "iopub.execute_input": "2021-06-27T16:34:53.222217Z",
     "iopub.status.busy": "2021-06-27T16:34:53.221918Z",
     "iopub.status.idle": "2021-06-27T16:35:00.443377Z",
     "shell.execute_reply": "2021-06-27T16:35:00.442358Z",
     "shell.execute_reply.started": "2021-06-27T16:34:53.222187Z"
    },
    "tags": []
   },
   "outputs": [],
   "source": [
    "### This Python 3 environment comes with many helpful analytics libraries installed\n",
    "# It is defined by the kaggle/python Docker image: https://github.com/kaggle/docker-python\n",
    "# For example, here's several helpful packages to load\n",
    "\n",
    "import random\n",
    "import re\n",
    "import numpy as np # linear algebra\n",
    "import pandas as pd # data processing, CSV file I/O (e.g. pd.read_csv)\n",
    "import os\n",
    "import sys\n",
    "import PIL\n",
    "import cv2\n",
    "import re\n",
    "import itertools\n",
    "\n",
    "# Input data files are available in the read-only \"../input/\" directory\n",
    "# For example, running this (by clicking run or pressing Shift+Enter) will list all files under the input directory\n",
    "\n",
    "from catboost import CatBoostRegressor\n",
    "from sklearn.model_selection import train_test_split\n",
    "from sklearn.preprocessing import MinMaxScaler, StandardScaler, RobustScaler\n",
    "\n",
    "\n",
    "# # keras\n",
    "import tensorflow as tf\n",
    "import tensorflow.keras.layers as L\n",
    "from tensorflow.keras.models import Model, Sequential\n",
    "from tensorflow.keras.preprocessing.text import Tokenizer\n",
    "from tensorflow.keras.preprocessing import sequence\n",
    "from tensorflow.keras.callbacks import ModelCheckpoint, EarlyStopping\n",
    "from tensorflow.keras import regularizers\n",
    "\n",
    "import albumentations\n",
    "\n",
    "# plt\n",
    "import matplotlib.pyplot as plt\n",
    "import seaborn as sns\n",
    "sns.set()\n",
    "#увеличим дефолтный размер графиков\n",
    "from pylab import rcParams\n",
    "rcParams['figure.figsize'] = 10, 5\n",
    "#графики в svg выглядят более четкими\n",
    "%config InlineBackend.figure_format = 'svg' \n",
    "%matplotlib inline\n",
    "pd.set_option('display.max_columns', 500)\n",
    "\n",
    "import string\n",
    "import nltk\n",
    "from nltk.tokenize import RegexpTokenizer\n",
    "from nltk.stem import WordNetLemmatizer\n",
    "from nltk.stem.snowball import RussianStemmer\n",
    "from nltk.corpus import stopwords, words\n",
    "# You can write up to 5GB to the current directory (/kaggle/working/) that gets preserved as output when you create a version using \"Save & Run All\" \n",
    "# You can also write temporary files to /kaggle/temp/, but they won't be saved outside of the current session"
   ]
  },
  {
   "cell_type": "code",
   "execution_count": null,
   "metadata": {
    "_kg_hide-input": true,
    "execution": {
     "iopub.execute_input": "2021-06-27T16:35:00.450801Z",
     "iopub.status.busy": "2021-06-27T16:35:00.4484Z",
     "iopub.status.idle": "2021-06-27T16:35:00.469687Z",
     "shell.execute_reply": "2021-06-27T16:35:00.46859Z",
     "shell.execute_reply.started": "2021-06-27T16:35:00.450757Z"
    },
    "tags": []
   },
   "outputs": [],
   "source": [
    "print('Python       :', sys.version.split('\\n')[0])\n",
    "print('Numpy        :', np.__version__)\n",
    "print('Tensorflow   :', tf.__version__)"
   ]
  },
  {
   "cell_type": "code",
   "execution_count": null,
   "metadata": {
    "_kg_hide-input": true,
    "execution": {
     "iopub.execute_input": "2021-06-27T16:35:00.476746Z",
     "iopub.status.busy": "2021-06-27T16:35:00.474391Z",
     "iopub.status.idle": "2021-06-27T16:35:00.483611Z",
     "shell.execute_reply": "2021-06-27T16:35:00.482701Z",
     "shell.execute_reply.started": "2021-06-27T16:35:00.476707Z"
    },
    "tags": []
   },
   "outputs": [],
   "source": [
    "def mape(y_true, y_pred):\n",
    "    return np.mean(np.abs((y_pred-y_true)/y_true))"
   ]
  },
  {
   "cell_type": "code",
   "execution_count": null,
   "metadata": {
    "_kg_hide-input": true,
    "execution": {
     "iopub.execute_input": "2021-06-27T16:35:00.493018Z",
     "iopub.status.busy": "2021-06-27T16:35:00.490796Z",
     "iopub.status.idle": "2021-06-27T16:35:00.499291Z",
     "shell.execute_reply": "2021-06-27T16:35:00.498361Z",
     "shell.execute_reply.started": "2021-06-27T16:35:00.492977Z"
    },
    "tags": []
   },
   "outputs": [],
   "source": [
    "RANDOM_SEED = 42\n",
    "np.random.seed(RANDOM_SEED)"
   ]
  },
  {
   "cell_type": "code",
   "execution_count": null,
   "metadata": {
    "_kg_hide-input": true,
    "execution": {
     "iopub.execute_input": "2021-06-27T16:35:00.508163Z",
     "iopub.status.busy": "2021-06-27T16:35:00.505767Z",
     "iopub.status.idle": "2021-06-27T16:35:02.503987Z",
     "shell.execute_reply": "2021-06-27T16:35:02.503Z",
     "shell.execute_reply.started": "2021-06-27T16:35:00.50812Z"
    },
    "jupyter": {
     "source_hidden": true
    }
   },
   "outputs": [],
   "source": [
    "!pip freeze > requirements.txt"
   ]
  },
  {
   "cell_type": "markdown",
   "metadata": {},
   "source": [
    "# Часть 1. EDA."
   ]
  },
  {
   "cell_type": "markdown",
   "metadata": {},
   "source": [
    "Посмотрим на типы признаков:\n",
    "\n",
    "* bodyType - категориальный\n",
    "* brand - категориальный\n",
    "* color - категориальный\n",
    "* description - текстовый\n",
    "* engineDisplacement - числовой, представленный как текст\n",
    "* enginePower - числовой, представленный как текст\n",
    "* fuelType - категориальный\n",
    "* mileage - числовой\n",
    "* modelDate - числовой\n",
    "* model_info - категориальный\n",
    "* name - категориальный, желательно сократить размерность\n",
    "* numberOfDoors - категориальный\n",
    "* price - числовой, целевой\n",
    "* productionDate - числовой\n",
    "* sell_id - изображение (файл доступен по адресу, основанному на sell_id)\n",
    "* vehicleConfiguration - не используется (комбинация других столбцов)\n",
    "* vehicleTransmission - категориальный\n",
    "* Владельцы - категориальный\n",
    "* Владение - числовой, представленный как текст\n",
    "* ПТС - категориальный\n",
    "* Привод - категориальный\n",
    "* Руль - категориальный"
   ]
  },
  {
   "cell_type": "code",
   "execution_count": null,
   "metadata": {
    "_cell_guid": "79c7e3d0-c299-4dcb-8224-4455121ee9b0",
    "_uuid": "d629ff2d2480ee46fbb7e2d37f6b5fab8052498a",
    "execution": {
     "iopub.execute_input": "2021-06-27T16:35:02.508137Z",
     "iopub.status.busy": "2021-06-27T16:35:02.507834Z",
     "iopub.status.idle": "2021-06-27T16:35:02.817714Z",
     "shell.execute_reply": "2021-06-27T16:35:02.816957Z",
     "shell.execute_reply.started": "2021-06-27T16:35:02.508106Z"
    }
   },
   "outputs": [],
   "source": [
    "DATA_DIR = '../input/sf-dst-car-price-prediction-part2/'\n",
    "train = pd.read_csv(DATA_DIR + 'train.csv')\n",
    "test = pd.read_csv(DATA_DIR + 'test.csv')\n",
    "sample_submission = pd.read_csv(DATA_DIR + 'sample_submission.csv')"
   ]
  },
  {
   "cell_type": "code",
   "execution_count": null,
   "metadata": {
    "execution": {
     "iopub.execute_input": "2021-06-27T16:35:02.8192Z",
     "iopub.status.busy": "2021-06-27T16:35:02.818849Z",
     "iopub.status.idle": "2021-06-27T16:35:02.854747Z",
     "shell.execute_reply": "2021-06-27T16:35:02.854003Z",
     "shell.execute_reply.started": "2021-06-27T16:35:02.81914Z"
    }
   },
   "outputs": [],
   "source": [
    "train.info()"
   ]
  },
  {
   "cell_type": "code",
   "execution_count": null,
   "metadata": {
    "execution": {
     "iopub.execute_input": "2021-06-27T16:35:02.858005Z",
     "iopub.status.busy": "2021-06-27T16:35:02.857695Z",
     "iopub.status.idle": "2021-06-27T16:35:02.930857Z",
     "shell.execute_reply": "2021-06-27T16:35:02.930162Z",
     "shell.execute_reply.started": "2021-06-27T16:35:02.857977Z"
    }
   },
   "outputs": [],
   "source": [
    "train.nunique()"
   ]
  },
  {
   "cell_type": "markdown",
   "metadata": {},
   "source": [
    "Сразу переименуем столбцы. Названия кириллицей выглядят противоестественно."
   ]
  },
  {
   "cell_type": "code",
   "execution_count": null,
   "metadata": {
    "execution": {
     "iopub.execute_input": "2021-06-27T16:35:02.934433Z",
     "iopub.status.busy": "2021-06-27T16:35:02.934155Z",
     "iopub.status.idle": "2021-06-27T16:35:02.942927Z",
     "shell.execute_reply": "2021-06-27T16:35:02.942097Z",
     "shell.execute_reply.started": "2021-06-27T16:35:02.9344Z"
    }
   },
   "outputs": [],
   "source": [
    "rename = {\n",
    "    'Владельцы': 'ownersCount',\n",
    "    'Владение': 'ownershipTime',\n",
    "    'ПТС': 'titleStatus',\n",
    "    'Привод': 'driveType',\n",
    "    'Руль': 'steerSide'\n",
    "}\n",
    "train = train.rename(columns = rename)\n",
    "test = test.rename(columns = rename)"
   ]
  },
  {
   "cell_type": "code",
   "execution_count": null,
   "metadata": {
    "execution": {
     "iopub.execute_input": "2021-06-27T16:35:02.944684Z",
     "iopub.status.busy": "2021-06-27T16:35:02.944313Z",
     "iopub.status.idle": "2021-06-27T16:35:02.964187Z",
     "shell.execute_reply": "2021-06-27T16:35:02.963282Z",
     "shell.execute_reply.started": "2021-06-27T16:35:02.944645Z"
    }
   },
   "outputs": [],
   "source": [
    "train.isna().sum()"
   ]
  },
  {
   "cell_type": "code",
   "execution_count": null,
   "metadata": {
    "execution": {
     "iopub.execute_input": "2021-06-27T16:35:02.966389Z",
     "iopub.status.busy": "2021-06-27T16:35:02.965983Z",
     "iopub.status.idle": "2021-06-27T16:35:02.977702Z",
     "shell.execute_reply": "2021-06-27T16:35:02.976605Z",
     "shell.execute_reply.started": "2021-06-27T16:35:02.966352Z"
    }
   },
   "outputs": [],
   "source": [
    "test.isna().sum()"
   ]
  },
  {
   "cell_type": "markdown",
   "metadata": {},
   "source": [
    "Пропуски есть по сути только в одном столбце, ещё в одном в трейне есть 1 пропуск. Дозаполним потом."
   ]
  },
  {
   "cell_type": "markdown",
   "metadata": {},
   "source": [
    "## Model 1: Создадим \"наивную\" модель \n",
    "Эта модель будет предсказывать среднюю цену по модели и году выпуска. \n",
    "C ней будем сравнивать другие модели.\n",
    "\n"
   ]
  },
  {
   "cell_type": "code",
   "execution_count": null,
   "metadata": {
    "execution": {
     "iopub.execute_input": "2021-06-27T16:35:02.979518Z",
     "iopub.status.busy": "2021-06-27T16:35:02.979158Z",
     "iopub.status.idle": "2021-06-27T16:35:02.989848Z",
     "shell.execute_reply": "2021-06-27T16:35:02.989148Z",
     "shell.execute_reply.started": "2021-06-27T16:35:02.979474Z"
    }
   },
   "outputs": [],
   "source": [
    "# split данных\n",
    "data_train, data_test = train_test_split(train, test_size=0.15, shuffle=True, random_state=RANDOM_SEED)"
   ]
  },
  {
   "cell_type": "code",
   "execution_count": null,
   "metadata": {
    "execution": {
     "iopub.execute_input": "2021-06-27T16:35:02.992001Z",
     "iopub.status.busy": "2021-06-27T16:35:02.991437Z",
     "iopub.status.idle": "2021-06-27T16:35:06.356158Z",
     "shell.execute_reply": "2021-06-27T16:35:06.355231Z",
     "shell.execute_reply.started": "2021-06-27T16:35:02.991964Z"
    }
   },
   "outputs": [],
   "source": [
    "# Наивная модель\n",
    "predicts = []\n",
    "for index, row in pd.DataFrame(data_test[['model_info', 'productionDate']]).iterrows():\n",
    "    query = f\"model_info == '{row[0]}' and productionDate == '{row[1]}'\"\n",
    "    predicts.append(data_train.query(query)['price'].median())\n",
    "\n",
    "# заполним не найденные совпадения\n",
    "predicts = pd.DataFrame(predicts)\n",
    "predicts = predicts.fillna(predicts.median())\n",
    "\n",
    "# округлим\n",
    "predicts = (predicts // 1000) * 1000\n",
    "\n",
    "#оцениваем точность\n",
    "print(f\"Точность наивной модели по метрике MAPE: {(mape(data_test['price'], predicts.values[:, 0]))*100:0.2f}%\")"
   ]
  },
  {
   "cell_type": "markdown",
   "metadata": {},
   "source": [
    "## Собственно EDA"
   ]
  },
  {
   "cell_type": "markdown",
   "metadata": {},
   "source": [
    "Проведем быстрый анализ данных для того, чтобы понимать, сможет ли с этими данными работать наш алгоритм."
   ]
  },
  {
   "cell_type": "markdown",
   "metadata": {},
   "source": [
    "Посмотрим, как выглядят распределения числовых признаков:"
   ]
  },
  {
   "cell_type": "code",
   "execution_count": null,
   "metadata": {
    "_kg_hide-input": true,
    "execution": {
     "iopub.execute_input": "2021-06-27T16:35:06.357933Z",
     "iopub.status.busy": "2021-06-27T16:35:06.357449Z",
     "iopub.status.idle": "2021-06-27T16:35:06.894766Z",
     "shell.execute_reply": "2021-06-27T16:35:06.893931Z",
     "shell.execute_reply.started": "2021-06-27T16:35:06.357895Z"
    }
   },
   "outputs": [],
   "source": [
    "#посмотрим, как выглядят распределения числовых признаков\n",
    "def visualize_distributions(titles_values_dict):\n",
    "    columns = min(3, len(titles_values_dict))\n",
    "    rows = (len(titles_values_dict) - 1) // columns + 1\n",
    "    fig = plt.figure(figsize = (columns * 6, rows * 4))\n",
    "    for i, (title, values) in enumerate(titles_values_dict.items()):\n",
    "        hist, bins = np.histogram(values, bins = 20)\n",
    "        ax = fig.add_subplot(rows, columns, i + 1)\n",
    "        ax.bar(bins[:-1], hist, width = (bins[1] - bins[0]) * 0.7)\n",
    "        ax.set_title(title)\n",
    "    plt.show()\n",
    "\n",
    "visualize_distributions({\n",
    "    'mileage': train['mileage'].dropna(),\n",
    "    'modelDate': train['modelDate'].dropna(),\n",
    "    'productionDate': train['productionDate'].dropna()\n",
    "})"
   ]
  },
  {
   "cell_type": "code",
   "execution_count": null,
   "metadata": {
    "execution": {
     "iopub.execute_input": "2021-06-27T16:35:06.896527Z",
     "iopub.status.busy": "2021-06-27T16:35:06.89598Z",
     "iopub.status.idle": "2021-06-27T16:35:06.903781Z",
     "shell.execute_reply": "2021-06-27T16:35:06.902961Z",
     "shell.execute_reply.started": "2021-06-27T16:35:06.896483Z"
    }
   },
   "outputs": [],
   "source": [
    "def numeric_plots(frame, column, nbins = 50):\n",
    "    with sns.axes_style(\"white\"):\n",
    "        fig = plt.figure(figsize=(12, 5))\n",
    "        gs = fig.add_gridspec(1, 2)\n",
    "        ax1 = fig.add_subplot(gs[0, 0])\n",
    "        sns.histplot(data=frame, x=frame[column], hue='sample', ax=ax1, bins=nbins)\n",
    "        ax2 = fig.add_subplot(gs[0, 1])\n",
    "        sns.boxplot(data=frame[column])\n",
    "        fig.tight_layout()"
   ]
  },
  {
   "cell_type": "code",
   "execution_count": null,
   "metadata": {
    "execution": {
     "iopub.execute_input": "2021-06-27T16:35:06.905611Z",
     "iopub.status.busy": "2021-06-27T16:35:06.905008Z",
     "iopub.status.idle": "2021-06-27T16:35:06.914077Z",
     "shell.execute_reply": "2021-06-27T16:35:06.912888Z",
     "shell.execute_reply.started": "2021-06-27T16:35:06.905573Z"
    }
   },
   "outputs": [],
   "source": [
    "def numeric_hist(frame, column, nbins = 50):\n",
    "    with sns.axes_style(\"white\"):\n",
    "        fig = plt.figure(figsize=(5, 5))\n",
    "        sns.histplot(data=frame, x=frame[column], hue='sample', bins=nbins)\n",
    "        fig.tight_layout()"
   ]
  },
  {
   "cell_type": "markdown",
   "metadata": {},
   "source": [
    "Итого:\n",
    "* CatBoost сможет работать с признаками и в таком виде, но для нейросети нужны нормированные данные."
   ]
  },
  {
   "cell_type": "markdown",
   "metadata": {},
   "source": [
    "**Мысли по поводу нормализации датасета** \\\n",
    "Кажется, что совместная нормализация данных трейна и теста некорректна, ведь при подсчёте среднего и стандартного отклонения произойдёт утечка данных из теста в трейн. Корректно было бы определить параметры нормализации на трейне, а потом с их помощью нормализовать тест.\n",
    "Но тут встаёт другая проблема - если данные трейна и теста были собраны в разное время (как отмечалось на канале в слаке), то такой подход может ухудшить результат, ведь мы будем делать какое-либо машинное обучение на устаревших данных. Поэтому сейчас оставим датасет объединённым, но для целей прода такой подход выглядит некорректным, скорее имеет смысл регулярно переобучать модель на актуальных данных трейна."
   ]
  },
  {
   "cell_type": "code",
   "execution_count": null,
   "metadata": {
    "execution": {
     "iopub.execute_input": "2021-06-27T16:35:06.916205Z",
     "iopub.status.busy": "2021-06-27T16:35:06.915762Z",
     "iopub.status.idle": "2021-06-27T16:35:06.939046Z",
     "shell.execute_reply": "2021-06-27T16:35:06.938151Z",
     "shell.execute_reply.started": "2021-06-27T16:35:06.916152Z"
    }
   },
   "outputs": [],
   "source": [
    "train['sample'] = 1 # помечаем где у нас трейн\n",
    "test['sample'] = 0 # помечаем где у нас тест\n",
    "test['price'] = 0 # в тесте у нас нет значения price, мы его должны предсказать, поэтому пока просто заполняем нулями\n",
    "\n",
    "data = test.append(train, sort=False).reset_index(drop=True) # объединяем\n",
    "print(train.shape, test.shape, data.shape)"
   ]
  },
  {
   "cell_type": "markdown",
   "metadata": {},
   "source": [
    "## Обработка числовых признаков"
   ]
  },
  {
   "cell_type": "markdown",
   "metadata": {},
   "source": [
    "### Пробег"
   ]
  },
  {
   "cell_type": "code",
   "execution_count": null,
   "metadata": {
    "execution": {
     "iopub.execute_input": "2021-06-27T16:35:06.941016Z",
     "iopub.status.busy": "2021-06-27T16:35:06.940683Z",
     "iopub.status.idle": "2021-06-27T16:35:06.947121Z",
     "shell.execute_reply": "2021-06-27T16:35:06.94626Z",
     "shell.execute_reply.started": "2021-06-27T16:35:06.940982Z"
    }
   },
   "outputs": [],
   "source": [
    "# Пропусков нет\n",
    "data.mileage.isna().sum()"
   ]
  },
  {
   "cell_type": "code",
   "execution_count": null,
   "metadata": {
    "execution": {
     "iopub.execute_input": "2021-06-27T16:35:06.949479Z",
     "iopub.status.busy": "2021-06-27T16:35:06.948949Z",
     "iopub.status.idle": "2021-06-27T16:35:07.586365Z",
     "shell.execute_reply": "2021-06-27T16:35:07.585467Z",
     "shell.execute_reply.started": "2021-06-27T16:35:06.949314Z"
    }
   },
   "outputs": [],
   "source": [
    "numeric_plots(data, 'mileage')"
   ]
  },
  {
   "cell_type": "code",
   "execution_count": null,
   "metadata": {
    "execution": {
     "iopub.execute_input": "2021-06-27T16:35:07.587814Z",
     "iopub.status.busy": "2021-06-27T16:35:07.587478Z",
     "iopub.status.idle": "2021-06-27T16:35:07.62164Z",
     "shell.execute_reply": "2021-06-27T16:35:07.620889Z",
     "shell.execute_reply.started": "2021-06-27T16:35:07.587778Z"
    }
   },
   "outputs": [],
   "source": [
    "#Есть какой-то автомобиль с миллионом км пробега, явный выброс. Что это такое? Вообще посмотрим рекордсменов пробега\n",
    "data[data.mileage.isin(data.mileage.nlargest(5))]"
   ]
  },
  {
   "cell_type": "markdown",
   "metadata": {},
   "source": [
    "Очень хочется выкинуть автомобиль с 10000000 км пробега, но он в тесте. А в трейне есть мерседес 2008 года с 999999 км.\n",
    "Явно автор объявления намеренно ввёл некорректные данные. Надо бы что-то с этими двумя выбросами сделать. Выкидывать не стоит,\n",
    "ведь один из них в тесте, и к тому же оба принадлежат к довольно редкому классу родстера. Поэтому приравняем их пробег к медиане.\n",
    "Распределение имеет отрицательное смещение.\n",
    "\n",
    "**Вместо предложенного в baseline логарифмирования я решил воспользоваться нормализацией через медиану и стандартное отклонение. Этот способ кажется мне лучше, потому что получаемое распределение имеет нулевое среднее и единичное стандартное отклонение.**"
   ]
  },
  {
   "cell_type": "code",
   "execution_count": null,
   "metadata": {
    "execution": {
     "iopub.execute_input": "2021-06-27T16:35:07.623743Z",
     "iopub.status.busy": "2021-06-27T16:35:07.623368Z",
     "iopub.status.idle": "2021-06-27T16:35:07.6304Z",
     "shell.execute_reply": "2021-06-27T16:35:07.629483Z",
     "shell.execute_reply.started": "2021-06-27T16:35:07.623708Z"
    }
   },
   "outputs": [],
   "source": [
    "data.loc[data.mileage.isin(data.mileage.nlargest(2)), 'mileage'] = data.mileage.median()"
   ]
  },
  {
   "cell_type": "code",
   "execution_count": null,
   "metadata": {
    "execution": {
     "iopub.execute_input": "2021-06-27T16:35:07.632441Z",
     "iopub.status.busy": "2021-06-27T16:35:07.631878Z",
     "iopub.status.idle": "2021-06-27T16:35:08.159549Z",
     "shell.execute_reply": "2021-06-27T16:35:08.158856Z",
     "shell.execute_reply.started": "2021-06-27T16:35:07.6324Z"
    }
   },
   "outputs": [],
   "source": [
    "rscaler = RobustScaler()\n",
    "data['norm_mileage'] = rscaler.fit_transform(data.mileage.values.reshape(-1,1))\n",
    "numeric_hist(data, 'norm_mileage')"
   ]
  },
  {
   "cell_type": "markdown",
   "metadata": {},
   "source": [
    "## Год выпуска модели"
   ]
  },
  {
   "cell_type": "markdown",
   "metadata": {},
   "source": [
    "Выбросы есть, но они адекватные. Делаем то же самое, что и с моделью"
   ]
  },
  {
   "cell_type": "code",
   "execution_count": null,
   "metadata": {
    "execution": {
     "iopub.execute_input": "2021-06-27T16:35:08.161356Z",
     "iopub.status.busy": "2021-06-27T16:35:08.161005Z",
     "iopub.status.idle": "2021-06-27T16:35:08.785657Z",
     "shell.execute_reply": "2021-06-27T16:35:08.784911Z",
     "shell.execute_reply.started": "2021-06-27T16:35:08.161318Z"
    }
   },
   "outputs": [],
   "source": [
    "numeric_plots(data, 'modelDate', nbins = data.modelDate.max() - data.modelDate.min())"
   ]
  },
  {
   "cell_type": "code",
   "execution_count": null,
   "metadata": {
    "execution": {
     "iopub.execute_input": "2021-06-27T16:35:08.787742Z",
     "iopub.status.busy": "2021-06-27T16:35:08.787379Z",
     "iopub.status.idle": "2021-06-27T16:35:09.342357Z",
     "shell.execute_reply": "2021-06-27T16:35:09.341403Z",
     "shell.execute_reply.started": "2021-06-27T16:35:08.787706Z"
    }
   },
   "outputs": [],
   "source": [
    "data['norm_modelDate'] = rscaler.fit_transform(data.modelDate.values.reshape(-1,1))\n",
    "numeric_hist(data, 'norm_modelDate')"
   ]
  },
  {
   "cell_type": "markdown",
   "metadata": {},
   "source": [
    "## Год выпуска автомобиля"
   ]
  },
  {
   "cell_type": "markdown",
   "metadata": {},
   "source": [
    "Выбросы есть, но они адекватные."
   ]
  },
  {
   "cell_type": "code",
   "execution_count": null,
   "metadata": {
    "execution": {
     "iopub.execute_input": "2021-06-27T16:35:09.34442Z",
     "iopub.status.busy": "2021-06-27T16:35:09.344016Z",
     "iopub.status.idle": "2021-06-27T16:35:10.227123Z",
     "shell.execute_reply": "2021-06-27T16:35:10.226369Z",
     "shell.execute_reply.started": "2021-06-27T16:35:09.344379Z"
    }
   },
   "outputs": [],
   "source": [
    "numeric_plots(data, 'productionDate', nbins = data.productionDate.max() - data.productionDate.min())"
   ]
  },
  {
   "cell_type": "code",
   "execution_count": null,
   "metadata": {
    "execution": {
     "iopub.execute_input": "2021-06-27T16:35:10.229017Z",
     "iopub.status.busy": "2021-06-27T16:35:10.228651Z",
     "iopub.status.idle": "2021-06-27T16:35:10.714941Z",
     "shell.execute_reply": "2021-06-27T16:35:10.714121Z",
     "shell.execute_reply.started": "2021-06-27T16:35:10.228978Z"
    }
   },
   "outputs": [],
   "source": [
    "data['norm_productionDate'] = rscaler.fit_transform(data.productionDate.values.reshape(-1,1))\n",
    "numeric_hist(data, 'norm_productionDate', nbins = 40)"
   ]
  },
  {
   "cell_type": "markdown",
   "metadata": {},
   "source": [
    "## Объём двигателя\n",
    "Посмотрим, какие объёмы вообще бывают."
   ]
  },
  {
   "cell_type": "code",
   "execution_count": null,
   "metadata": {
    "execution": {
     "iopub.execute_input": "2021-06-27T16:35:10.71669Z",
     "iopub.status.busy": "2021-06-27T16:35:10.716214Z",
     "iopub.status.idle": "2021-06-27T16:35:10.723997Z",
     "shell.execute_reply": "2021-06-27T16:35:10.723113Z",
     "shell.execute_reply.started": "2021-06-27T16:35:10.716651Z"
    }
   },
   "outputs": [],
   "source": [
    "data.engineDisplacement.unique()\n",
    "#есть неопределённый объём двигателя."
   ]
  },
  {
   "cell_type": "code",
   "execution_count": null,
   "metadata": {
    "execution": {
     "iopub.execute_input": "2021-06-27T16:35:10.726469Z",
     "iopub.status.busy": "2021-06-27T16:35:10.725804Z",
     "iopub.status.idle": "2021-06-27T16:35:10.760932Z",
     "shell.execute_reply": "2021-06-27T16:35:10.759756Z",
     "shell.execute_reply.started": "2021-06-27T16:35:10.726429Z"
    }
   },
   "outputs": [],
   "source": [
    "data.query('engineDisplacement == \"undefined LTR\"')"
   ]
  },
  {
   "cell_type": "markdown",
   "metadata": {},
   "source": [
    "Понятно, это всё электромобили. Поставим у них объём двигателя 0. Отдельную фичу на электромобиль вводить не будем, это уже заложено в fuelType.\n",
    "Из остальных значений вытащим объём в литрах как числовое значение."
   ]
  },
  {
   "cell_type": "code",
   "execution_count": null,
   "metadata": {
    "execution": {
     "iopub.execute_input": "2021-06-27T16:35:10.762847Z",
     "iopub.status.busy": "2021-06-27T16:35:10.762464Z",
     "iopub.status.idle": "2021-06-27T16:35:10.775985Z",
     "shell.execute_reply": "2021-06-27T16:35:10.775099Z",
     "shell.execute_reply.started": "2021-06-27T16:35:10.762809Z"
    }
   },
   "outputs": [],
   "source": [
    "data['engineDisplacement'] = data.engineDisplacement.apply(lambda x: float(x.split()[0]) if 'undefined' not in x else 0.0)"
   ]
  },
  {
   "cell_type": "code",
   "execution_count": null,
   "metadata": {
    "execution": {
     "iopub.execute_input": "2021-06-27T16:35:10.777508Z",
     "iopub.status.busy": "2021-06-27T16:35:10.777161Z",
     "iopub.status.idle": "2021-06-27T16:35:11.404182Z",
     "shell.execute_reply": "2021-06-27T16:35:11.403315Z",
     "shell.execute_reply.started": "2021-06-27T16:35:10.777473Z"
    }
   },
   "outputs": [],
   "source": [
    "numeric_plots(data, 'engineDisplacement', nbins = 10)"
   ]
  },
  {
   "cell_type": "code",
   "execution_count": null,
   "metadata": {
    "execution": {
     "iopub.execute_input": "2021-06-27T16:35:11.418035Z",
     "iopub.status.busy": "2021-06-27T16:35:11.415961Z",
     "iopub.status.idle": "2021-06-27T16:35:11.826718Z",
     "shell.execute_reply": "2021-06-27T16:35:11.825892Z",
     "shell.execute_reply.started": "2021-06-27T16:35:11.417965Z"
    }
   },
   "outputs": [],
   "source": [
    "data['norm_engineDisplacement'] = rscaler.fit_transform(data.engineDisplacement.values.reshape(-1,1))\n",
    "numeric_hist(data, 'norm_engineDisplacement', nbins = 10)"
   ]
  },
  {
   "cell_type": "markdown",
   "metadata": {},
   "source": [
    "# Мощность двигателя"
   ]
  },
  {
   "cell_type": "code",
   "execution_count": null,
   "metadata": {
    "execution": {
     "iopub.execute_input": "2021-06-27T16:35:11.82861Z",
     "iopub.status.busy": "2021-06-27T16:35:11.8281Z",
     "iopub.status.idle": "2021-06-27T16:35:11.836839Z",
     "shell.execute_reply": "2021-06-27T16:35:11.836096Z",
     "shell.execute_reply.started": "2021-06-27T16:35:11.828572Z"
    }
   },
   "outputs": [],
   "source": [
    "data.enginePower.unique()"
   ]
  },
  {
   "cell_type": "code",
   "execution_count": null,
   "metadata": {
    "execution": {
     "iopub.execute_input": "2021-06-27T16:35:11.840268Z",
     "iopub.status.busy": "2021-06-27T16:35:11.839934Z",
     "iopub.status.idle": "2021-06-27T16:35:11.853178Z",
     "shell.execute_reply": "2021-06-27T16:35:11.852425Z",
     "shell.execute_reply.started": "2021-06-27T16:35:11.840238Z"
    }
   },
   "outputs": [],
   "source": [
    "data['enginePower'] = data.enginePower.apply(lambda x: float(x.split()[0]))"
   ]
  },
  {
   "cell_type": "code",
   "execution_count": null,
   "metadata": {
    "execution": {
     "iopub.execute_input": "2021-06-27T16:35:11.854725Z",
     "iopub.status.busy": "2021-06-27T16:35:11.854361Z",
     "iopub.status.idle": "2021-06-27T16:35:12.361298Z",
     "shell.execute_reply": "2021-06-27T16:35:12.360586Z",
     "shell.execute_reply.started": "2021-06-27T16:35:11.854686Z"
    }
   },
   "outputs": [],
   "source": [
    "numeric_plots(data, 'enginePower', nbins = 20)"
   ]
  },
  {
   "cell_type": "markdown",
   "metadata": {},
   "source": [
    "Посмотрим на выбросы свеху."
   ]
  },
  {
   "cell_type": "code",
   "execution_count": null,
   "metadata": {
    "execution": {
     "iopub.execute_input": "2021-06-27T16:35:12.363159Z",
     "iopub.status.busy": "2021-06-27T16:35:12.362746Z",
     "iopub.status.idle": "2021-06-27T16:35:12.395818Z",
     "shell.execute_reply": "2021-06-27T16:35:12.395111Z",
     "shell.execute_reply.started": "2021-06-27T16:35:12.363121Z"
    }
   },
   "outputs": [],
   "source": [
    "data[data.enginePower.isin(data.enginePower.nlargest(5))]"
   ]
  },
  {
   "cell_type": "markdown",
   "metadata": {},
   "source": [
    "Данные адекватные, оставим."
   ]
  },
  {
   "cell_type": "code",
   "execution_count": null,
   "metadata": {
    "execution": {
     "iopub.execute_input": "2021-06-27T16:35:12.397696Z",
     "iopub.status.busy": "2021-06-27T16:35:12.397321Z",
     "iopub.status.idle": "2021-06-27T16:35:12.824696Z",
     "shell.execute_reply": "2021-06-27T16:35:12.824001Z",
     "shell.execute_reply.started": "2021-06-27T16:35:12.397658Z"
    }
   },
   "outputs": [],
   "source": [
    "data['norm_enginePower'] = rscaler.fit_transform(data.enginePower.values.reshape(-1,1))\n",
    "numeric_hist(data, 'norm_enginePower', nbins = 20)"
   ]
  },
  {
   "cell_type": "markdown",
   "metadata": {},
   "source": [
    "## Количество владельцев\n",
    "Количество владельцев неточное, есть категория 3 и более. По сути тут всего 3 значения. Сделаем это фичей с LabelEncoding. Но и числовое значения нам чуть позже понадобится. Ещё и 1 пропуск есть, заполним модой."
   ]
  },
  {
   "cell_type": "code",
   "execution_count": null,
   "metadata": {
    "execution": {
     "iopub.execute_input": "2021-06-27T16:35:12.826613Z",
     "iopub.status.busy": "2021-06-27T16:35:12.826211Z",
     "iopub.status.idle": "2021-06-27T16:35:12.834133Z",
     "shell.execute_reply": "2021-06-27T16:35:12.833207Z",
     "shell.execute_reply.started": "2021-06-27T16:35:12.826563Z"
    }
   },
   "outputs": [],
   "source": [
    "data.ownersCount.unique()"
   ]
  },
  {
   "cell_type": "code",
   "execution_count": null,
   "metadata": {
    "execution": {
     "iopub.execute_input": "2021-06-27T16:35:12.836187Z",
     "iopub.status.busy": "2021-06-27T16:35:12.835757Z",
     "iopub.status.idle": "2021-06-27T16:35:12.848262Z",
     "shell.execute_reply": "2021-06-27T16:35:12.847154Z",
     "shell.execute_reply.started": "2021-06-27T16:35:12.836134Z"
    }
   },
   "outputs": [],
   "source": [
    "data.ownersCount.mode()"
   ]
  },
  {
   "cell_type": "code",
   "execution_count": null,
   "metadata": {
    "execution": {
     "iopub.execute_input": "2021-06-27T16:35:12.850375Z",
     "iopub.status.busy": "2021-06-27T16:35:12.849978Z",
     "iopub.status.idle": "2021-06-27T16:35:12.859704Z",
     "shell.execute_reply": "2021-06-27T16:35:12.858789Z",
     "shell.execute_reply.started": "2021-06-27T16:35:12.850338Z"
    }
   },
   "outputs": [],
   "source": [
    "data.loc[data.ownersCount.isna(), 'ownersCount'] = '3 или более'"
   ]
  },
  {
   "cell_type": "code",
   "execution_count": null,
   "metadata": {
    "execution": {
     "iopub.execute_input": "2021-06-27T16:35:12.861579Z",
     "iopub.status.busy": "2021-06-27T16:35:12.861213Z",
     "iopub.status.idle": "2021-06-27T16:35:12.876954Z",
     "shell.execute_reply": "2021-06-27T16:35:12.876018Z",
     "shell.execute_reply.started": "2021-06-27T16:35:12.861529Z"
    }
   },
   "outputs": [],
   "source": [
    "data['ownersNumber']=data['ownersCount'].apply(lambda x: int(x.split()[0]))"
   ]
  },
  {
   "cell_type": "code",
   "execution_count": null,
   "metadata": {
    "execution": {
     "iopub.execute_input": "2021-06-27T16:35:12.879698Z",
     "iopub.status.busy": "2021-06-27T16:35:12.878992Z",
     "iopub.status.idle": "2021-06-27T16:35:13.173817Z",
     "shell.execute_reply": "2021-06-27T16:35:13.172909Z",
     "shell.execute_reply.started": "2021-06-27T16:35:12.879659Z"
    }
   },
   "outputs": [],
   "source": [
    "numeric_hist(data, 'ownersNumber', 3)"
   ]
  },
  {
   "cell_type": "markdown",
   "metadata": {},
   "source": [
    "## Время владения\n",
    "Тут очень много пропусков. Посмотрим в чём дело."
   ]
  },
  {
   "cell_type": "code",
   "execution_count": null,
   "metadata": {
    "execution": {
     "iopub.execute_input": "2021-06-27T16:35:13.175682Z",
     "iopub.status.busy": "2021-06-27T16:35:13.175136Z",
     "iopub.status.idle": "2021-06-27T16:35:13.223472Z",
     "shell.execute_reply": "2021-06-27T16:35:13.222571Z",
     "shell.execute_reply.started": "2021-06-27T16:35:13.175638Z"
    }
   },
   "outputs": [],
   "source": [
    "data[data.ownershipTime.isna()]"
   ]
  },
  {
   "cell_type": "markdown",
   "metadata": {},
   "source": [
    "Заморочимся и заполним пропуски так:\n",
    "$$ Время\\ владения = 12 \\cdot \\frac{2021-год\\ производства}{количество\\ владельцев}$$\n",
    "Заполненное время владения пересчитаем\n"
   ]
  },
  {
   "cell_type": "code",
   "execution_count": null,
   "metadata": {
    "execution": {
     "iopub.execute_input": "2021-06-27T16:35:13.225522Z",
     "iopub.status.busy": "2021-06-27T16:35:13.225129Z",
     "iopub.status.idle": "2021-06-27T16:35:13.233146Z",
     "shell.execute_reply": "2021-06-27T16:35:13.232267Z",
     "shell.execute_reply.started": "2021-06-27T16:35:13.225482Z"
    }
   },
   "outputs": [],
   "source": [
    "def fill_own_time(row):\n",
    "    if pd.isna(row['ownershipTime']):\n",
    "        return 12*(2021-row['productionDate'])/row['ownersNumber']\n",
    "    elif re.match('.+(лет|год*).*(месяц*)', row['ownershipTime']):\n",
    "        splitted = row['ownershipTime'].split()\n",
    "        return 12*int(splitted[0]) + int(splitted[3])\n",
    "    elif re.match('.+(лет|год*)', row['ownershipTime']):\n",
    "        splitted = row['ownershipTime'].split()\n",
    "        return 12*int(splitted[0])\n",
    "    elif re.match('.+месяц', row['ownershipTime']):\n",
    "        splitted = row['ownershipTime'].split()\n",
    "        return int(splitted[0])\n",
    "    else:\n",
    "        raise RuntimeError"
   ]
  },
  {
   "cell_type": "code",
   "execution_count": null,
   "metadata": {
    "execution": {
     "iopub.execute_input": "2021-06-27T16:35:13.235248Z",
     "iopub.status.busy": "2021-06-27T16:35:13.234825Z",
     "iopub.status.idle": "2021-06-27T16:35:13.434686Z",
     "shell.execute_reply": "2021-06-27T16:35:13.433943Z",
     "shell.execute_reply.started": "2021-06-27T16:35:13.23521Z"
    }
   },
   "outputs": [],
   "source": [
    "data['ownershipTime'] = data.apply(fill_own_time, axis = 1)"
   ]
  },
  {
   "cell_type": "code",
   "execution_count": null,
   "metadata": {
    "execution": {
     "iopub.execute_input": "2021-06-27T16:35:13.436456Z",
     "iopub.status.busy": "2021-06-27T16:35:13.436097Z",
     "iopub.status.idle": "2021-06-27T16:35:13.934033Z",
     "shell.execute_reply": "2021-06-27T16:35:13.930974Z",
     "shell.execute_reply.started": "2021-06-27T16:35:13.43642Z"
    }
   },
   "outputs": [],
   "source": [
    "numeric_hist(data,'ownershipTime')"
   ]
  },
  {
   "cell_type": "code",
   "execution_count": null,
   "metadata": {
    "execution": {
     "iopub.execute_input": "2021-06-27T16:35:13.935926Z",
     "iopub.status.busy": "2021-06-27T16:35:13.935596Z",
     "iopub.status.idle": "2021-06-27T16:35:14.43789Z",
     "shell.execute_reply": "2021-06-27T16:35:14.436974Z",
     "shell.execute_reply.started": "2021-06-27T16:35:13.93589Z"
    }
   },
   "outputs": [],
   "source": [
    "data['norm_ownershipTime'] = rscaler.fit_transform(data.ownershipTime.values.reshape(-1,1))\n",
    "numeric_hist(data,'norm_ownershipTime')"
   ]
  },
  {
   "cell_type": "markdown",
   "metadata": {},
   "source": [
    "## Категориальные признаки.\n",
    "Количество дверей, владельцев и время владения, хотя они и имеют отношения порядка, всё же отнесём к категориальным признакам. Посмотрим уникальные значения по категориальным фичам."
   ]
  },
  {
   "cell_type": "code",
   "execution_count": null,
   "metadata": {
    "execution": {
     "iopub.execute_input": "2021-06-27T16:35:14.439629Z",
     "iopub.status.busy": "2021-06-27T16:35:14.43914Z",
     "iopub.status.idle": "2021-06-27T16:35:14.444595Z",
     "shell.execute_reply": "2021-06-27T16:35:14.443403Z",
     "shell.execute_reply.started": "2021-06-27T16:35:14.439591Z"
    }
   },
   "outputs": [],
   "source": [
    "categorical_features = ['bodyType', 'brand', 'color', 'fuelType', 'name','model_info',\n",
    "                        'numberOfDoors', 'vehicleTransmission', 'ownersCount',\n",
    "                        'titleStatus', 'driveType', 'steerSide']"
   ]
  },
  {
   "cell_type": "code",
   "execution_count": null,
   "metadata": {
    "execution": {
     "iopub.execute_input": "2021-06-27T16:35:14.446641Z",
     "iopub.status.busy": "2021-06-27T16:35:14.446115Z",
     "iopub.status.idle": "2021-06-27T16:35:14.471272Z",
     "shell.execute_reply": "2021-06-27T16:35:14.47055Z",
     "shell.execute_reply.started": "2021-06-27T16:35:14.446602Z"
    }
   },
   "outputs": [],
   "source": [
    "for feature in categorical_features:\n",
    "    if feature != 'name':\n",
    "        print(f'***********************{feature}************************')\n",
    "        print(data[feature].unique())\n",
    "        print('******************************************************\\n\\n')"
   ]
  },
  {
   "cell_type": "markdown",
   "metadata": {},
   "source": [
    "С полем \"name\" разговор отдельный, слишком много разных имён. Отсюда можно вытащить разные фичи. Пока пойдём наивным путём и посмотрим все \"слова\" (без цифр), которые встречаются в имени, их не так много на самом деле."
   ]
  },
  {
   "cell_type": "code",
   "execution_count": null,
   "metadata": {
    "execution": {
     "iopub.execute_input": "2021-06-27T16:35:14.473063Z",
     "iopub.status.busy": "2021-06-27T16:35:14.472697Z",
     "iopub.status.idle": "2021-06-27T16:35:14.488038Z",
     "shell.execute_reply": "2021-06-27T16:35:14.487131Z",
     "shell.execute_reply.started": "2021-06-27T16:35:14.473026Z"
    }
   },
   "outputs": [],
   "source": [
    "words = set([x for x in itertools.chain(*list(map(lambda x: x.lower().split(), data.name.unique()))) if x.isalpha()])\n",
    "words"
   ]
  },
  {
   "cell_type": "markdown",
   "metadata": {},
   "source": [
    "Нагенерим из этого фичей. Нам надо только выкинуть описание трансмиссии, однобуквенные штуки, повторы и т.п. Вручную зададим список слов-фичей и будем определять, есть ли они в имени, если есть - то ставим фичу = 1 по принципу OneHotEncoding"
   ]
  },
  {
   "cell_type": "code",
   "execution_count": null,
   "metadata": {
    "execution": {
     "iopub.execute_input": "2021-06-27T16:35:14.489766Z",
     "iopub.status.busy": "2021-06-27T16:35:14.489417Z",
     "iopub.status.idle": "2021-06-27T16:35:14.496817Z",
     "shell.execute_reply": "2021-06-27T16:35:14.496114Z",
     "shell.execute_reply.started": "2021-06-27T16:35:14.48973Z"
    }
   },
   "outputs": [],
   "source": [
    "keywords = {'activehybrid',\n",
    " 'amg',\n",
    " 'blueefficiency',\n",
    " 'bluetec',\n",
    " 'cdi',\n",
    " 'clean',\n",
    " 'competition',\n",
    " 'gt',\n",
    " 'hybrid',\n",
    " 'long',\n",
    " 'pack',\n",
    " 'plus',\n",
    " 'sdrive',\n",
    " 'tdi',\n",
    " 'tfsi',\n",
    " 'tiptronic',\n",
    " 'ultra',\n",
    " 'xdrive',\n",
    " 'длинный',\n",
    " 'компактный',\n",
    " 'экстра'}"
   ]
  },
  {
   "cell_type": "code",
   "execution_count": null,
   "metadata": {
    "execution": {
     "iopub.execute_input": "2021-06-27T16:35:14.498969Z",
     "iopub.status.busy": "2021-06-27T16:35:14.49859Z",
     "iopub.status.idle": "2021-06-27T16:35:14.596583Z",
     "shell.execute_reply": "2021-06-27T16:35:14.595687Z",
     "shell.execute_reply.started": "2021-06-27T16:35:14.498932Z"
    }
   },
   "outputs": [],
   "source": [
    "for kwd in keywords:\n",
    "    data[kwd] = data.name.apply(lambda x: (kwd in x.lower()))"
   ]
  },
  {
   "cell_type": "code",
   "execution_count": null,
   "metadata": {
    "execution": {
     "iopub.execute_input": "2021-06-27T16:35:14.598039Z",
     "iopub.status.busy": "2021-06-27T16:35:14.597659Z",
     "iopub.status.idle": "2021-06-27T16:35:14.62194Z",
     "shell.execute_reply": "2021-06-27T16:35:14.621146Z",
     "shell.execute_reply.started": "2021-06-27T16:35:14.597938Z"
    }
   },
   "outputs": [],
   "source": [
    "data['long'] = data['long'] | data['длинный']\n",
    "data[list(keywords)] = data[list(keywords)].astype(float)\n",
    "data.rename(columns = {'компактный':'compact',\n",
    "                       'экстра':'extra'}, inplace=True)\n",
    "data = data.drop(columns = ['длинный'])"
   ]
  },
  {
   "cell_type": "code",
   "execution_count": null,
   "metadata": {
    "execution": {
     "iopub.execute_input": "2021-06-27T16:35:14.624865Z",
     "iopub.status.busy": "2021-06-27T16:35:14.624627Z",
     "iopub.status.idle": "2021-06-27T16:35:14.633037Z",
     "shell.execute_reply": "2021-06-27T16:35:14.631556Z",
     "shell.execute_reply.started": "2021-06-27T16:35:14.624842Z"
    }
   },
   "outputs": [],
   "source": [
    "data.long.unique()"
   ]
  },
  {
   "cell_type": "code",
   "execution_count": null,
   "metadata": {
    "execution": {
     "iopub.execute_input": "2021-06-27T16:35:14.635204Z",
     "iopub.status.busy": "2021-06-27T16:35:14.634595Z",
     "iopub.status.idle": "2021-06-27T16:35:14.654925Z",
     "shell.execute_reply": "2021-06-27T16:35:14.653637Z",
     "shell.execute_reply.started": "2021-06-27T16:35:14.635147Z"
    }
   },
   "outputs": [],
   "source": [
    "categorical_features = ['bodyType', 'brand', 'color', 'fuelType', 'model_info',\n",
    "                        'numberOfDoors', 'vehicleTransmission', 'ownersCount', \n",
    "                        'titleStatus', 'driveType', 'steerSide']\n",
    "numerical_features = ['mileage', 'modelDate', 'ownersNumber',\n",
    "                      'productionDate', 'engineDisplacement',\n",
    "                      'enginePower', 'ownershipTime']\n",
    "def preproc_data(df_input):\n",
    "    \n",
    "    df_output = df_input.copy()\n",
    "    rscaler = RobustScaler()\n",
    "\n",
    "    # ################### Предобработка ############################################################## \n",
    "    # убираем не нужные для модели признаки\n",
    "    df_output.drop(['description','sell_id',], axis = 1, inplace=True)\n",
    "    \n",
    "    # ################### Numerical Features ############################################################## \n",
    "    df_output.loc[df_output.mileage.isin(df_output.mileage.nlargest(2)), 'mileage'] = df_output.mileage.median()\n",
    "    df_output.loc[df_output.ownersCount.isna(), 'ownersCount'] = '3 и более'\n",
    "    \n",
    "    # Нормализация данных\n",
    "    df_output['mileage'] = rscaler.fit_transform(df_output.mileage.values.reshape(-1,1))\n",
    "    df_output['modelDate'] = rscaler.fit_transform(df_output.modelDate.values.reshape(-1,1))\n",
    "    df_output['productionDate'] = rscaler.fit_transform(df_output.productionDate.values.reshape(-1,1))\n",
    "    df_output['engineDisplacement'] = df_output.engineDisplacement.apply(lambda x: float(x.split()[0]) if 'undefined' not in x else 0.0)\n",
    "    df_output['engineDisplacement'] = rscaler.fit_transform(df_output.engineDisplacement.values.reshape(-1,1))\n",
    "    \n",
    "    # ################### Feature Engineering ####################################################\n",
    "    df_output['enginePower'] = df_output.enginePower.apply(lambda x: float(x.split()[0]))\n",
    "    df_output['enginePower'] = rscaler.fit_transform(df_output.enginePower.values.reshape(-1,1))\n",
    "    \n",
    "    df_output['ownersNumber'] = df_output.ownersCount.apply(lambda x: int(x.split()[0]))\n",
    "    \n",
    "    def fill_own_time(row):\n",
    "        if pd.isna(row['ownershipTime']):\n",
    "            return 12*(2021-row['productionDate'])/row['ownersNumber']\n",
    "        elif re.match('.+(лет|год*).*(месяц*)', row['ownershipTime']):\n",
    "            splitted = row['ownershipTime'].split()\n",
    "            return 12*int(splitted[0]) + int(splitted[3])\n",
    "        elif re.match('.+(лет|год*)', row['ownershipTime']):\n",
    "            splitted = row['ownershipTime'].split()\n",
    "            return 12*int(splitted[0])\n",
    "        elif re.match('.+месяц', row['ownershipTime']):\n",
    "            splitted = row['ownershipTime'].split()\n",
    "            return int(splitted[0])\n",
    "        else:\n",
    "            raise RuntimeError\n",
    "            \n",
    "    df_output['ownershipTime'] = df_output.apply(fill_own_time, axis = 1)\n",
    "    df_output['ownershipTime'] = rscaler.fit_transform(df_output.ownershipTime.values.reshape(-1,1))\n",
    "    \n",
    "    keywords = ['activehybrid',\n",
    "                 'amg',\n",
    "                 'blueefficiency',\n",
    "                 'bluetec',\n",
    "                 'cdi',\n",
    "                 'clean',\n",
    "                 'competition',\n",
    "                 'gt',\n",
    "                 'hybrid',\n",
    "                 'long',\n",
    "                 'pack',\n",
    "                 'plus',\n",
    "                 'sdrive',\n",
    "                 'tdi',\n",
    "                 'tfsi',\n",
    "                 'tiptronic',\n",
    "                 'ultra',\n",
    "                 'xdrive',\n",
    "                 'длинный',\n",
    "                 'компактный',\n",
    "                 'экстра']\n",
    "    for kwd in keywords:\n",
    "        df_output[kwd] = df_output.name.apply(lambda x: (kwd in x.lower()))\n",
    "        \n",
    "    df_output['long'] = df_output['long'] | df_output['длинный']\n",
    "    df_output[keywords] = df_output[keywords].astype(float)\n",
    "    \n",
    "    df_output.rename(columns = {'компактный':'compact',\n",
    "                           'экстра':'extra'}, inplace=True)\n",
    "    df_output = df_output.drop(columns = ['длинный'])\n",
    "    \n",
    "    # ################### Categorical Features ############################################################## \n",
    "    # Label Encoding\n",
    "    for column in categorical_features:\n",
    "        df_output[column] = df_output[column].astype('category').cat.codes\n",
    "        \n",
    "    # One-Hot Encoding: в pandas есть готовая функция - get_dummies.\n",
    "    df_output = pd.get_dummies(df_output, columns=categorical_features, dummy_na=False)\n",
    "    # ################### Clean #################################################### \n",
    "    # убираем признаки которые еще не успели обработать, \n",
    "    df_output.drop(columns = ['name', 'vehicleConfiguration'], inplace=True)\n",
    "\n",
    "    return df_output"
   ]
  },
  {
   "cell_type": "code",
   "execution_count": null,
   "metadata": {
    "execution": {
     "iopub.execute_input": "2021-06-27T16:35:14.65676Z",
     "iopub.status.busy": "2021-06-27T16:35:14.656401Z",
     "iopub.status.idle": "2021-06-27T16:35:14.674379Z",
     "shell.execute_reply": "2021-06-27T16:35:14.673445Z",
     "shell.execute_reply.started": "2021-06-27T16:35:14.656724Z"
    }
   },
   "outputs": [],
   "source": [
    "#обновим исходный датафрейм\n",
    "data = test.append(train, sort=False).reset_index(drop=True) # объединяем"
   ]
  },
  {
   "cell_type": "code",
   "execution_count": null,
   "metadata": {
    "execution": {
     "iopub.execute_input": "2021-06-27T16:35:14.677626Z",
     "iopub.status.busy": "2021-06-27T16:35:14.677389Z",
     "iopub.status.idle": "2021-06-27T16:35:15.130026Z",
     "shell.execute_reply": "2021-06-27T16:35:15.129186Z",
     "shell.execute_reply.started": "2021-06-27T16:35:14.677604Z"
    }
   },
   "outputs": [],
   "source": [
    "# Запускаем и проверяем, что получилось\n",
    "df_preproc = preproc_data(data)\n",
    "df_preproc.sample(10)"
   ]
  },
  {
   "cell_type": "code",
   "execution_count": null,
   "metadata": {
    "execution": {
     "iopub.execute_input": "2021-06-27T16:35:15.131761Z",
     "iopub.status.busy": "2021-06-27T16:35:15.131408Z",
     "iopub.status.idle": "2021-06-27T16:35:15.146583Z",
     "shell.execute_reply": "2021-06-27T16:35:15.145638Z",
     "shell.execute_reply.started": "2021-06-27T16:35:15.131724Z"
    }
   },
   "outputs": [],
   "source": [
    "df_preproc.info()"
   ]
  },
  {
   "cell_type": "markdown",
   "metadata": {},
   "source": [
    "## Корреляции.\n",
    "\n",
    "Корреляции логичны и ожидаемы - чем старше машина, тем больше у неё было владельцев, больше пробег, старше модель.\n",
    "Ничего с ними делать не будем."
   ]
  },
  {
   "cell_type": "code",
   "execution_count": null,
   "metadata": {
    "execution": {
     "iopub.execute_input": "2021-06-27T16:35:15.148994Z",
     "iopub.status.busy": "2021-06-27T16:35:15.148632Z",
     "iopub.status.idle": "2021-06-27T16:35:15.482847Z",
     "shell.execute_reply": "2021-06-27T16:35:15.482042Z",
     "shell.execute_reply.started": "2021-06-27T16:35:15.14896Z"
    }
   },
   "outputs": [],
   "source": [
    "sns.heatmap(df_preproc[numerical_features].corr())"
   ]
  },
  {
   "cell_type": "markdown",
   "metadata": {},
   "source": [
    "## Разделим на трейн и тест"
   ]
  },
  {
   "cell_type": "code",
   "execution_count": null,
   "metadata": {
    "execution": {
     "iopub.execute_input": "2021-06-27T16:35:15.484735Z",
     "iopub.status.busy": "2021-06-27T16:35:15.484386Z",
     "iopub.status.idle": "2021-06-27T16:35:15.52159Z",
     "shell.execute_reply": "2021-06-27T16:35:15.520941Z",
     "shell.execute_reply.started": "2021-06-27T16:35:15.484697Z"
    }
   },
   "outputs": [],
   "source": [
    "# Теперь выделим тестовую часть\n",
    "train_data = df_preproc.query('sample == 1').drop(['sample'], axis=1)\n",
    "test_data = df_preproc.query('sample == 0').drop(['sample'], axis=1)\n",
    "\n",
    "y = train_data.price.values     # наш таргет\n",
    "X = train_data.drop(['price'], axis=1)\n",
    "X_sub = test_data.drop(['price'], axis=1)"
   ]
  },
  {
   "cell_type": "code",
   "execution_count": null,
   "metadata": {
    "execution": {
     "iopub.execute_input": "2021-06-27T16:35:15.52341Z",
     "iopub.status.busy": "2021-06-27T16:35:15.52305Z",
     "iopub.status.idle": "2021-06-27T16:35:15.540619Z",
     "shell.execute_reply": "2021-06-27T16:35:15.539374Z",
     "shell.execute_reply.started": "2021-06-27T16:35:15.523375Z"
    }
   },
   "outputs": [],
   "source": [
    "test_data.info()"
   ]
  },
  {
   "cell_type": "markdown",
   "metadata": {},
   "source": [
    "# Часть 2. Машинное обучение.\n",
    "## 2.1. CatBoost."
   ]
  },
  {
   "cell_type": "code",
   "execution_count": null,
   "metadata": {
    "execution": {
     "iopub.execute_input": "2021-06-27T16:35:15.542434Z",
     "iopub.status.busy": "2021-06-27T16:35:15.542027Z",
     "iopub.status.idle": "2021-06-27T16:35:15.561294Z",
     "shell.execute_reply": "2021-06-27T16:35:15.560649Z",
     "shell.execute_reply.started": "2021-06-27T16:35:15.542394Z"
    }
   },
   "outputs": [],
   "source": [
    "X_train, X_test, y_train, y_test = train_test_split(X, y, test_size=0.15, shuffle=True, random_state=RANDOM_SEED)"
   ]
  },
  {
   "cell_type": "code",
   "execution_count": null,
   "metadata": {
    "_kg_hide-output": true,
    "execution": {
     "iopub.execute_input": "2021-06-27T16:40:22.860131Z",
     "iopub.status.busy": "2021-06-27T16:40:22.859792Z",
     "iopub.status.idle": "2021-06-27T16:40:39.335496Z",
     "shell.execute_reply": "2021-06-27T16:40:39.33476Z",
     "shell.execute_reply.started": "2021-06-27T16:40:22.860099Z"
    }
   },
   "outputs": [],
   "source": [
    "cat = CatBoostRegressor(iterations = 7500,\n",
    "                          depth=5,\n",
    "                          random_seed = RANDOM_SEED,\n",
    "                          eval_metric='MAPE',\n",
    "                          l2_leaf_reg = 2.5,\n",
    "                          custom_metric=['RMSE', 'MAE'],\n",
    "                          od_wait=500,\n",
    "                          bootstrap_type = 'MVS',\n",
    "                         )\n",
    "cat.fit(X_train, y_train,\n",
    "         eval_set=(X_test, y_test),\n",
    "         verbose_eval=500,\n",
    "         use_best_model=True,\n",
    "         )"
   ]
  },
  {
   "cell_type": "code",
   "execution_count": null,
   "metadata": {
    "execution": {
     "iopub.execute_input": "2021-06-27T16:40:39.337675Z",
     "iopub.status.busy": "2021-06-27T16:40:39.337338Z",
     "iopub.status.idle": "2021-06-27T16:40:39.358802Z",
     "shell.execute_reply": "2021-06-27T16:40:39.357706Z",
     "shell.execute_reply.started": "2021-06-27T16:40:39.337639Z"
    }
   },
   "outputs": [],
   "source": [
    "test_predict_catboost = cat.predict(X_test)\n",
    "print(f\"TEST mape: {(mape(y_test, test_predict_catboost))*100:0.2f}%\")"
   ]
  },
  {
   "cell_type": "markdown",
   "metadata": {},
   "source": [
    "Вообще-то довольно неплохой результат. Лучше нейросети из бейзлайна."
   ]
  },
  {
   "cell_type": "markdown",
   "metadata": {},
   "source": [
    "### Submission"
   ]
  },
  {
   "cell_type": "code",
   "execution_count": null,
   "metadata": {
    "execution": {
     "iopub.execute_input": "2021-06-27T16:35:32.472946Z",
     "iopub.status.busy": "2021-06-27T16:35:32.472554Z",
     "iopub.status.idle": "2021-06-27T16:35:32.663786Z",
     "shell.execute_reply": "2021-06-27T16:35:32.663044Z",
     "shell.execute_reply.started": "2021-06-27T16:35:32.472907Z"
    }
   },
   "outputs": [],
   "source": [
    "sub_predict_catboost = cat.predict(X_sub)\n",
    "sample_submission['price'] = sub_predict_catboost\n",
    "sample_submission.to_csv('catboost_submission.csv', index=False)"
   ]
  },
  {
   "cell_type": "markdown",
   "metadata": {},
   "source": [
    "## 2.2. Tabular NN."
   ]
  },
  {
   "cell_type": "markdown",
   "metadata": {},
   "source": [
    "Построим обычную сеть:"
   ]
  },
  {
   "cell_type": "code",
   "execution_count": null,
   "metadata": {
    "execution": {
     "iopub.execute_input": "2021-06-27T16:35:32.665263Z",
     "iopub.status.busy": "2021-06-27T16:35:32.664881Z",
     "iopub.status.idle": "2021-06-27T16:35:35.004088Z",
     "shell.execute_reply": "2021-06-27T16:35:35.003262Z",
     "shell.execute_reply.started": "2021-06-27T16:35:32.665228Z"
    }
   },
   "outputs": [],
   "source": [
    "model = Sequential()\n",
    "model.add(L.Dense(512, input_dim=X_train.shape[1], activation=\"relu\"))\n",
    "model.add(L.Dropout(0.5))\n",
    "model.add(L.Dense(256, activation=\"relu\"))\n",
    "model.add(L.Dropout(0.5))\n",
    "model.add(L.Dense(1, activation=\"linear\"))"
   ]
  },
  {
   "cell_type": "code",
   "execution_count": null,
   "metadata": {
    "execution": {
     "iopub.execute_input": "2021-06-27T16:35:35.005767Z",
     "iopub.status.busy": "2021-06-27T16:35:35.005428Z",
     "iopub.status.idle": "2021-06-27T16:35:35.017684Z",
     "shell.execute_reply": "2021-06-27T16:35:35.016769Z",
     "shell.execute_reply.started": "2021-06-27T16:35:35.005733Z"
    }
   },
   "outputs": [],
   "source": [
    "model.summary()"
   ]
  },
  {
   "cell_type": "code",
   "execution_count": null,
   "metadata": {
    "execution": {
     "iopub.execute_input": "2021-06-27T16:35:35.021311Z",
     "iopub.status.busy": "2021-06-27T16:35:35.021016Z",
     "iopub.status.idle": "2021-06-27T16:35:35.258895Z",
     "shell.execute_reply": "2021-06-27T16:35:35.257904Z",
     "shell.execute_reply.started": "2021-06-27T16:35:35.021282Z"
    }
   },
   "outputs": [],
   "source": [
    "# Compile model\n",
    "optimizer = tf.keras.optimizers.Adam(0.01)\n",
    "model.compile(loss='MAPE',optimizer=optimizer, metrics=['MAPE'])"
   ]
  },
  {
   "cell_type": "code",
   "execution_count": null,
   "metadata": {
    "execution": {
     "iopub.execute_input": "2021-06-27T16:35:35.260586Z",
     "iopub.status.busy": "2021-06-27T16:35:35.260248Z",
     "iopub.status.idle": "2021-06-27T16:35:35.267074Z",
     "shell.execute_reply": "2021-06-27T16:35:35.266283Z",
     "shell.execute_reply.started": "2021-06-27T16:35:35.260553Z"
    }
   },
   "outputs": [],
   "source": [
    "checkpoint = ModelCheckpoint('../working/best_model.hdf5' , monitor=['val_MAPE'], verbose=0, mode='min')\n",
    "earlystop = EarlyStopping(monitor='val_MAPE', patience=50, restore_best_weights=True,)\n",
    "callbacks_list = [checkpoint, earlystop]"
   ]
  },
  {
   "cell_type": "markdown",
   "metadata": {},
   "source": [
    "### Fit"
   ]
  },
  {
   "cell_type": "code",
   "execution_count": null,
   "metadata": {
    "execution": {
     "iopub.execute_input": "2021-06-27T16:35:35.269304Z",
     "iopub.status.busy": "2021-06-27T16:35:35.268726Z",
     "iopub.status.idle": "2021-06-27T16:36:30.003209Z",
     "shell.execute_reply": "2021-06-27T16:36:30.002198Z",
     "shell.execute_reply.started": "2021-06-27T16:35:35.269261Z"
    }
   },
   "outputs": [],
   "source": [
    "history = model.fit(X_train, y_train,\n",
    "                    batch_size=512,\n",
    "                    epochs=1000, # фактически мы обучаем пока EarlyStopping не остановит обучение\n",
    "                    validation_data=(X_test, y_test),\n",
    "                    callbacks=callbacks_list,\n",
    "                    verbose=0,\n",
    "                   )"
   ]
  },
  {
   "cell_type": "code",
   "execution_count": null,
   "metadata": {
    "execution": {
     "iopub.execute_input": "2021-06-27T16:36:30.004933Z",
     "iopub.status.busy": "2021-06-27T16:36:30.004597Z",
     "iopub.status.idle": "2021-06-27T16:36:30.159115Z",
     "shell.execute_reply": "2021-06-27T16:36:30.158208Z",
     "shell.execute_reply.started": "2021-06-27T16:36:30.004899Z"
    }
   },
   "outputs": [],
   "source": [
    "plt.title('Loss')\n",
    "plt.plot(history.history['MAPE'], label='train')\n",
    "plt.plot(history.history['val_MAPE'], label='test')\n",
    "plt.show();"
   ]
  },
  {
   "cell_type": "code",
   "execution_count": null,
   "metadata": {
    "execution": {
     "iopub.execute_input": "2021-06-27T16:36:30.161073Z",
     "iopub.status.busy": "2021-06-27T16:36:30.160727Z",
     "iopub.status.idle": "2021-06-27T16:36:30.193365Z",
     "shell.execute_reply": "2021-06-27T16:36:30.192631Z",
     "shell.execute_reply.started": "2021-06-27T16:36:30.161035Z"
    }
   },
   "outputs": [],
   "source": [
    "model.load_weights('../working/best_model.hdf5')\n",
    "model.save('../working/nn_1.hdf5')"
   ]
  },
  {
   "cell_type": "code",
   "execution_count": null,
   "metadata": {
    "execution": {
     "iopub.execute_input": "2021-06-27T16:45:42.574824Z",
     "iopub.status.busy": "2021-06-27T16:45:42.574511Z",
     "iopub.status.idle": "2021-06-27T16:45:42.682423Z",
     "shell.execute_reply": "2021-06-27T16:45:42.681504Z",
     "shell.execute_reply.started": "2021-06-27T16:45:42.574794Z"
    }
   },
   "outputs": [],
   "source": [
    "test_predict_nn1 = model.predict(X_test)\n",
    "print(f\"TEST mape: {(mape(y_test, test_predict_nn1[:,0]))*100:0.2f}%\")"
   ]
  },
  {
   "cell_type": "code",
   "execution_count": null,
   "metadata": {
    "execution": {
     "iopub.execute_input": "2021-06-27T16:36:30.367439Z",
     "iopub.status.busy": "2021-06-27T16:36:30.366932Z",
     "iopub.status.idle": "2021-06-27T16:36:30.496802Z",
     "shell.execute_reply": "2021-06-27T16:36:30.496014Z",
     "shell.execute_reply.started": "2021-06-27T16:36:30.367401Z"
    }
   },
   "outputs": [],
   "source": [
    "sub_predict_nn1 = model.predict(X_sub)\n",
    "sample_submission['price'] = sub_predict_nn1[:,0]\n",
    "sample_submission.to_csv('nn1_submission.csv', index=False)"
   ]
  },
  {
   "cell_type": "markdown",
   "metadata": {},
   "source": [
    "## Улучшаем модель.\n",
    "Методы улучшения:\n",
    "1) Stack moar layers\\\n",
    "2) Поиграть с регуляризацей в полносвязных слоях\\\n",
    "3) Поиграть с функциями активации (попробовал, не пошло, в ноутбуке нет)\\\n",
    "4) Попробовать слои BactchNorm (помогает)\n",
    "5) Попробовать поиграть с параметром dropout'a"
   ]
  },
  {
   "cell_type": "code",
   "execution_count": null,
   "metadata": {
    "execution": {
     "iopub.execute_input": "2021-06-27T16:36:30.499678Z",
     "iopub.status.busy": "2021-06-27T16:36:30.499048Z",
     "iopub.status.idle": "2021-06-27T16:36:30.554766Z",
     "shell.execute_reply": "2021-06-27T16:36:30.554068Z",
     "shell.execute_reply.started": "2021-06-27T16:36:30.499638Z"
    }
   },
   "outputs": [],
   "source": [
    "better_model = Sequential()\n",
    "better_model.add(L.Dense(512, input_dim=X_train.shape[1], activation=\"relu\"))\n",
    "better_model.add(L.BatchNormalization())\n",
    "better_model.add(L.Dropout(0.4))\n",
    "better_model.add(L.Dense(256, activation=\"relu\"))\n",
    "better_model.add(L.Dropout(0.4))\n",
    "better_model.add(L.Dense(128, activation=\"relu\"))\n",
    "better_model.add(L.Dropout(0.4))\n",
    "better_model.add(L.Dense(1, activation=\"linear\"))"
   ]
  },
  {
   "cell_type": "code",
   "execution_count": null,
   "metadata": {
    "execution": {
     "iopub.execute_input": "2021-06-27T16:36:30.556269Z",
     "iopub.status.busy": "2021-06-27T16:36:30.555941Z",
     "iopub.status.idle": "2021-06-27T16:36:30.568382Z",
     "shell.execute_reply": "2021-06-27T16:36:30.567465Z",
     "shell.execute_reply.started": "2021-06-27T16:36:30.556234Z"
    }
   },
   "outputs": [],
   "source": [
    "better_model.summary()"
   ]
  },
  {
   "cell_type": "code",
   "execution_count": null,
   "metadata": {
    "execution": {
     "iopub.execute_input": "2021-06-27T16:36:30.570503Z",
     "iopub.status.busy": "2021-06-27T16:36:30.570087Z",
     "iopub.status.idle": "2021-06-27T16:36:30.583496Z",
     "shell.execute_reply": "2021-06-27T16:36:30.582507Z",
     "shell.execute_reply.started": "2021-06-27T16:36:30.570466Z"
    }
   },
   "outputs": [],
   "source": [
    "# Compile model\n",
    "optimizer = tf.keras.optimizers.Adam(0.01)\n",
    "better_model.compile(loss='MAPE',optimizer=optimizer, metrics=['MAPE'])"
   ]
  },
  {
   "cell_type": "code",
   "execution_count": null,
   "metadata": {
    "execution": {
     "iopub.execute_input": "2021-06-27T16:36:30.585502Z",
     "iopub.status.busy": "2021-06-27T16:36:30.585078Z",
     "iopub.status.idle": "2021-06-27T16:36:30.591237Z",
     "shell.execute_reply": "2021-06-27T16:36:30.589955Z",
     "shell.execute_reply.started": "2021-06-27T16:36:30.585454Z"
    }
   },
   "outputs": [],
   "source": [
    "checkpoint = ModelCheckpoint('../working/best_model.hdf5' , monitor=['val_MAPE'], verbose=0, mode='min')\n",
    "earlystop = EarlyStopping(monitor='val_MAPE', patience=50, restore_best_weights=True,)\n",
    "callbacks_list = [checkpoint, earlystop]"
   ]
  },
  {
   "cell_type": "code",
   "execution_count": null,
   "metadata": {
    "execution": {
     "iopub.execute_input": "2021-06-27T16:36:30.593203Z",
     "iopub.status.busy": "2021-06-27T16:36:30.592796Z",
     "iopub.status.idle": "2021-06-27T16:36:54.949685Z",
     "shell.execute_reply": "2021-06-27T16:36:54.948721Z",
     "shell.execute_reply.started": "2021-06-27T16:36:30.593155Z"
    }
   },
   "outputs": [],
   "source": [
    "history = better_model.fit(X_train, y_train,\n",
    "                    batch_size=512,\n",
    "                    epochs=1000, # фактически мы обучаем пока EarlyStopping не остановит обучение\n",
    "                    validation_data=(X_test, y_test),\n",
    "                    callbacks=callbacks_list,\n",
    "                    verbose=0,\n",
    "                   )"
   ]
  },
  {
   "cell_type": "code",
   "execution_count": null,
   "metadata": {
    "execution": {
     "iopub.execute_input": "2021-06-27T16:36:54.951378Z",
     "iopub.status.busy": "2021-06-27T16:36:54.951014Z",
     "iopub.status.idle": "2021-06-27T16:36:55.117324Z",
     "shell.execute_reply": "2021-06-27T16:36:55.116467Z",
     "shell.execute_reply.started": "2021-06-27T16:36:54.951344Z"
    }
   },
   "outputs": [],
   "source": [
    "plt.title('Loss')\n",
    "plt.plot(history.history['MAPE'], label='train')\n",
    "plt.plot(history.history['val_MAPE'], label='test')\n",
    "plt.show();"
   ]
  },
  {
   "cell_type": "code",
   "execution_count": null,
   "metadata": {
    "execution": {
     "iopub.execute_input": "2021-06-27T16:46:27.087898Z",
     "iopub.status.busy": "2021-06-27T16:46:27.087575Z",
     "iopub.status.idle": "2021-06-27T16:46:27.202641Z",
     "shell.execute_reply": "2021-06-27T16:46:27.201771Z",
     "shell.execute_reply.started": "2021-06-27T16:46:27.087869Z"
    }
   },
   "outputs": [],
   "source": [
    "test_predict_nn1 = better_model.predict(X_test)\n",
    "print(f\"TEST mape: {(mape(y_test, test_predict_nn1[:,0]))*100:0.2f}%\")"
   ]
  },
  {
   "cell_type": "code",
   "execution_count": null,
   "metadata": {
    "execution": {
     "iopub.execute_input": "2021-06-27T16:36:55.277659Z",
     "iopub.status.busy": "2021-06-27T16:36:55.277124Z",
     "iopub.status.idle": "2021-06-27T16:36:55.410473Z",
     "shell.execute_reply": "2021-06-27T16:36:55.409643Z",
     "shell.execute_reply.started": "2021-06-27T16:36:55.277619Z"
    }
   },
   "outputs": [],
   "source": [
    "sub_predict_nn1_better = better_model.predict(X_sub)\n",
    "sample_submission['price'] = sub_predict_nn1_better[:,0]\n",
    "sample_submission.to_csv('nn1_submission_better.csv', index=False)"
   ]
  },
  {
   "cell_type": "markdown",
   "metadata": {},
   "source": [
    "## 2.3. NLP + Multiple Inputs\n",
    "\n",
    "Сначала почистим текст, обрежем окончания, лемматизируем."
   ]
  },
  {
   "cell_type": "code",
   "execution_count": null,
   "metadata": {
    "execution": {
     "iopub.execute_input": "2021-06-27T11:57:57.704847Z",
     "iopub.status.busy": "2021-06-27T11:57:57.704429Z",
     "iopub.status.idle": "2021-06-27T11:57:57.716085Z",
     "shell.execute_reply": "2021-06-27T11:57:57.714539Z",
     "shell.execute_reply.started": "2021-06-27T11:57:57.704813Z"
    }
   },
   "outputs": [],
   "source": [
    "data.description"
   ]
  },
  {
   "cell_type": "markdown",
   "metadata": {},
   "source": [
    "Почистим и токенизируем текст."
   ]
  },
  {
   "cell_type": "code",
   "execution_count": null,
   "metadata": {
    "execution": {
     "iopub.execute_input": "2021-06-27T11:57:59.514129Z",
     "iopub.status.busy": "2021-06-27T11:57:59.513709Z",
     "iopub.status.idle": "2021-06-27T11:58:00.741997Z",
     "shell.execute_reply": "2021-06-27T11:58:00.740727Z",
     "shell.execute_reply.started": "2021-06-27T11:57:59.514095Z"
    }
   },
   "outputs": [],
   "source": [
    "rubbish = \"[A-Za-z!#$%№&'()*+,./:;<=>?@\\[\\]^_`{|}~—\\\"\\-+●•✅☑️☛\\n]\"\n",
    "numbers = '\\d+'\n",
    "df_preproc['description'] = data.description.apply(lambda x: re.sub('\\s+', ' ',\n",
    "                                                               re.sub(numbers, '', \n",
    "                                                                    re.sub(rubbish, ' ', x)).lower()))"
   ]
  },
  {
   "cell_type": "code",
   "execution_count": null,
   "metadata": {
    "execution": {
     "iopub.execute_input": "2021-06-27T11:58:00.745215Z",
     "iopub.status.busy": "2021-06-27T11:58:00.744673Z",
     "iopub.status.idle": "2021-06-27T11:58:00.75581Z",
     "shell.execute_reply": "2021-06-27T11:58:00.754323Z",
     "shell.execute_reply.started": "2021-06-27T11:58:00.745157Z"
    }
   },
   "outputs": [],
   "source": [
    "df_preproc.description"
   ]
  },
  {
   "cell_type": "code",
   "execution_count": null,
   "metadata": {
    "execution": {
     "iopub.execute_input": "2021-06-27T11:58:01.968187Z",
     "iopub.status.busy": "2021-06-27T11:58:01.967742Z",
     "iopub.status.idle": "2021-06-27T11:58:01.976776Z",
     "shell.execute_reply": "2021-06-27T11:58:01.975169Z",
     "shell.execute_reply.started": "2021-06-27T11:58:01.968153Z"
    }
   },
   "outputs": [],
   "source": [
    "lemmer = WordNetLemmatizer()\n",
    "stemmer = RussianStemmer()\n",
    "tokenizer = RegexpTokenizer(r'\\w+')\n",
    "def process_words(text):\n",
    "    tokens = tokenizer.tokenize(text)  \n",
    "    filtered_words = [word for word in tokens \n",
    "                      if len(word) > 2 \n",
    "                      if word not in stopwords.words('russian')]\n",
    "    stem_words=[stemmer.stem(word) for word in filtered_words]\n",
    "    lemma_words=[lemmer.lemmatize(word) for word in stem_words]\n",
    "    result = \" \".join(word for word in lemma_words)\n",
    "    return result"
   ]
  },
  {
   "cell_type": "code",
   "execution_count": null,
   "metadata": {
    "execution": {
     "iopub.execute_input": "2021-06-27T11:58:03.101625Z",
     "iopub.status.busy": "2021-06-27T11:58:03.101241Z",
     "iopub.status.idle": "2021-06-27T12:00:44.981862Z",
     "shell.execute_reply": "2021-06-27T12:00:44.98086Z",
     "shell.execute_reply.started": "2021-06-27T11:58:03.101592Z"
    }
   },
   "outputs": [],
   "source": [
    "df_preproc['description'] = df_preproc.description.apply(process_words)"
   ]
  },
  {
   "cell_type": "code",
   "execution_count": null,
   "metadata": {
    "execution": {
     "iopub.execute_input": "2021-06-27T12:00:44.985321Z",
     "iopub.status.busy": "2021-06-27T12:00:44.984823Z",
     "iopub.status.idle": "2021-06-27T12:00:44.994954Z",
     "shell.execute_reply": "2021-06-27T12:00:44.993707Z",
     "shell.execute_reply.started": "2021-06-27T12:00:44.985271Z"
    }
   },
   "outputs": [],
   "source": [
    "df_preproc.description"
   ]
  },
  {
   "cell_type": "markdown",
   "metadata": {},
   "source": [
    "### Tokenizer"
   ]
  },
  {
   "cell_type": "code",
   "execution_count": null,
   "metadata": {
    "execution": {
     "iopub.execute_input": "2021-06-27T12:00:44.99739Z",
     "iopub.status.busy": "2021-06-27T12:00:44.996712Z",
     "iopub.status.idle": "2021-06-27T12:00:45.010386Z",
     "shell.execute_reply": "2021-06-27T12:00:45.009277Z",
     "shell.execute_reply.started": "2021-06-27T12:00:44.997336Z"
    }
   },
   "outputs": [],
   "source": [
    "# TOKENIZER\n",
    "# The maximum number of words to be used. (most frequent)\n",
    "MAX_WORDS = 100000\n",
    "# Max number of words in each complaint.\n",
    "MAX_SEQUENCE_LENGTH = 256"
   ]
  },
  {
   "cell_type": "code",
   "execution_count": null,
   "metadata": {
    "execution": {
     "iopub.execute_input": "2021-06-27T12:00:45.014823Z",
     "iopub.status.busy": "2021-06-27T12:00:45.014486Z",
     "iopub.status.idle": "2021-06-27T12:00:46.157829Z",
     "shell.execute_reply": "2021-06-27T12:00:46.156596Z",
     "shell.execute_reply.started": "2021-06-27T12:00:45.014787Z"
    }
   },
   "outputs": [],
   "source": [
    "%%time\n",
    "tokenize = Tokenizer(num_words=MAX_WORDS)\n",
    "tokenize.fit_on_texts(df_preproc.description)"
   ]
  },
  {
   "cell_type": "code",
   "execution_count": null,
   "metadata": {
    "_kg_hide-output": true,
    "collapsed": true,
    "execution": {
     "iopub.execute_input": "2021-06-27T12:00:46.16469Z",
     "iopub.status.busy": "2021-06-27T12:00:46.163854Z",
     "iopub.status.idle": "2021-06-27T12:00:46.220442Z",
     "shell.execute_reply": "2021-06-27T12:00:46.218085Z",
     "shell.execute_reply.started": "2021-06-27T12:00:46.164612Z"
    },
    "jupyter": {
     "outputs_hidden": true
    }
   },
   "outputs": [],
   "source": [
    "tokenize.word_index"
   ]
  },
  {
   "cell_type": "code",
   "execution_count": null,
   "metadata": {
    "execution": {
     "iopub.execute_input": "2021-06-27T12:00:46.224709Z",
     "iopub.status.busy": "2021-06-27T12:00:46.224116Z",
     "iopub.status.idle": "2021-06-27T12:00:46.234721Z",
     "shell.execute_reply": "2021-06-27T12:00:46.233242Z",
     "shell.execute_reply.started": "2021-06-27T12:00:46.224657Z"
    }
   },
   "outputs": [],
   "source": [
    "# split данных\n",
    "text_train = df_preproc.description.iloc[X_train.index]\n",
    "text_test = df_preproc.description.iloc[X_test.index]\n",
    "text_sub = df_preproc.description.iloc[X_sub.index]"
   ]
  },
  {
   "cell_type": "code",
   "execution_count": null,
   "metadata": {
    "execution": {
     "iopub.execute_input": "2021-06-27T12:00:46.238693Z",
     "iopub.status.busy": "2021-06-27T12:00:46.23759Z",
     "iopub.status.idle": "2021-06-27T12:00:47.333479Z",
     "shell.execute_reply": "2021-06-27T12:00:47.332409Z",
     "shell.execute_reply.started": "2021-06-27T12:00:46.238641Z"
    }
   },
   "outputs": [],
   "source": [
    "%%time\n",
    "text_train_sequences = sequence.pad_sequences(tokenize.texts_to_sequences(text_train), maxlen=MAX_SEQUENCE_LENGTH)\n",
    "text_test_sequences = sequence.pad_sequences(tokenize.texts_to_sequences(text_test), maxlen=MAX_SEQUENCE_LENGTH)\n",
    "text_sub_sequences = sequence.pad_sequences(tokenize.texts_to_sequences(text_sub), maxlen=MAX_SEQUENCE_LENGTH)\n",
    "\n",
    "print(text_train_sequences.shape, text_test_sequences.shape, text_sub_sequences.shape, )"
   ]
  },
  {
   "cell_type": "code",
   "execution_count": null,
   "metadata": {
    "execution": {
     "iopub.execute_input": "2021-06-27T12:00:47.336133Z",
     "iopub.status.busy": "2021-06-27T12:00:47.335472Z",
     "iopub.status.idle": "2021-06-27T12:00:47.344181Z",
     "shell.execute_reply": "2021-06-27T12:00:47.342461Z",
     "shell.execute_reply.started": "2021-06-27T12:00:47.336068Z"
    }
   },
   "outputs": [],
   "source": [
    "# вот так теперь выглядит наш текст\n",
    "print(text_train.iloc[6])\n",
    "print(text_train_sequences[6])"
   ]
  },
  {
   "cell_type": "markdown",
   "metadata": {},
   "source": [
    "### RNN NLP"
   ]
  },
  {
   "cell_type": "code",
   "execution_count": null,
   "metadata": {
    "execution": {
     "iopub.execute_input": "2021-06-27T13:05:37.25265Z",
     "iopub.status.busy": "2021-06-27T13:05:37.252315Z",
     "iopub.status.idle": "2021-06-27T13:05:38.131653Z",
     "shell.execute_reply": "2021-06-27T13:05:38.130528Z",
     "shell.execute_reply.started": "2021-06-27T13:05:37.252621Z"
    }
   },
   "outputs": [],
   "source": [
    "# добавил ещё один LSTM - слой к стандартной архитектуре. Он даёт где-то 0.5% на тесте.\n",
    "model_nlp = Sequential()\n",
    "model_nlp.add(L.Input(shape=MAX_SEQUENCE_LENGTH, name=\"seq_description\"))\n",
    "model_nlp.add(L.Embedding(len(tokenize.word_index)+1, MAX_SEQUENCE_LENGTH,))\n",
    "model_nlp.add(L.LSTM(256, return_sequences=True))\n",
    "model_nlp.add(L.Dropout(0.5))\n",
    "model_nlp.add(L.LSTM(128, return_sequences=True))\n",
    "model_nlp.add(L.Dropout(0.25))\n",
    "model_nlp.add(L.LSTM(64))\n",
    "model_nlp.add(L.Dropout(0.25))\n",
    "model_nlp.add(L.Dense(32, activation=\"relu\"))\n",
    "model_nlp.add(L.Dropout(0.25))"
   ]
  },
  {
   "cell_type": "markdown",
   "metadata": {},
   "source": [
    "### MLP"
   ]
  },
  {
   "cell_type": "code",
   "execution_count": null,
   "metadata": {
    "execution": {
     "iopub.execute_input": "2021-06-27T12:59:07.485633Z",
     "iopub.status.busy": "2021-06-27T12:59:07.48526Z",
     "iopub.status.idle": "2021-06-27T12:59:07.541071Z",
     "shell.execute_reply": "2021-06-27T12:59:07.539694Z",
     "shell.execute_reply.started": "2021-06-27T12:59:07.485601Z"
    }
   },
   "outputs": [],
   "source": [
    "model_mlp = Sequential()\n",
    "model_mlp.add(L.Dense(512, input_dim=X_train.shape[1], activation=\"relu\"))\n",
    "model_mlp.add(L.Dropout(0.4))\n",
    "model_mlp.add(L.Dense(256, activation=\"relu\"))\n",
    "model_mlp.add(L.Dropout(0.4))\n",
    "model_mlp.add(L.Dense(64, activation=\"relu\"))\n",
    "model_mlp.add(L.Dropout(0.4))"
   ]
  },
  {
   "cell_type": "markdown",
   "metadata": {},
   "source": [
    "### Multiple Inputs NN"
   ]
  },
  {
   "cell_type": "code",
   "execution_count": null,
   "metadata": {
    "execution": {
     "iopub.execute_input": "2021-06-27T12:59:07.984111Z",
     "iopub.status.busy": "2021-06-27T12:59:07.983661Z",
     "iopub.status.idle": "2021-06-27T12:59:08.019306Z",
     "shell.execute_reply": "2021-06-27T12:59:08.018239Z",
     "shell.execute_reply.started": "2021-06-27T12:59:07.984079Z"
    }
   },
   "outputs": [],
   "source": [
    "combinedInput = L.concatenate([model_nlp.output, model_mlp.output])\n",
    "# being our regression head\n",
    "head = L.Dense(64, activation=\"relu\")(combinedInput)\n",
    "head = L.Dense(1, activation=\"linear\")(head)\n",
    "\n",
    "model = Model(inputs=[model_nlp.input, model_mlp.input], outputs=head)"
   ]
  },
  {
   "cell_type": "code",
   "execution_count": null,
   "metadata": {
    "_kg_hide-output": true,
    "execution": {
     "iopub.execute_input": "2021-06-27T12:59:08.266926Z",
     "iopub.status.busy": "2021-06-27T12:59:08.26653Z",
     "iopub.status.idle": "2021-06-27T12:59:08.286308Z",
     "shell.execute_reply": "2021-06-27T12:59:08.283661Z",
     "shell.execute_reply.started": "2021-06-27T12:59:08.266893Z"
    }
   },
   "outputs": [],
   "source": [
    "model.summary()"
   ]
  },
  {
   "cell_type": "markdown",
   "metadata": {},
   "source": [
    "### Fit"
   ]
  },
  {
   "cell_type": "code",
   "execution_count": null,
   "metadata": {
    "execution": {
     "iopub.execute_input": "2021-06-27T12:59:08.715118Z",
     "iopub.status.busy": "2021-06-27T12:59:08.714721Z",
     "iopub.status.idle": "2021-06-27T12:59:08.733552Z",
     "shell.execute_reply": "2021-06-27T12:59:08.732141Z",
     "shell.execute_reply.started": "2021-06-27T12:59:08.715087Z"
    }
   },
   "outputs": [],
   "source": [
    "optimizer = tf.keras.optimizers.Adam(0.01)\n",
    "model.compile(loss='MAPE',optimizer=optimizer, metrics=['MAPE'])"
   ]
  },
  {
   "cell_type": "code",
   "execution_count": null,
   "metadata": {
    "execution": {
     "iopub.execute_input": "2021-06-27T12:59:09.384855Z",
     "iopub.status.busy": "2021-06-27T12:59:09.384469Z",
     "iopub.status.idle": "2021-06-27T12:59:09.393892Z",
     "shell.execute_reply": "2021-06-27T12:59:09.390744Z",
     "shell.execute_reply.started": "2021-06-27T12:59:09.384824Z"
    }
   },
   "outputs": [],
   "source": [
    "checkpoint = ModelCheckpoint('../working/best_model.hdf5', monitor=['val_MAPE'], verbose=0, mode='min')\n",
    "earlystop = EarlyStopping(monitor='val_MAPE', patience=10, restore_best_weights=True,)\n",
    "callbacks_list = [checkpoint, earlystop]"
   ]
  },
  {
   "cell_type": "code",
   "execution_count": null,
   "metadata": {
    "_kg_hide-output": true,
    "execution": {
     "iopub.execute_input": "2021-06-27T12:59:09.669347Z",
     "iopub.status.busy": "2021-06-27T12:59:09.668977Z",
     "iopub.status.idle": "2021-06-27T13:04:37.099391Z",
     "shell.execute_reply": "2021-06-27T13:04:37.098093Z",
     "shell.execute_reply.started": "2021-06-27T12:59:09.669316Z"
    }
   },
   "outputs": [],
   "source": [
    "history = model.fit([text_train_sequences, X_train], y_train,\n",
    "                    batch_size=512,\n",
    "                    epochs=500, # фактически мы обучаем пока EarlyStopping не остановит обучение\n",
    "                    validation_data=([text_test_sequences, X_test], y_test),\n",
    "                    callbacks=callbacks_list,\n",
    "                    verbose = 1\n",
    "                   )"
   ]
  },
  {
   "cell_type": "code",
   "execution_count": null,
   "metadata": {
    "execution": {
     "iopub.execute_input": "2021-06-27T13:04:41.066635Z",
     "iopub.status.busy": "2021-06-27T13:04:41.06621Z",
     "iopub.status.idle": "2021-06-27T13:04:41.265927Z",
     "shell.execute_reply": "2021-06-27T13:04:41.264342Z",
     "shell.execute_reply.started": "2021-06-27T13:04:41.066601Z"
    }
   },
   "outputs": [],
   "source": [
    "plt.title('Loss')\n",
    "plt.plot(history.history['MAPE'], label='train')\n",
    "plt.plot(history.history['val_MAPE'], label='test')\n",
    "plt.show();"
   ]
  },
  {
   "cell_type": "code",
   "execution_count": null,
   "metadata": {
    "execution": {
     "iopub.execute_input": "2021-06-27T13:04:43.452076Z",
     "iopub.status.busy": "2021-06-27T13:04:43.451719Z",
     "iopub.status.idle": "2021-06-27T13:04:43.693627Z",
     "shell.execute_reply": "2021-06-27T13:04:43.692169Z",
     "shell.execute_reply.started": "2021-06-27T13:04:43.452044Z"
    }
   },
   "outputs": [],
   "source": [
    "model.load_weights('../working/best_model.hdf5')\n",
    "model.save('../working/nn_mlp_nlp.hdf5')"
   ]
  },
  {
   "cell_type": "code",
   "execution_count": null,
   "metadata": {
    "execution": {
     "iopub.execute_input": "2021-06-27T13:05:47.089507Z",
     "iopub.status.busy": "2021-06-27T13:05:47.08903Z",
     "iopub.status.idle": "2021-06-27T13:05:47.896351Z",
     "shell.execute_reply": "2021-06-27T13:05:47.895301Z",
     "shell.execute_reply.started": "2021-06-27T13:05:47.089476Z"
    }
   },
   "outputs": [],
   "source": [
    "test_predict_nn2 = model.predict([text_test_sequences, X_test])\n",
    "print(f\"TEST mape: {(mape(y_test, test_predict_nn2[:,0]))*100:0.2f}%\")"
   ]
  },
  {
   "cell_type": "code",
   "execution_count": null,
   "metadata": {
    "execution": {
     "iopub.execute_input": "2021-06-27T13:05:49.961416Z",
     "iopub.status.busy": "2021-06-27T13:05:49.961048Z",
     "iopub.status.idle": "2021-06-27T13:05:51.167898Z",
     "shell.execute_reply": "2021-06-27T13:05:51.166857Z",
     "shell.execute_reply.started": "2021-06-27T13:05:49.961386Z"
    }
   },
   "outputs": [],
   "source": [
    "sub_predict_nn2 = model.predict([text_sub_sequences, X_sub])\n",
    "sample_submission['price'] = sub_predict_nn2[:,0]\n",
    "sample_submission.to_csv('nn2_submission.csv', index=False)"
   ]
  },
  {
   "cell_type": "markdown",
   "metadata": {
    "execution": {
     "iopub.execute_input": "2021-06-26T17:58:28.771843Z",
     "iopub.status.busy": "2021-06-26T17:58:28.771489Z",
     "iopub.status.idle": "2021-06-26T17:58:28.777952Z",
     "shell.execute_reply": "2021-06-26T17:58:28.776454Z",
     "shell.execute_reply.started": "2021-06-26T17:58:28.771813Z"
    }
   },
   "source": [
    "Выглядит так, будто похуже получилось, чем с чистыми табличными данными. Видимо, модель NLP работает не оптимально, требуется дальнейшая настройка."
   ]
  },
  {
   "cell_type": "markdown",
   "metadata": {},
   "source": [
    "## 2.4. Добавляем картинки"
   ]
  },
  {
   "cell_type": "markdown",
   "metadata": {},
   "source": [
    "### Data"
   ]
  },
  {
   "cell_type": "code",
   "execution_count": null,
   "metadata": {
    "execution": {
     "iopub.execute_input": "2021-06-27T13:07:51.607701Z",
     "iopub.status.busy": "2021-06-27T13:07:51.607165Z",
     "iopub.status.idle": "2021-06-27T13:07:52.908095Z",
     "shell.execute_reply": "2021-06-27T13:07:52.901902Z",
     "shell.execute_reply.started": "2021-06-27T13:07:51.607655Z"
    }
   },
   "outputs": [],
   "source": [
    "# убедимся, что цены и фото подгрузились верно\n",
    "plt.figure(figsize = (12,8))\n",
    "\n",
    "random_image = train.sample(n = 9)\n",
    "random_image_paths = random_image['sell_id'].values\n",
    "random_image_cat = random_image['price'].values\n",
    "\n",
    "for index, path in enumerate(random_image_paths):\n",
    "    im = PIL.Image.open(DATA_DIR+'img/img/' + str(path) + '.jpg')\n",
    "    plt.subplot(3, 3, index + 1)\n",
    "    plt.imshow(im)\n",
    "    plt.title('price: ' + str(random_image_cat[index]))\n",
    "    plt.axis('off')\n",
    "plt.show()"
   ]
  },
  {
   "cell_type": "code",
   "execution_count": null,
   "metadata": {
    "execution": {
     "iopub.execute_input": "2021-06-27T13:07:52.911405Z",
     "iopub.status.busy": "2021-06-27T13:07:52.910956Z",
     "iopub.status.idle": "2021-06-27T13:09:23.972254Z",
     "shell.execute_reply": "2021-06-27T13:09:23.970007Z",
     "shell.execute_reply.started": "2021-06-27T13:07:52.911364Z"
    }
   },
   "outputs": [],
   "source": [
    "size = (320, 240)\n",
    "\n",
    "def get_image_array(index):\n",
    "    images_train = []\n",
    "    for index, sell_id in enumerate(data['sell_id'].iloc[index].values):\n",
    "        image = cv2.imread(DATA_DIR + 'img/img/' + str(sell_id) + '.jpg')\n",
    "        assert(image is not None)\n",
    "        image = cv2.resize(image, size)\n",
    "        images_train.append(image)\n",
    "    images_train = np.array(images_train)\n",
    "    print('images shape', images_train.shape, 'dtype', images_train.dtype)\n",
    "    return(images_train)\n",
    "\n",
    "images_train = get_image_array(X_train.index)\n",
    "images_test = get_image_array(X_test.index)\n",
    "images_sub = get_image_array(X_sub.index)"
   ]
  },
  {
   "cell_type": "markdown",
   "metadata": {},
   "source": [
    "### albumentations"
   ]
  },
  {
   "cell_type": "code",
   "execution_count": null,
   "metadata": {
    "execution": {
     "iopub.execute_input": "2021-06-27T13:09:23.975711Z",
     "iopub.status.busy": "2021-06-27T13:09:23.975249Z",
     "iopub.status.idle": "2021-06-27T13:09:25.57463Z",
     "shell.execute_reply": "2021-06-27T13:09:25.573304Z",
     "shell.execute_reply.started": "2021-06-27T13:09:23.975632Z"
    }
   },
   "outputs": [],
   "source": [
    "from albumentations import (\n",
    "    HorizontalFlip, IAAPerspective, ShiftScaleRotate, CLAHE, RandomRotate90,\n",
    "    Transpose, ShiftScaleRotate, Blur, OpticalDistortion, GridDistortion, HueSaturationValue,\n",
    "    IAAAdditiveGaussianNoise, GaussNoise, MotionBlur, MedianBlur, IAAPiecewiseAffine,\n",
    "    IAASharpen, IAAEmboss, RandomBrightnessContrast, Flip, OneOf, Compose\n",
    ")\n",
    "\n",
    "\n",
    "#пример взят из официальной документации: https://albumentations.readthedocs.io/en/latest/examples.html\n",
    "augmentation = Compose([\n",
    "    HorizontalFlip(),\n",
    "    OneOf([\n",
    "        IAAAdditiveGaussianNoise(),\n",
    "        GaussNoise(),\n",
    "    ], p=0.2),\n",
    "    OneOf([\n",
    "        MotionBlur(p=0.2),\n",
    "        MedianBlur(blur_limit=3, p=0.1),\n",
    "        Blur(blur_limit=3, p=0.1),\n",
    "    ], p=0.2),\n",
    "    ShiftScaleRotate(shift_limit=0.0625, scale_limit=0.2, rotate_limit=15, p=1),\n",
    "    OneOf([\n",
    "        OpticalDistortion(p=0.3),\n",
    "        GridDistortion(p=0.1),\n",
    "        IAAPiecewiseAffine(p=0.3),\n",
    "    ], p=0.2),\n",
    "    OneOf([\n",
    "        CLAHE(clip_limit=2),\n",
    "        IAASharpen(),\n",
    "        IAAEmboss(),\n",
    "        RandomBrightnessContrast(),\n",
    "    ], p=0.3),\n",
    "    HueSaturationValue(p=0.3),\n",
    "], p=1)\n",
    "\n",
    "#пример\n",
    "plt.figure(figsize = (12,8))\n",
    "for i in range(9):\n",
    "    img = augmentation(image = images_train[0])['image']\n",
    "    plt.subplot(3, 3, i + 1)\n",
    "    plt.imshow(img)\n",
    "    plt.axis('off')\n",
    "plt.show()"
   ]
  },
  {
   "cell_type": "code",
   "execution_count": null,
   "metadata": {
    "execution": {
     "iopub.execute_input": "2021-06-27T13:09:25.57757Z",
     "iopub.status.busy": "2021-06-27T13:09:25.577125Z",
     "iopub.status.idle": "2021-06-27T13:09:25.586667Z",
     "shell.execute_reply": "2021-06-27T13:09:25.585108Z",
     "shell.execute_reply.started": "2021-06-27T13:09:25.577528Z"
    }
   },
   "outputs": [],
   "source": [
    "def make_augmentations(images):\n",
    "    print('применение аугментаций', end = '')\n",
    "    augmented_images = np.empty(images.shape)\n",
    "    for i in range(images.shape[0]):\n",
    "        if i % 200 == 0:\n",
    "            print('.', end = '')\n",
    "    augment_dict = augmentation(image = images[i])\n",
    "    augmented_image = augment_dict['image']\n",
    "    augmented_images[i] = augmented_image\n",
    "    print('')\n",
    "    return augmented_images"
   ]
  },
  {
   "cell_type": "code",
   "execution_count": null,
   "metadata": {
    "execution": {
     "iopub.execute_input": "2021-06-27T13:09:25.589766Z",
     "iopub.status.busy": "2021-06-27T13:09:25.589099Z",
     "iopub.status.idle": "2021-06-27T13:09:26.63686Z",
     "shell.execute_reply": "2021-06-27T13:09:26.635711Z",
     "shell.execute_reply.started": "2021-06-27T13:09:25.589606Z"
    }
   },
   "outputs": [],
   "source": [
    "# NLP part\n",
    "tokenize = Tokenizer(num_words=MAX_WORDS)\n",
    "tokenize.fit_on_texts(df_preproc.description)"
   ]
  },
  {
   "cell_type": "code",
   "execution_count": null,
   "metadata": {
    "execution": {
     "iopub.execute_input": "2021-06-27T13:09:26.639223Z",
     "iopub.status.busy": "2021-06-27T13:09:26.638787Z",
     "iopub.status.idle": "2021-06-27T13:09:30.546074Z",
     "shell.execute_reply": "2021-06-27T13:09:30.544793Z",
     "shell.execute_reply.started": "2021-06-27T13:09:26.639158Z"
    }
   },
   "outputs": [],
   "source": [
    "def process_image(image):\n",
    "    return augmentation(image = image.numpy())['image']\n",
    "\n",
    "def tokenize_(descriptions):\n",
    "    return sequence.pad_sequences(tokenize.texts_to_sequences(descriptions), maxlen = MAX_SEQUENCE_LENGTH)\n",
    "\n",
    "def tokenize_text(text):\n",
    "    return tokenize_([text.numpy().decode('utf-8')])[0]\n",
    "\n",
    "def tf_process_train_dataset_element(image, table_data, text, price):\n",
    "    im_shape = image.shape\n",
    "    [image,] = tf.py_function(process_image, [image], [tf.uint8])\n",
    "    image.set_shape(im_shape)\n",
    "    [text,] = tf.py_function(tokenize_text, [text], [tf.int32])\n",
    "    return (image, table_data, text), price\n",
    "\n",
    "def tf_process_val_dataset_element(image, table_data, text, price):\n",
    "    [text,] = tf.py_function(tokenize_text, [text], [tf.int32])\n",
    "    return (image, table_data, text), price\n",
    "\n",
    "train_dataset = tf.data.Dataset.from_tensor_slices((\n",
    "    images_train, X_train, df_preproc.description.iloc[X_train.index], y_train\n",
    "    )).map(tf_process_train_dataset_element)\n",
    "\n",
    "test_dataset = tf.data.Dataset.from_tensor_slices((\n",
    "    images_test, X_test, df_preproc.description.iloc[X_test.index], y_test\n",
    "    )).map(tf_process_val_dataset_element)\n",
    "\n",
    "y_sub = np.zeros(len(X_sub))\n",
    "sub_dataset = tf.data.Dataset.from_tensor_slices((\n",
    "    images_sub, X_sub, df_preproc.description.iloc[X_sub.index], y_sub\n",
    "    )).map(tf_process_val_dataset_element)\n",
    "\n",
    "#проверяем, что нет ошибок (не будет выброшено исключение):\n",
    "train_dataset.__iter__().__next__();\n",
    "test_dataset.__iter__().__next__();\n",
    "sub_dataset.__iter__().__next__();"
   ]
  },
  {
   "cell_type": "markdown",
   "metadata": {},
   "source": [
    "### Строим сверточную сеть для анализа изображений без \"головы\""
   ]
  },
  {
   "cell_type": "code",
   "execution_count": null,
   "metadata": {
    "execution": {
     "iopub.execute_input": "2021-06-27T13:09:41.807599Z",
     "iopub.status.busy": "2021-06-27T13:09:41.807123Z",
     "iopub.status.idle": "2021-06-27T13:09:48.227553Z",
     "shell.execute_reply": "2021-06-27T13:09:48.226067Z",
     "shell.execute_reply.started": "2021-06-27T13:09:41.807565Z"
    }
   },
   "outputs": [],
   "source": [
    "#нормализация включена в состав модели EfficientNetB3, поэтому на вход она принимает данные типа uint8\n",
    "efficientnet_model = tf.keras.applications.efficientnet.EfficientNetB3(weights = 'imagenet', include_top = False, input_shape = (size[1], size[0], 3))\n",
    "efficientnet_output = L.GlobalAveragePooling2D()(efficientnet_model.output)"
   ]
  },
  {
   "cell_type": "code",
   "execution_count": null,
   "metadata": {
    "execution": {
     "iopub.execute_input": "2021-06-27T13:09:48.232368Z",
     "iopub.status.busy": "2021-06-27T13:09:48.231937Z",
     "iopub.status.idle": "2021-06-27T13:09:48.280466Z",
     "shell.execute_reply": "2021-06-27T13:09:48.279002Z",
     "shell.execute_reply.started": "2021-06-27T13:09:48.232336Z"
    }
   },
   "outputs": [],
   "source": [
    "#строим нейросеть для анализа табличных данных\n",
    "model_mlp = Sequential()\n",
    "model_mlp.add(L.Dense(512, input_dim=X_train.shape[1], activation=\"relu\"))\n",
    "model_mlp.add(L.Dropout(0.4))\n",
    "model_mlp.add(L.Dense(256, activation=\"relu\"))\n",
    "model_mlp.add(L.Dropout(0.4))\n",
    "model_mlp.add(L.Dense(64, activation=\"relu\"))\n",
    "model_mlp.add(L.Dropout(0.4))"
   ]
  },
  {
   "cell_type": "code",
   "execution_count": null,
   "metadata": {
    "execution": {
     "iopub.execute_input": "2021-06-27T13:09:48.283214Z",
     "iopub.status.busy": "2021-06-27T13:09:48.282565Z",
     "iopub.status.idle": "2021-06-27T13:09:49.180795Z",
     "shell.execute_reply": "2021-06-27T13:09:49.179598Z",
     "shell.execute_reply.started": "2021-06-27T13:09:48.283159Z"
    }
   },
   "outputs": [],
   "source": [
    "# NLP\n",
    "nlp_model = Sequential([\n",
    "    L.Input(shape=MAX_SEQUENCE_LENGTH, name=\"seq_description\"),\n",
    "    L.Embedding(len(tokenize.word_index)+1, MAX_SEQUENCE_LENGTH,),\n",
    "    L.LSTM(256, return_sequences=True),\n",
    "    L.Dropout(0.5),\n",
    "    L.LSTM(128, return_sequences=True),\n",
    "    L.Dropout(0.25),\n",
    "    L.LSTM(64),\n",
    "    L.Dropout(0.25),\n",
    "    L.Dense(32),\n",
    "    ])"
   ]
  },
  {
   "cell_type": "code",
   "execution_count": null,
   "metadata": {
    "_kg_hide-output": true,
    "collapsed": true,
    "execution": {
     "iopub.execute_input": "2021-06-27T13:09:49.182961Z",
     "iopub.status.busy": "2021-06-27T13:09:49.182522Z",
     "iopub.status.idle": "2021-06-27T13:09:49.382621Z",
     "shell.execute_reply": "2021-06-27T13:09:49.381661Z",
     "shell.execute_reply.started": "2021-06-27T13:09:49.182915Z"
    },
    "jupyter": {
     "outputs_hidden": true
    }
   },
   "outputs": [],
   "source": [
    "#объединяем выходы трех нейросетей\n",
    "combinedInput = L.concatenate([efficientnet_output, model_mlp.output, nlp_model.output])\n",
    "\n",
    "# being our regression head\n",
    "head = L.Dense(256, activation=\"relu\")(combinedInput)\n",
    "head = L.Dense(1,)(head)\n",
    "\n",
    "model = Model(inputs=[efficientnet_model.input, model_mlp.input, nlp_model.input], outputs=head)\n",
    "model.summary()"
   ]
  },
  {
   "cell_type": "code",
   "execution_count": null,
   "metadata": {
    "execution": {
     "iopub.execute_input": "2021-06-27T13:09:59.42981Z",
     "iopub.status.busy": "2021-06-27T13:09:59.429407Z",
     "iopub.status.idle": "2021-06-27T13:09:59.45782Z",
     "shell.execute_reply": "2021-06-27T13:09:59.456633Z",
     "shell.execute_reply.started": "2021-06-27T13:09:59.429778Z"
    }
   },
   "outputs": [],
   "source": [
    "optimizer = tf.keras.optimizers.Adam(0.005)\n",
    "model.compile(loss='MAPE',optimizer=optimizer, metrics=['MAPE'])"
   ]
  },
  {
   "cell_type": "code",
   "execution_count": null,
   "metadata": {
    "execution": {
     "iopub.execute_input": "2021-06-27T13:09:59.847174Z",
     "iopub.status.busy": "2021-06-27T13:09:59.846787Z",
     "iopub.status.idle": "2021-06-27T13:09:59.856336Z",
     "shell.execute_reply": "2021-06-27T13:09:59.854312Z",
     "shell.execute_reply.started": "2021-06-27T13:09:59.84714Z"
    }
   },
   "outputs": [],
   "source": [
    "checkpoint = ModelCheckpoint('../working/best_model.hdf5', monitor=['val_MAPE'], verbose=0, mode='min')\n",
    "earlystop = EarlyStopping(monitor='val_MAPE', patience=10, restore_best_weights=True,)\n",
    "callbacks_list = [checkpoint, earlystop]"
   ]
  },
  {
   "cell_type": "code",
   "execution_count": null,
   "metadata": {
    "_kg_hide-output": true,
    "execution": {
     "iopub.execute_input": "2021-06-27T13:10:01.470693Z",
     "iopub.status.busy": "2021-06-27T13:10:01.470326Z",
     "iopub.status.idle": "2021-06-27T14:53:19.779533Z",
     "shell.execute_reply": "2021-06-27T14:53:19.778444Z",
     "shell.execute_reply.started": "2021-06-27T13:10:01.470639Z"
    }
   },
   "outputs": [],
   "source": [
    "history = model.fit(train_dataset.batch(30),\n",
    "                    epochs=100,\n",
    "                    validation_data = test_dataset.batch(30),\n",
    "                    callbacks=callbacks_list\n",
    "                   )"
   ]
  },
  {
   "cell_type": "code",
   "execution_count": null,
   "metadata": {
    "execution": {
     "iopub.execute_input": "2021-06-27T14:53:19.784043Z",
     "iopub.status.busy": "2021-06-27T14:53:19.78336Z",
     "iopub.status.idle": "2021-06-27T14:53:20.019753Z",
     "shell.execute_reply": "2021-06-27T14:53:20.018304Z",
     "shell.execute_reply.started": "2021-06-27T14:53:19.783994Z"
    }
   },
   "outputs": [],
   "source": [
    "plt.title('Loss')\n",
    "plt.plot(history.history['MAPE'], label='train')\n",
    "plt.plot(history.history['val_MAPE'], label='test')\n",
    "plt.show();"
   ]
  },
  {
   "cell_type": "code",
   "execution_count": null,
   "metadata": {
    "execution": {
     "iopub.execute_input": "2021-06-27T14:53:20.022341Z",
     "iopub.status.busy": "2021-06-27T14:53:20.021854Z",
     "iopub.status.idle": "2021-06-27T14:53:22.116042Z",
     "shell.execute_reply": "2021-06-27T14:53:22.114887Z",
     "shell.execute_reply.started": "2021-06-27T14:53:20.022296Z"
    }
   },
   "outputs": [],
   "source": [
    "model.load_weights('../working/best_model.hdf5')\n",
    "model.save('../working/nn_final.hdf5')"
   ]
  },
  {
   "cell_type": "code",
   "execution_count": null,
   "metadata": {
    "execution": {
     "iopub.execute_input": "2021-06-27T14:53:22.120902Z",
     "iopub.status.busy": "2021-06-27T14:53:22.120284Z",
     "iopub.status.idle": "2021-06-27T14:53:29.714623Z",
     "shell.execute_reply": "2021-06-27T14:53:29.712787Z",
     "shell.execute_reply.started": "2021-06-27T14:53:22.120848Z"
    }
   },
   "outputs": [],
   "source": [
    "test_predict_nn3 = model.predict(test_dataset.batch(30))\n",
    "print(f\"TEST mape: {(mape(y_test, test_predict_nn3[:,0]))*100:0.2f}%\")"
   ]
  },
  {
   "cell_type": "code",
   "execution_count": null,
   "metadata": {
    "execution": {
     "iopub.execute_input": "2021-06-27T14:53:29.726545Z",
     "iopub.status.busy": "2021-06-27T14:53:29.723064Z",
     "iopub.status.idle": "2021-06-27T14:53:36.847229Z",
     "shell.execute_reply": "2021-06-27T14:53:36.846154Z",
     "shell.execute_reply.started": "2021-06-27T14:53:29.72589Z"
    }
   },
   "outputs": [],
   "source": [
    "sub_predict_nn3 = model.predict(sub_dataset.batch(30))\n",
    "sample_submission['price'] = sub_predict_nn3[:,0]\n",
    "sample_submission.to_csv('nn3_submission.csv', index=False)"
   ]
  },
  {
   "cell_type": "markdown",
   "metadata": {},
   "source": [
    "# Blend"
   ]
  },
  {
   "cell_type": "code",
   "execution_count": null,
   "metadata": {
    "execution": {
     "iopub.execute_input": "2021-06-27T16:36:55.414778Z",
     "iopub.status.busy": "2021-06-27T16:36:55.414402Z",
     "iopub.status.idle": "2021-06-27T16:36:55.421791Z",
     "shell.execute_reply": "2021-06-27T16:36:55.419964Z",
     "shell.execute_reply.started": "2021-06-27T16:36:55.41474Z"
    }
   },
   "outputs": [],
   "source": [
    "blend_predict = (test_predict_catboost + test_predict_nn1[:,0]) / 2\n",
    "print(f\"TEST mape: {(mape(y_test, blend_predict))*100:0.2f}%\")"
   ]
  },
  {
   "cell_type": "code",
   "execution_count": null,
   "metadata": {
    "execution": {
     "iopub.execute_input": "2021-06-27T16:37:18.64178Z",
     "iopub.status.busy": "2021-06-27T16:37:18.641469Z",
     "iopub.status.idle": "2021-06-27T16:37:18.65632Z",
     "shell.execute_reply": "2021-06-27T16:37:18.655571Z",
     "shell.execute_reply.started": "2021-06-27T16:37:18.641753Z"
    }
   },
   "outputs": [],
   "source": [
    "blend_sub_predict = (sub_predict_catboost + sub_predict_nn1_better[:,0]) / 2\n",
    "sample_submission['price'] = blend_sub_predict\n",
    "sample_submission.to_csv('blend_submission.csv', index=False)"
   ]
  },
  {
   "cell_type": "markdown",
   "metadata": {},
   "source": [
    "Простой блендинг не помог, попробуем через метамодель."
   ]
  },
  {
   "cell_type": "code",
   "execution_count": null,
   "metadata": {
    "execution": {
     "iopub.execute_input": "2021-06-27T16:50:41.514909Z",
     "iopub.status.busy": "2021-06-27T16:50:41.514593Z",
     "iopub.status.idle": "2021-06-27T16:50:41.89257Z",
     "shell.execute_reply": "2021-06-27T16:50:41.891781Z",
     "shell.execute_reply.started": "2021-06-27T16:50:41.51488Z"
    }
   },
   "outputs": [],
   "source": [
    "train_cat = cat.predict(X_train).reshape(-1,1)\n",
    "train_nn = better_model.predict(X_train).reshape(-1,1)\n",
    "meta_train = np.hstack([train_cat, train_nn])\n",
    "\n",
    "test_cat = cat.predict(X_test).reshape(-1,1)\n",
    "test_nn = better_model.predict(X_test).reshape(-1,1)\n",
    "meta_test = np.hstack([test_cat, test_nn])"
   ]
  },
  {
   "cell_type": "code",
   "execution_count": null,
   "metadata": {
    "execution": {
     "iopub.execute_input": "2021-06-27T16:50:42.298549Z",
     "iopub.status.busy": "2021-06-27T16:50:42.298218Z",
     "iopub.status.idle": "2021-06-27T16:50:42.306892Z",
     "shell.execute_reply": "2021-06-27T16:50:42.305929Z",
     "shell.execute_reply.started": "2021-06-27T16:50:42.298519Z"
    }
   },
   "outputs": [],
   "source": [
    "from sklearn.linear_model import LinearRegression\n",
    "lreg = LinearRegression()\n",
    "lreg.fit(meta_train, y_train)\n",
    "meta_test_predict = lreg.predict(meta_test)"
   ]
  },
  {
   "cell_type": "code",
   "execution_count": null,
   "metadata": {
    "execution": {
     "iopub.execute_input": "2021-06-27T16:50:57.800405Z",
     "iopub.status.busy": "2021-06-27T16:50:57.800038Z",
     "iopub.status.idle": "2021-06-27T16:50:57.808581Z",
     "shell.execute_reply": "2021-06-27T16:50:57.807478Z",
     "shell.execute_reply.started": "2021-06-27T16:50:57.800375Z"
    }
   },
   "outputs": [],
   "source": [
    "print(f\"TEST mape: {(mape(y_test, meta_test_predict))*100:0.2f}%\")"
   ]
  },
  {
   "cell_type": "markdown",
   "metadata": {},
   "source": [
    "Да тоже не особо."
   ]
  },
  {
   "cell_type": "markdown",
   "metadata": {},
   "source": [
    "# Выводы.\n",
    "\n",
    "В отличе от бейзлайна добавление новых признаков в виде текста и фотографий и их обработка нейросетями не даёт положительного эффекта. \n",
    "Вероятно, это связано с тем, что эти модели требуют более тонкой настройки и подгонки, чтобы давать результаты, сопоставимые с \"простой\" нейросетью, которая была настроена."
   ]
  },
  {
   "cell_type": "markdown",
   "metadata": {},
   "source": [
    "# Model Bonus: проброс признака\n",
    "\n",
    "От проброса признака пришлось отказаться, стандартная модель вылетает с ошибкой InvalidArgumentError: 2 root error(s) found на обучении. Разбираться с этим не было времени."
   ]
  },
  {
   "cell_type": "code",
   "execution_count": null,
   "metadata": {},
   "outputs": [],
   "source": []
  }
 ],
 "metadata": {
  "kernelspec": {
   "display_name": "Python 3",
   "language": "python",
   "name": "python3"
  },
  "language_info": {
   "codemirror_mode": {
    "name": "ipython",
    "version": 3
   },
   "file_extension": ".py",
   "mimetype": "text/x-python",
   "name": "python",
   "nbconvert_exporter": "python",
   "pygments_lexer": "ipython3",
   "version": "3.7.9"
  }
 },
 "nbformat": 4,
 "nbformat_minor": 4
}
