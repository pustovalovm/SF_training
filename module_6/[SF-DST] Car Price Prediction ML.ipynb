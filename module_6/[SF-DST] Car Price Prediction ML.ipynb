{
 "cells": [
  {
   "cell_type": "code",
   "execution_count": 1,
   "id": "related-companion",
   "metadata": {},
   "outputs": [],
   "source": [
    "import json\n",
    "import datetime\n",
    "import pandas as pd\n",
    "import numpy as np\n",
    "import seaborn as sns\n",
    "import warnings\n",
    "import matplotlib.pyplot as plt\n",
    "from data_processing import dataSet, numeric_plots\n",
    "from sklearn.model_selection import train_test_split, GridSearchCV\n",
    "from sklearn.linear_model import LinearRegression, Ridge\n",
    "from sklearn.tree import DecisionTreeRegressor\n",
    "from sklearn.ensemble import RandomForestRegressor, StackingRegressor, BaggingRegressor\n",
    "from sklearn.metrics import mean_absolute_percentage_error as mape\n",
    "from sklearn.neighbors import KNeighborsRegressor\n",
    "from sklearn.base import BaseEstimator, TransformerMixin, RegressorMixin, clone\n",
    "from catboost import CatBoostRegressor\n",
    "import xgboost as xgb"
   ]
  },
  {
   "cell_type": "code",
   "execution_count": 2,
   "id": "alien-province",
   "metadata": {},
   "outputs": [],
   "source": [
    "sns.set()\n",
    "sns.set(rc={'figure.figsize':(8,8)})\n",
    "sns.set_palette('bright')"
   ]
  },
  {
   "cell_type": "code",
   "execution_count": 3,
   "id": "geographic-value",
   "metadata": {},
   "outputs": [],
   "source": [
    "RANDOM_SEED = 42"
   ]
  },
  {
   "cell_type": "markdown",
   "id": "municipal-electronics",
   "metadata": {},
   "source": [
    "# 2. Машинное обучение.\n",
    "\n",
    "В этом ноутбуке опробованы различные алгоритмы машинного обучения и проведено сравнение результатов. Рассмотрены алгоритмы:\n",
    "* OLS-регрессия (красиво взрывается)\n",
    "* RIDGE-регрессия\n",
    "* Бэггинг над RIDGE-регрессией\n",
    "* K ближайших соседей\n",
    "* Random Forest\n",
    "* XGBoost\n",
    "* CatBoost\n",
    "\n",
    "Почти для всех алгоритмов на кросс-валидации подобраны некоторые гиперпараметры.\n",
    "\n",
    "В разделе 2.2. применено ансамблирование получившихся алгоритмов (наивное усреднение и стэкинг), как всех сразу, так и только топ-3 по результатам метрики.\n",
    "\n",
    "Осторожно: довольно требовательно к ресурсам компьютера! Датасет большой, плюс некоторые моменты сделаны неоптимально, например иногда заново фитим алгоритмы на тех же данных. В виду сжатых  сроков полировка и оптимизация некоторых кусков не проводилась. Полный прогон ноутбука на core i5 9го поколения занимает ночь и требует 32 гБ оперативной памяти.\n",
    "\n",
    "## 2.0. Подготовка данных.\n",
    "\n",
    "Для начала загрузим и обработаем данные (при помощи написанного при EDA класса) и отделим от трейна отложенную выборку. Также переставим столбцы в тесте для кэггла в том же порядке, в каком они идут в основных данных."
   ]
  },
  {
   "cell_type": "code",
   "execution_count": 4,
   "id": "strange-finnish",
   "metadata": {},
   "outputs": [
    {
     "name": "stderr",
     "output_type": "stream",
     "text": [
      "/home/rivfader/anaconda3/envs/autoru/lib/python3.8/site-packages/IPython/core/interactiveshell.py:3357: DtypeWarning: Columns (28) have mixed types.Specify dtype option on import or set low_memory=False.\n",
      "  if (await self.run_code(code, result,  async_=asy)):\n"
     ]
    }
   ],
   "source": [
    "dropcols = ['date_posted', 'views_total', \n",
    "            'views_today', 'url', 'catalog_link', \n",
    "            'orig_url', 'vin', 'license_plate']\n",
    "dummy_cols = ['brand', 'model', 'generation', \n",
    "              'body_type', 'color', 'fuel_type', \n",
    "              'transmission', 'drive', 'wheel', \n",
    "              'state', 'pts', 'customs', 'exchange']\n",
    "test_set = dataSet.from_csv('./input/test_scraped.csv', is_test = True)\n",
    "test_no_dummies = test_set.prepare_frame_no_dummies(orig_test_path = './input/test.csv')\n",
    "test_with_dummies = test_set.prepare_frame_with_dummies(dummy_cols)\n",
    "\n",
    "train_set = dataSet.from_csv('./input/dataset_with_electro.csv', is_test= False)\n",
    "train_no_dummies = train_set.prepare_frame_no_dummies(\n",
    "                    test_no_dummies.brand.unique(),\n",
    "                    test_no_dummies.model.unique())\n",
    "train_with_dummies = train_set.prepare_frame_with_dummies(dummy_cols)\n",
    "\n",
    "train_with_dummies, test_with_dummies = dataSet.equalize_columns(train_with_dummies, \n",
    "                                                                 test_with_dummies)\n",
    "\n",
    "train_no_dummies.drop(columns = dropcols, inplace = True)\n",
    "test_no_dummies.drop(columns = dropcols, inplace = True)\n",
    "train_with_dummies.drop(columns = dropcols, inplace = True)\n",
    "test_with_dummies.drop(columns = dropcols, inplace = True)\n",
    "\n",
    "train_no_dummies.set_index('offer_id', inplace=True)\n",
    "train_with_dummies.set_index('offer_id', inplace=True)\n",
    "test_no_dummies.set_index('offer_id', inplace=True)\n",
    "test_with_dummies.set_index('offer_id', inplace=True)"
   ]
  },
  {
   "cell_type": "code",
   "execution_count": 5,
   "id": "fuzzy-symposium",
   "metadata": {},
   "outputs": [],
   "source": [
    "X_train, X_test, y_train, y_test = train_test_split(\n",
    "            train_with_dummies.drop(columns = ['log_price']), \n",
    "            train_with_dummies.log_price, test_size = 0.3)\n",
    "kaggle_test = test_with_dummies.drop(columns=['log_price'])[X_test.columns]\n",
    "X_full, y_full = train_with_dummies.drop(columns = ['log_price']), train_with_dummies.log_price"
   ]
  },
  {
   "cell_type": "code",
   "execution_count": 6,
   "id": "patient-document",
   "metadata": {},
   "outputs": [],
   "source": [
    "def make_submission(clf, filename, inflation_factor = 1):\n",
    "    '''Автоматически делаем предсказине обученной моделью по выборке \n",
    "    для кэггла и записываем в файл. Предикт умножаем на inflation_factor, \n",
    "    чтобы скомпенсировать инфляцию за период времени, прошедший от сбора цен проверочной\n",
    "    выборки с кэггла и от сбора обучающих данных.\n",
    "    '''\n",
    "    y_pred = clf.predict(kaggle_test)\n",
    "    sub = pd.concat([pd.Series(test_with_dummies.index).apply(lambda x: str(x)[:-2]),\n",
    "                     pd.Series(inflation_factor*np.exp(y_pred))], axis=1).rename(\n",
    "                                columns = {'offer_id':'sell_id', 0:'price'})\n",
    "    sub.to_csv(filename, index=False)"
   ]
  },
  {
   "cell_type": "code",
   "execution_count": 7,
   "id": "median-estimate",
   "metadata": {},
   "outputs": [],
   "source": [
    "def mapes(y_true, y_pred):\n",
    "    '''\n",
    "    Печатаем MAPE для логарифма цены и для цены в рублях, возвращаем эти значения\n",
    "    для сохранения в словаре с результатами.\n",
    "    '''\n",
    "    mape_log = mape(y_true, y_pred)\n",
    "    mape_rub = mape(np.exp(y_true), np.exp(y_pred))\n",
    "    print(f'MAPE для логарифма цены: {mape_log}')\n",
    "    print(f'MAPE для цены в рублях: {mape_rub}')\n",
    "    return mape_log, mape_rub \n",
    "\n",
    "results = {}"
   ]
  },
  {
   "cell_type": "markdown",
   "id": "loose-given",
   "metadata": {},
   "source": [
    "## 2.1. Эксперименты над отдельными алгоритмами.\n",
    "### 2.1.0. Простая линейная регрессия"
   ]
  },
  {
   "cell_type": "markdown",
   "id": "spare-jurisdiction",
   "metadata": {},
   "source": [
    "Попробуем простейший метод линейной регресии. Ничего хорошего не ждём, у нас есть коррелирующие столбцы в матрице плана."
   ]
  },
  {
   "cell_type": "code",
   "execution_count": 8,
   "id": "original-mystery",
   "metadata": {},
   "outputs": [],
   "source": [
    "lr = LinearRegression()\n",
    "lr.fit(X_train, y_train)\n",
    "y_pred = lr.predict(X_test)"
   ]
  },
  {
   "cell_type": "code",
   "execution_count": 9,
   "id": "demonstrated-triple",
   "metadata": {},
   "outputs": [
    {
     "data": {
      "text/plain": [
       "1489.5968456370083"
      ]
     },
     "execution_count": 9,
     "metadata": {},
     "output_type": "execute_result"
    }
   ],
   "source": [
    "mape(y_test, y_pred)"
   ]
  },
  {
   "cell_type": "code",
   "execution_count": 10,
   "id": "careful-working",
   "metadata": {},
   "outputs": [
    {
     "data": {
      "text/plain": [
       "[<matplotlib.lines.Line2D at 0x7f368ae50ac0>]"
      ]
     },
     "execution_count": 10,
     "metadata": {},
     "output_type": "execute_result"
    },
    {
     "data": {
      "image/png": "[encoded data removed]",
      "text/plain": [
       "<Figure size 576x576 with 1 Axes>"
      ]
     },
     "metadata": {},
     "output_type": "display_data"
    }
   ],
   "source": [
    "plt.plot(lr.coef_)"
   ]
  },
  {
   "cell_type": "markdown",
   "id": "facial-settlement",
   "metadata": {},
   "source": [
    "Линейная регрессия взорвалась. Прикольно. Это потому что матрица $X^T X$ очевидно близка к необратимой. Выкинем объём двигателя."
   ]
  },
  {
   "cell_type": "code",
   "execution_count": 11,
   "id": "desperate-company",
   "metadata": {},
   "outputs": [],
   "source": [
    "lr = LinearRegression()\n",
    "lr.fit(X_train.drop(columns=['engine_volume']), y_train)\n",
    "y_pred = lr.predict(X_test.drop(columns=['engine_volume']))"
   ]
  },
  {
   "cell_type": "code",
   "execution_count": 12,
   "id": "romantic-robinson",
   "metadata": {},
   "outputs": [
    {
     "data": {
      "text/plain": [
       "2449.6103047491115"
      ]
     },
     "execution_count": 12,
     "metadata": {},
     "output_type": "execute_result"
    }
   ],
   "source": [
    "mape(y_test, y_pred)"
   ]
  },
  {
   "cell_type": "code",
   "execution_count": 13,
   "id": "strange-supply",
   "metadata": {},
   "outputs": [
    {
     "data": {
      "text/plain": [
       "[<matplotlib.lines.Line2D at 0x7f368ae17160>]"
      ]
     },
     "execution_count": 13,
     "metadata": {},
     "output_type": "execute_result"
    },
    {
     "data": {
      "image/png": "[encoded data removed]",
      "text/plain": [
       "<Figure size 576x576 with 1 Axes>"
      ]
     },
     "metadata": {},
     "output_type": "display_data"
    }
   ],
   "source": [
    "plt.plot(lr.coef_)"
   ]
  },
  {
   "cell_type": "markdown",
   "id": "abstract-venture",
   "metadata": {},
   "source": [
    "Не особо помогает. Видимо, мультиколлинеарности там много. Регуляризация!\n",
    "\n",
    "### 2.1.1. RIDGE regression"
   ]
  },
  {
   "cell_type": "code",
   "execution_count": 14,
   "id": "sufficient-maryland",
   "metadata": {},
   "outputs": [
    {
     "name": "stdout",
     "output_type": "stream",
     "text": [
      "MAPE для логарифма цены: 0.011227999304165152\n",
      "MAPE для цены в рублях: 0.14938399425590476\n"
     ]
    }
   ],
   "source": [
    "ridge = Ridge(random_state=RANDOM_SEED)\n",
    "ridge.fit(X_train, y_train)\n",
    "y_pred = ridge.predict(X_test)\n",
    "results[\"Ridge_basic\"] = mapes(y_test, y_pred)"
   ]
  },
  {
   "cell_type": "markdown",
   "id": "sunset-renaissance",
   "metadata": {},
   "source": [
    "Ну вот, другое дело. Потюним гиперпараметры."
   ]
  },
  {
   "cell_type": "code",
   "execution_count": 15,
   "id": "prompt-cruise",
   "metadata": {},
   "outputs": [
    {
     "name": "stdout",
     "output_type": "stream",
     "text": [
      "Fitting 5 folds for each of 15 candidates, totalling 75 fits\n",
      "Ridge(alpha=0.5, max_iter=100, random_state=42)\n",
      "MAPE для логарифма цены: 0.01120699898532855\n",
      "MAPE для цены в рублях: 0.149055808028866\n"
     ]
    }
   ],
   "source": [
    "search_grid_lr = {\n",
    "    'alpha':[0.5, 1, 2, 4, 6],\n",
    "    'max_iter': [100, 1000, 10000],\n",
    "}\n",
    "gridsearch_lr = GridSearchCV(estimator = ridge, \n",
    "                             param_grid = search_grid_lr, \n",
    "                             scoring='neg_mean_absolute_percentage_error', \n",
    "                             n_jobs=-1, \n",
    "                             verbose = 2)\n",
    "gridsearch_lr.fit(X_train, y_train)\n",
    "best_lr = gridsearch_lr.best_estimator_\n",
    "print(best_lr)\n",
    "best_lr.fit(X_train, y_train)\n",
    "y_pred = best_lr.predict(X_test)\n",
    "results[\"Ridge_tuned\"] = mapes(y_test, y_pred)"
   ]
  },
  {
   "cell_type": "code",
   "execution_count": 16,
   "id": "continuous-institute",
   "metadata": {},
   "outputs": [],
   "source": [
    "best_lr.fit(X_full, y_full)\n",
    "make_submission(best_lr, './output/best_ridge_no_correction.csv')"
   ]
  },
  {
   "cell_type": "raw",
   "id": "analyzed-teaching",
   "metadata": {},
   "source": [
    "#команда для сабмита на кэггл прямо из ноутбука. https://github.com/Kaggle/kaggle-api\n",
    "#все подобные этой ячейки сделаны raw\n",
    "!kaggle competitions submit sf-dst-car-price-prediction -f ./output/best_ridge_no_correction.csv -m 'best_ridge_no_correction'"
   ]
  },
  {
   "cell_type": "markdown",
   "id": "twenty-little",
   "metadata": {},
   "source": [
    "Результат на кэгле - 17.76. Либо переобучение, либо инфляция (обучающий датасет на полгода старше тренировочного).\n",
    "Для улучшения MAPE на кэггловсокй выборке придётся модифицировать либо обучающую выборку (уменьшать цены в ней на несколько процентов), либо предикт (уменьшать его на несколько процентов). По-хорошему нужно найти статистику по изменению цен на конкретные модели автомобилей, чтобы изменять не всю выборку разом, а отдельно для каждой модели. Но такой статистики в удобоваримом виде найти не удалось.\n",
    "Эксперименты показали, что достаточно модифицировать предикт. Уменьшение на 9% улучшает MAPE на несколько единиц."
   ]
  },
  {
   "cell_type": "code",
   "execution_count": 17,
   "id": "inappropriate-damage",
   "metadata": {},
   "outputs": [],
   "source": [
    "make_submission(best_lr, './output/best_ridge_correction.csv', 0.91)"
   ]
  },
  {
   "cell_type": "raw",
   "id": "rocky-endorsement",
   "metadata": {},
   "source": [
    "!kaggle competitions submit sf-dst-car-price-prediction -f ./output/best_ridge_correction.csv -m 'best_ridge_correction'"
   ]
  },
  {
   "cell_type": "markdown",
   "id": "chinese-trauma",
   "metadata": {},
   "source": [
    "Сразу стало 14.74. Интересно попробовать бэггинг."
   ]
  },
  {
   "cell_type": "code",
   "execution_count": 18,
   "id": "artistic-finish",
   "metadata": {},
   "outputs": [
    {
     "name": "stdout",
     "output_type": "stream",
     "text": [
      "MAPE для логарифма цены: 0.011219402355374988\n",
      "MAPE для цены в рублях: 0.14906306992606855\n"
     ]
    }
   ],
   "source": [
    "bagger_lr = BaggingRegressor(base_estimator=best_lr, random_state=RANDOM_SEED, n_estimators=20)\n",
    "bagger_lr.fit(X_train, y_train)\n",
    "y_pred = bagger_lr.predict(X_test)\n",
    "results[\"ridge_bagging\"] = mapes(y_test, y_pred)"
   ]
  },
  {
   "cell_type": "markdown",
   "id": "promising-decimal",
   "metadata": {},
   "source": [
    "Поробовали, если трогать другие параметры (max_samples, max_features), то становится только хуже."
   ]
  },
  {
   "cell_type": "code",
   "execution_count": 19,
   "id": "stuffed-while",
   "metadata": {},
   "outputs": [],
   "source": [
    "bagger_lr.fit(X_full, y_full)\n",
    "make_submission(bagger_lr, './output/bagger_lr_correction.csv', 0.91)"
   ]
  },
  {
   "cell_type": "raw",
   "id": "upper-andrews",
   "metadata": {},
   "source": [
    "!kaggle competitions submit sf-dst-car-price-prediction -f ./output/bagger_lr_correction.csv -m 'bagger_lr_correction'"
   ]
  },
  {
   "cell_type": "markdown",
   "id": "serial-stations",
   "metadata": {},
   "source": [
    "### 2.1.2. K ближайших соседей.\n",
    "\n",
    "Несмотря на то, что knn в основном ииспользуется для классификации, регрессор на этом алгоритме тоже есть. Попробуем."
   ]
  },
  {
   "cell_type": "code",
   "execution_count": 20,
   "id": "searching-lightning",
   "metadata": {},
   "outputs": [
    {
     "name": "stdout",
     "output_type": "stream",
     "text": [
      "MAPE для логарифма цены: 0.014389083182167813\n",
      "MAPE для цены в рублях: 0.19101661285494873\n"
     ]
    }
   ],
   "source": [
    "knr = KNeighborsRegressor(n_neighbors=3)\n",
    "knr.fit(X_train, y_train)\n",
    "y_pred = knr.predict(X_test)\n",
    "results[\"KNNR_basic\"] = mapes(y_test, y_pred)"
   ]
  },
  {
   "cell_type": "markdown",
   "id": "combined-geography",
   "metadata": {},
   "source": [
    "К ближайших соседей не очень хорошо себя показал, и очень меделнно работает. Попытка потюнить гиперпараметры не удалась - ОЧЕНЬ долго считается. Тем не менее, попробуем включить его в стекинг."
   ]
  },
  {
   "cell_type": "code",
   "execution_count": 21,
   "id": "received-massage",
   "metadata": {},
   "outputs": [],
   "source": [
    "knr.fit(X_full, y_full)\n",
    "make_submission(knr, './output/knr_no_correction.csv')\n",
    "make_submission(knr, './output/knr_correction.csv', 0.91)"
   ]
  },
  {
   "cell_type": "raw",
   "id": "partial-classic",
   "metadata": {},
   "source": [
    "!kaggle competitions submit sf-dst-car-price-prediction -f ./output/knr_no_correction.csv -m 'knr_no_correction'"
   ]
  },
  {
   "cell_type": "raw",
   "id": "charming-catering",
   "metadata": {},
   "source": [
    "!kaggle competitions submit sf-dst-car-price-prediction -f ./output/knr_correction.csv -m 'knr_correction'"
   ]
  },
  {
   "cell_type": "markdown",
   "id": "express-pendant",
   "metadata": {},
   "source": [
    "### 2.1.3. Random Forest."
   ]
  },
  {
   "cell_type": "code",
   "execution_count": 22,
   "id": "infinite-vegetable",
   "metadata": {},
   "outputs": [],
   "source": [
    "rf = RandomForestRegressor(random_state = RANDOM_SEED, n_jobs=-1, verbose = False)"
   ]
  },
  {
   "cell_type": "code",
   "execution_count": 23,
   "id": "iraqi-awareness",
   "metadata": {},
   "outputs": [
    {
     "name": "stderr",
     "output_type": "stream",
     "text": [
      "[Parallel(n_jobs=-1)]: Using backend ThreadingBackend with 8 concurrent workers.\n",
      "[Parallel(n_jobs=-1)]: Done  34 tasks      | elapsed:   40.6s\n",
      "[Parallel(n_jobs=-1)]: Done 100 out of 100 | elapsed:  1.7min finished\n",
      "[Parallel(n_jobs=8)]: Using backend ThreadingBackend with 8 concurrent workers.\n",
      "[Parallel(n_jobs=8)]: Done  34 tasks      | elapsed:    0.1s\n",
      "[Parallel(n_jobs=8)]: Done 100 out of 100 | elapsed:    0.3s finished\n"
     ]
    }
   ],
   "source": [
    "rf.fit(X_train, y_train)\n",
    "y_pred = rf.predict(X_test)"
   ]
  },
  {
   "cell_type": "code",
   "execution_count": 24,
   "id": "fleet-retreat",
   "metadata": {},
   "outputs": [
    {
     "name": "stdout",
     "output_type": "stream",
     "text": [
      "MAPE для логарифма цены: 0.010685305146578896\n",
      "MAPE для цены в рублях: 0.14155231682666897\n"
     ]
    }
   ],
   "source": [
    "results[\"random_forest_basic\"] = mapes(y_test, y_pred)"
   ]
  },
  {
   "cell_type": "code",
   "execution_count": 25,
   "id": "difficult-logic",
   "metadata": {},
   "outputs": [
    {
     "data": {
      "text/plain": [
       "<AxesSubplot:>"
      ]
     },
     "execution_count": 25,
     "metadata": {},
     "output_type": "execute_result"
    },
    {
     "data": {
      "image/png": "[encoded data removed]",
      "text/plain": [
       "<Figure size 576x576 with 1 Axes>"
      ]
     },
     "metadata": {},
     "output_type": "display_data"
    }
   ],
   "source": [
    "(pd.Series(rf.feature_importances_, index = X_train.columns)\n",
    "     .sort_values(ascending = False)\n",
    "     .iloc[0:10].plot(kind = 'barh'))"
   ]
  },
  {
   "cell_type": "code",
   "execution_count": 26,
   "id": "czech-layout",
   "metadata": {},
   "outputs": [
    {
     "name": "stderr",
     "output_type": "stream",
     "text": [
      "[Parallel(n_jobs=-1)]: Using backend ThreadingBackend with 8 concurrent workers.\n",
      "[Parallel(n_jobs=-1)]: Done  34 tasks      | elapsed:  1.0min\n",
      "[Parallel(n_jobs=-1)]: Done 100 out of 100 | elapsed:  2.6min finished\n",
      "[Parallel(n_jobs=8)]: Using backend ThreadingBackend with 8 concurrent workers.\n",
      "[Parallel(n_jobs=8)]: Done  34 tasks      | elapsed:    0.1s\n",
      "[Parallel(n_jobs=8)]: Done 100 out of 100 | elapsed:    0.2s finished\n",
      "[Parallel(n_jobs=8)]: Using backend ThreadingBackend with 8 concurrent workers.\n",
      "[Parallel(n_jobs=8)]: Done  34 tasks      | elapsed:    0.1s\n",
      "[Parallel(n_jobs=8)]: Done 100 out of 100 | elapsed:    0.2s finished\n"
     ]
    }
   ],
   "source": [
    "rf.fit(X_full, y_full)\n",
    "make_submission(rf, './output/random_forest_no_correction.csv')\n",
    "make_submission(rf, './output/random_forest_correction.csv', 0.91)"
   ]
  },
  {
   "cell_type": "raw",
   "id": "allied-portugal",
   "metadata": {},
   "source": [
    "!kaggle competitions submit sf-dst-car-price-prediction -f ./output/random_forest_no_correction.csv -m 'random_forest_no_correction'"
   ]
  },
  {
   "cell_type": "raw",
   "id": "metropolitan-destruction",
   "metadata": {},
   "source": [
    "!kaggle competitions submit sf-dst-car-price-prediction -f ./output/random_forest_correction.csv -m 'random_forest_correction'"
   ]
  },
  {
   "cell_type": "code",
   "execution_count": 27,
   "id": "designed-turner",
   "metadata": {},
   "outputs": [
    {
     "name": "stdout",
     "output_type": "stream",
     "text": [
      "Fitting 5 folds for each of 4 candidates, totalling 20 fits\n"
     ]
    },
    {
     "name": "stderr",
     "output_type": "stream",
     "text": [
      "[Parallel(n_jobs=-1)]: Using backend ThreadingBackend with 8 concurrent workers.\n",
      "[Parallel(n_jobs=-1)]: Done  34 tasks      | elapsed:   40.6s\n",
      "[Parallel(n_jobs=-1)]: Done 184 tasks      | elapsed:  3.2min\n",
      "[Parallel(n_jobs=-1)]: Done 200 out of 200 | elapsed:  3.4min finished\n"
     ]
    },
    {
     "name": "stdout",
     "output_type": "stream",
     "text": [
      "RandomForestRegressor(n_estimators=200, n_jobs=-1, random_state=42,\n",
      "                      verbose=True)\n"
     ]
    },
    {
     "name": "stderr",
     "output_type": "stream",
     "text": [
      "[Parallel(n_jobs=-1)]: Using backend ThreadingBackend with 8 concurrent workers.\n",
      "[Parallel(n_jobs=-1)]: Done  34 tasks      | elapsed:   40.5s\n",
      "[Parallel(n_jobs=-1)]: Done 184 tasks      | elapsed:  3.2min\n",
      "[Parallel(n_jobs=-1)]: Done 200 out of 200 | elapsed:  3.4min finished\n",
      "[Parallel(n_jobs=8)]: Using backend ThreadingBackend with 8 concurrent workers.\n",
      "[Parallel(n_jobs=8)]: Done  34 tasks      | elapsed:    0.1s\n"
     ]
    },
    {
     "name": "stdout",
     "output_type": "stream",
     "text": [
      "MAPE для логарифма цены: 0.010660378007621865\n",
      "MAPE для цены в рублях: 0.14121270858656138\n"
     ]
    },
    {
     "name": "stderr",
     "output_type": "stream",
     "text": [
      "[Parallel(n_jobs=8)]: Done 184 tasks      | elapsed:    0.6s\n",
      "[Parallel(n_jobs=8)]: Done 200 out of 200 | elapsed:    0.6s finished\n"
     ]
    }
   ],
   "source": [
    "search_grid_rf = {\n",
    "    'n_estimators':[100, 200],\n",
    "    'max_depth': [None, 100],\n",
    "}\n",
    "gridsearch = GridSearchCV(estimator = rf, \n",
    "                          param_grid = search_grid_rf, \n",
    "                          scoring='neg_mean_absolute_percentage_error', \n",
    "                          n_jobs=-1, verbose = 3)\n",
    "gridsearch.fit(X_train, y_train)\n",
    "best_rf = gridsearch.best_estimator_\n",
    "print(best_rf)\n",
    "best_rf.fit(X_train, y_train)\n",
    "y_pred = best_rf.predict(X_test)\n",
    "results[\"random_forest_tuned\"] = mapes(y_test, y_pred)"
   ]
  },
  {
   "cell_type": "markdown",
   "id": "broadband-david",
   "metadata": {},
   "source": [
    "Random Forest лучше ридж-регресии, но не драматически (не в разы)."
   ]
  },
  {
   "cell_type": "code",
   "execution_count": 28,
   "id": "sustainable-pattern",
   "metadata": {},
   "outputs": [
    {
     "name": "stderr",
     "output_type": "stream",
     "text": [
      "[Parallel(n_jobs=-1)]: Using backend ThreadingBackend with 8 concurrent workers.\n",
      "[Parallel(n_jobs=-1)]: Done  34 tasks      | elapsed:  1.0min\n",
      "[Parallel(n_jobs=-1)]: Done 184 tasks      | elapsed:  4.8min\n",
      "[Parallel(n_jobs=-1)]: Done 200 out of 200 | elapsed:  5.2min finished\n",
      "[Parallel(n_jobs=8)]: Using backend ThreadingBackend with 8 concurrent workers.\n",
      "[Parallel(n_jobs=8)]: Done  34 tasks      | elapsed:    0.1s\n",
      "[Parallel(n_jobs=8)]: Done 184 tasks      | elapsed:    0.5s\n",
      "[Parallel(n_jobs=8)]: Done 200 out of 200 | elapsed:    0.5s finished\n",
      "[Parallel(n_jobs=8)]: Using backend ThreadingBackend with 8 concurrent workers.\n",
      "[Parallel(n_jobs=8)]: Done  34 tasks      | elapsed:    0.1s\n",
      "[Parallel(n_jobs=8)]: Done 184 tasks      | elapsed:    0.4s\n",
      "[Parallel(n_jobs=8)]: Done 200 out of 200 | elapsed:    0.5s finished\n"
     ]
    }
   ],
   "source": [
    "best_rf.fit(X_full, y_full)\n",
    "make_submission(best_rf, './output/best_rf_no_correction.csv')\n",
    "make_submission(best_rf, './output/best_rf_correction.csv', 0.91)"
   ]
  },
  {
   "cell_type": "raw",
   "id": "shared-wrestling",
   "metadata": {},
   "source": [
    "!kaggle competitions submit sf-dst-car-price-prediction -f ./output/best_rf_no_correction.csv -m 'best_rf_no_correction'"
   ]
  },
  {
   "cell_type": "raw",
   "id": "suitable-miami",
   "metadata": {},
   "source": [
    "!kaggle competitions submit sf-dst-car-price-prediction -f ./output/best_rf_correction.csv -m 'best_rf_correction'"
   ]
  },
  {
   "cell_type": "markdown",
   "id": "narrative-alarm",
   "metadata": {},
   "source": [
    "### 2.1.4. XGBOOST"
   ]
  },
  {
   "cell_type": "code",
   "execution_count": 29,
   "id": "closed-circuit",
   "metadata": {},
   "outputs": [],
   "source": [
    "xgbr = xgb.XGBRegressor(verbosity=1, random_state=RANDOM_SEED)"
   ]
  },
  {
   "cell_type": "code",
   "execution_count": 30,
   "id": "heavy-thong",
   "metadata": {},
   "outputs": [
    {
     "name": "stdout",
     "output_type": "stream",
     "text": [
      "MAPE для логарифма цены: 0.011546430028532976\n",
      "MAPE для цены в рублях: 0.15475434079032768\n"
     ]
    }
   ],
   "source": [
    "xgbr.fit(X_train, y_train)\n",
    "y_pred = xgbr.predict(X_test)\n",
    "results[\"xgboost_basic\"] = mapes(y_test, y_pred)"
   ]
  },
  {
   "cell_type": "code",
   "execution_count": 31,
   "id": "fifteen-graduation",
   "metadata": {},
   "outputs": [],
   "source": [
    "xgbr.fit(X_full, y_full)\n",
    "make_submission(xgbr, './output/xgb_no_correction.csv')\n",
    "make_submission(xgbr, './output/xgb_correction.csv', 0.91)"
   ]
  },
  {
   "cell_type": "raw",
   "id": "alert-constant",
   "metadata": {},
   "source": [
    "!kaggle competitions submit sf-dst-car-price-prediction -f ./output/xgb_no_correction.csv -m 'xgb_no_correction'"
   ]
  },
  {
   "cell_type": "raw",
   "id": "bearing-washington",
   "metadata": {},
   "source": [
    "!kaggle competitions submit sf-dst-car-price-prediction -f ./output/xgb_correction.csv -m 'xgb_correction'"
   ]
  },
  {
   "cell_type": "code",
   "execution_count": 32,
   "id": "several-delaware",
   "metadata": {},
   "outputs": [],
   "source": [
    "xgb_param_grid =  {\n",
    "        'learning_rate' : [0.1, 0.3] ,\n",
    "        'min_child_weight' : [ 1, 3]}\n",
    "    \n",
    "gridsearch_xgb = GridSearchCV(estimator = xgbr, \n",
    "                              param_grid = xgb_param_grid, \n",
    "                              scoring='neg_mean_absolute_percentage_error', \n",
    "                              n_jobs=-1)"
   ]
  },
  {
   "cell_type": "code",
   "execution_count": 33,
   "id": "naval-wyoming",
   "metadata": {},
   "outputs": [
    {
     "name": "stdout",
     "output_type": "stream",
     "text": [
      "XGBRegressor(base_score=0.5, booster='gbtree', colsample_bylevel=1,\n",
      "             colsample_bynode=1, colsample_bytree=1, gamma=0, gpu_id=-1,\n",
      "             importance_type='gain', interaction_constraints='',\n",
      "             learning_rate=0.3, max_delta_step=0, max_depth=6,\n",
      "             min_child_weight=3, missing=nan, monotone_constraints='()',\n",
      "             n_estimators=100, n_jobs=8, num_parallel_tree=1, random_state=42,\n",
      "             reg_alpha=0, reg_lambda=1, scale_pos_weight=1, subsample=1,\n",
      "             tree_method='exact', validate_parameters=1, verbosity=1)\n",
      "MAPE для логарифма цены: 0.011559605026353418\n",
      "MAPE для цены в рублях: 0.15501101818423604\n"
     ]
    }
   ],
   "source": [
    "gridsearch_xgb.fit(X_train, y_train)\n",
    "best_xgb = gridsearch_xgb.best_estimator_\n",
    "print(best_xgb)\n",
    "best_xgb.fit(X_train, y_train)\n",
    "y_pred = best_xgb.predict(X_test)\n",
    "results[\"xgboost_tuned\"] = mapes(y_test, y_pred)"
   ]
  },
  {
   "cell_type": "code",
   "execution_count": 34,
   "id": "aging-defendant",
   "metadata": {},
   "outputs": [],
   "source": [
    "best_xgb.fit(X_full, y_full)\n",
    "make_submission(best_xgb, './output/best_xgb_no_correction.csv')\n",
    "make_submission(best_xgb, './output/best_xgb_correction.csv', 0.91)"
   ]
  },
  {
   "cell_type": "raw",
   "id": "likely-egyptian",
   "metadata": {},
   "source": [
    "!kaggle competitions submit sf-dst-car-price-prediction -f ./output/best_xgb_no_correction.csv -m 'best_xgb_no_correction'"
   ]
  },
  {
   "cell_type": "raw",
   "id": "unauthorized-death",
   "metadata": {},
   "source": [
    "!kaggle competitions submit sf-dst-car-price-prediction -f ./output/best_xgb_correction.csv -m 'best_xgb_correction'"
   ]
  },
  {
   "cell_type": "markdown",
   "id": "consolidated-addiction",
   "metadata": {},
   "source": [
    "Результаты не впечатляют, хуже регрессии. Но это, возможно, от некорректного подбора гиперапараметров."
   ]
  },
  {
   "cell_type": "markdown",
   "id": "boolean-favor",
   "metadata": {},
   "source": [
    "### 2.1.5. CatBoost."
   ]
  },
  {
   "cell_type": "code",
   "execution_count": 35,
   "id": "postal-container",
   "metadata": {},
   "outputs": [
    {
     "name": "stdout",
     "output_type": "stream",
     "text": [
      "MAPE для логарифма цены: 0.010794935586246692\n",
      "MAPE для цены в рублях: 0.14358947094245655\n"
     ]
    }
   ],
   "source": [
    "cr = CatBoostRegressor(logging_level = 'Silent', \n",
    "                       task_type=\"CPU\", \n",
    "                       random_seed=RANDOM_SEED)\n",
    "cr.fit(X_train, y_train)\n",
    "y_pred = cr.predict(X_test)\n",
    "results[\"catboost_basic\"] = mapes(y_test, y_pred)"
   ]
  },
  {
   "cell_type": "code",
   "execution_count": 36,
   "id": "foster-johnson",
   "metadata": {},
   "outputs": [],
   "source": [
    "cr.fit(X_full, y_full)\n",
    "make_submission(cr, './output/catboost_no_correction.csv')\n",
    "make_submission(cr, './output/catboost_correction.csv', 0.91)"
   ]
  },
  {
   "cell_type": "raw",
   "id": "graphic-henry",
   "metadata": {},
   "source": [
    "!kaggle competitions submit sf-dst-car-price-prediction -f ./output/catboost_no_correction.csv -m 'catboost_no_correction'"
   ]
  },
  {
   "cell_type": "raw",
   "id": "adjusted-convenience",
   "metadata": {},
   "source": [
    "!kaggle competitions submit sf-dst-car-price-prediction -f ./output/catboost_correction.csv -m 'catboost_no_correction'"
   ]
  },
  {
   "cell_type": "code",
   "execution_count": 37,
   "id": "actual-abuse",
   "metadata": {},
   "outputs": [
    {
     "name": "stdout",
     "output_type": "stream",
     "text": [
      "{'iterations': 2000, 'depth': 8, 'loss_function': 'RMSE', 'random_seed': 42, 'logging_level': 'Silent', 'task_type': 'CPU'}\n"
     ]
    }
   ],
   "source": [
    "cr_params =  {\"iterations\": [1000, 2000],\n",
    "              \"depth\": [4,8]}\n",
    "gridsearch_cat = GridSearchCV(estimator = cr, param_grid = cr_params, scoring='neg_mean_absolute_percentage_error', n_jobs=-1)\n",
    "gridsearch_cat.fit(X_train, y_train)\n",
    "best_cat = gridsearch_cat.best_estimator_\n",
    "print(best_cat.get_params())"
   ]
  },
  {
   "cell_type": "code",
   "execution_count": 38,
   "id": "hollywood-legend",
   "metadata": {},
   "outputs": [
    {
     "name": "stdout",
     "output_type": "stream",
     "text": [
      "MAPE для логарифма цены: 0.010400122306655669\n",
      "MAPE для цены в рублях: 0.1380743441722558\n"
     ]
    }
   ],
   "source": [
    "best_cat.fit(X_train, y_train)\n",
    "y_pred = best_cat.predict(X_test)\n",
    "results[\"catboost_tuned\"] = mapes(y_test, y_pred)"
   ]
  },
  {
   "cell_type": "code",
   "execution_count": 39,
   "id": "electrical-blair",
   "metadata": {},
   "outputs": [],
   "source": [
    "best_cat.fit(X_full, y_full)\n",
    "make_submission(best_cat, './output/best_cat_no_correction.csv')\n",
    "make_submission(best_cat, './output/best_cat_correction.csv', 0.91)"
   ]
  },
  {
   "cell_type": "raw",
   "id": "portuguese-hollow",
   "metadata": {},
   "source": [
    "!kaggle competitions submit sf-dst-car-price-prediction -f ./output/best_cat_no_correction.csv -m 'best_cat_no_correction'"
   ]
  },
  {
   "cell_type": "raw",
   "id": "liked-revision",
   "metadata": {},
   "source": [
    "!kaggle competitions submit sf-dst-car-price-prediction -f ./output/best_cat_correction.csv -m 'best_cat_correction'"
   ]
  },
  {
   "cell_type": "markdown",
   "id": "sufficient-account",
   "metadata": {},
   "source": [
    "Подбор гиперпараметров позволил улучшить метрику."
   ]
  },
  {
   "cell_type": "markdown",
   "id": "occupied-tuner",
   "metadata": {},
   "source": [
    "### 2.1.6. Деревья (и бэггинг над ними как в random forest)"
   ]
  },
  {
   "cell_type": "markdown",
   "id": "stuffed-satisfaction",
   "metadata": {},
   "source": [
    "Сначала попробуем просто дерево. Ожидается переобучение."
   ]
  },
  {
   "cell_type": "code",
   "execution_count": 40,
   "id": "manual-header",
   "metadata": {},
   "outputs": [
    {
     "name": "stdout",
     "output_type": "stream",
     "text": [
      "MAPE для логарифма цены: 0.015088421386596945\n",
      "MAPE для цены в рублях: 0.2088213332469702\n"
     ]
    }
   ],
   "source": [
    "treereg = DecisionTreeRegressor(random_state=RANDOM_SEED)\n",
    "treereg.fit(X_train, y_train)\n",
    "y_pred = treereg.predict(X_test)\n",
    "results[\"tree_basic\"] = mapes(y_test, y_pred)"
   ]
  },
  {
   "cell_type": "code",
   "execution_count": 41,
   "id": "productive-navigator",
   "metadata": {},
   "outputs": [
    {
     "data": {
      "text/plain": [
       "<AxesSubplot:>"
      ]
     },
     "execution_count": 41,
     "metadata": {},
     "output_type": "execute_result"
    },
    {
     "data": {
      "image/png": "[encoded data removed]",
      "text/plain": [
       "<Figure size 576x576 with 1 Axes>"
      ]
     },
     "metadata": {},
     "output_type": "display_data"
    }
   ],
   "source": [
    "(pd.Series(treereg.feature_importances_, index = X_train.columns)\n",
    "     .sort_values(ascending = False)\n",
    "     .iloc[0:10].plot(kind = 'barh'))"
   ]
  },
  {
   "cell_type": "code",
   "execution_count": 42,
   "id": "universal-terrorist",
   "metadata": {},
   "outputs": [
    {
     "name": "stdout",
     "output_type": "stream",
     "text": [
      "DecisionTreeRegressor(max_depth=20, max_features='auto', min_samples_split=50,\n",
      "                      random_state=42)\n",
      "MAPE для логарифма цены: 0.012421109526012684\n",
      "MAPE для цены в рублях: 0.16775912167664447\n"
     ]
    }
   ],
   "source": [
    "tree_params =  {'max_features': ['auto', 'sqrt', 'log2'],\n",
    "               'min_samples_split': [5, 10, 25, 50, 75, 100, 200],\n",
    "               'max_depth': [10,20,50]}\n",
    "gridsearch_tree = GridSearchCV(estimator = treereg, param_grid = tree_params, scoring='neg_mean_absolute_percentage_error', n_jobs=-1)\n",
    "gridsearch_tree.fit(X_train, y_train)\n",
    "best_tree = gridsearch_tree.best_estimator_\n",
    "best_tree.fit(X_train, y_train)\n",
    "y_pred = best_tree.predict(X_test)\n",
    "print(best_tree)\n",
    "results[\"tree_tuned\"] = mapes(y_test, y_pred)"
   ]
  },
  {
   "cell_type": "code",
   "execution_count": 43,
   "id": "standard-lying",
   "metadata": {},
   "outputs": [
    {
     "name": "stdout",
     "output_type": "stream",
     "text": [
      "MAPE для логарифма цены: 0.011205855199017905\n",
      "MAPE для цены в рублях: 0.14933169876025146\n"
     ]
    }
   ],
   "source": [
    "bagger_tree = BaggingRegressor(base_estimator=best_tree)\n",
    "bagger_tree.fit(X_train, y_train)\n",
    "y_pred = bagger_tree.predict(X_test)\n",
    "results[\"tree_bagging\"] = mapes(y_test, y_pred)"
   ]
  },
  {
   "cell_type": "code",
   "execution_count": 46,
   "id": "imported-reviewer",
   "metadata": {},
   "outputs": [
    {
     "name": "stdout",
     "output_type": "stream",
     "text": [
      "BaggingRegressor(base_estimator=DecisionTreeRegressor(max_depth=20,\n",
      "                                                      max_features='auto',\n",
      "                                                      min_samples_split=50,\n",
      "                                                      random_state=42),\n",
      "                 max_features=0.75, n_estimators=100)\n",
      "MAPE для логарифма цены: 0.010885492682865176\n",
      "MAPE для цены в рублях: 0.146389904583857\n"
     ]
    }
   ],
   "source": [
    "bag_params =  {'n_estimators': [10, 50, 100],\n",
    "              'max_samples': [0.5, 0.75, 1.0],\n",
    "               'max_features': [0.5, 0.75, 1.0]}\n",
    "gridsearch_bag = GridSearchCV(estimator = bagger_tree, param_grid = bag_params, scoring='neg_mean_absolute_percentage_error', n_jobs=-1)\n",
    "gridsearch_bag.fit(X_train, y_train)\n",
    "best_bag_tree = gridsearch_bag.best_estimator_\n",
    "best_bag_tree.fit(X_train, y_train)\n",
    "y_pred = best_bag_tree.predict(X_test)\n",
    "print(best_bag_tree)\n",
    "results[\"tree_bagging_tuned\"] = mapes(y_test, y_pred)"
   ]
  },
  {
   "cell_type": "markdown",
   "id": "charitable-romania",
   "metadata": {},
   "source": [
    "Бэггинг улучшает работу дерева, впрочем это получается аналог random forest."
   ]
  },
  {
   "cell_type": "markdown",
   "id": "rising-large",
   "metadata": {},
   "source": [
    "### 2.1.7. Результаты."
   ]
  },
  {
   "cell_type": "code",
   "execution_count": null,
   "id": "crucial-venezuela",
   "metadata": {},
   "outputs": [],
   "source": [
    "print(results)"
   ]
  },
  {
   "cell_type": "markdown",
   "id": "assumed-broadcast",
   "metadata": {},
   "source": [
    "Наши чемпионы - CatBoost, бэггинг над линейной регрессией и random forest."
   ]
  },
  {
   "cell_type": "markdown",
   "id": "underlying-graphics",
   "metadata": {},
   "source": [
    "## 2.2. Ансамблирование.\n",
    "\n",
    "### 2.2.0. Наивное усреднение\n",
    "\n",
    "Просто усредним предсказания моделей."
   ]
  },
  {
   "cell_type": "code",
   "execution_count": 47,
   "id": "greenhouse-chamber",
   "metadata": {},
   "outputs": [],
   "source": [
    "class AverageModel(BaseEstimator, RegressorMixin, TransformerMixin):\n",
    "    def __init__(self, models):\n",
    "        self.models = models\n",
    "    def fit(self, X, y):\n",
    "        self.models_ = [clone(x) for x in self.models]\n",
    "        for model in self.models_:\n",
    "            model.fit(X, y)\n",
    "        return self\n",
    "    def predict(self, X):\n",
    "        predictions = np.column_stack([\n",
    "            model.predict(X) for model in self.models_\n",
    "        ])\n",
    "        return np.mean(predictions, axis=1)"
   ]
  },
  {
   "cell_type": "code",
   "execution_count": 48,
   "id": "optical-humanitarian",
   "metadata": {},
   "outputs": [],
   "source": [
    "aver = AverageModel([best_lr, bagger_lr, knr, best_rf, best_xgb, best_cat, best_tree, best_bag_tree])"
   ]
  },
  {
   "cell_type": "code",
   "execution_count": 49,
   "id": "temporal-anaheim",
   "metadata": {},
   "outputs": [
    {
     "name": "stderr",
     "output_type": "stream",
     "text": [
      "[Parallel(n_jobs=-1)]: Using backend ThreadingBackend with 8 concurrent workers.\n",
      "[Parallel(n_jobs=-1)]: Done  34 tasks      | elapsed:   40.2s\n",
      "[Parallel(n_jobs=-1)]: Done 184 tasks      | elapsed:  3.1min\n",
      "[Parallel(n_jobs=-1)]: Done 200 out of 200 | elapsed:  3.4min finished\n",
      "[Parallel(n_jobs=8)]: Using backend ThreadingBackend with 8 concurrent workers.\n",
      "[Parallel(n_jobs=8)]: Done  34 tasks      | elapsed:    0.1s\n",
      "[Parallel(n_jobs=8)]: Done 184 tasks      | elapsed:    0.6s\n",
      "[Parallel(n_jobs=8)]: Done 200 out of 200 | elapsed:    0.6s finished\n"
     ]
    },
    {
     "name": "stdout",
     "output_type": "stream",
     "text": [
      "MAPE для логарифма цены: 0.010341781484437443\n",
      "MAPE для цены в рублях: 0.13675592079827906\n"
     ]
    }
   ],
   "source": [
    "aver.fit(X_train, y_train)\n",
    "y_pred = aver.predict(X_test)\n",
    "results[\"average_all\"] = mapes(y_test, y_pred)"
   ]
  },
  {
   "cell_type": "code",
   "execution_count": 50,
   "id": "heard-japanese",
   "metadata": {},
   "outputs": [
    {
     "name": "stderr",
     "output_type": "stream",
     "text": [
      "[Parallel(n_jobs=-1)]: Using backend ThreadingBackend with 8 concurrent workers.\n",
      "[Parallel(n_jobs=-1)]: Done  34 tasks      | elapsed:  1.0min\n",
      "[Parallel(n_jobs=-1)]: Done 184 tasks      | elapsed:  4.9min\n",
      "[Parallel(n_jobs=-1)]: Done 200 out of 200 | elapsed:  5.2min finished\n",
      "[Parallel(n_jobs=8)]: Using backend ThreadingBackend with 8 concurrent workers.\n",
      "[Parallel(n_jobs=8)]: Done  34 tasks      | elapsed:    0.1s\n",
      "[Parallel(n_jobs=8)]: Done 184 tasks      | elapsed:    0.4s\n",
      "[Parallel(n_jobs=8)]: Done 200 out of 200 | elapsed:    0.5s finished\n",
      "[Parallel(n_jobs=8)]: Using backend ThreadingBackend with 8 concurrent workers.\n",
      "[Parallel(n_jobs=8)]: Done  34 tasks      | elapsed:    0.1s\n",
      "[Parallel(n_jobs=8)]: Done 184 tasks      | elapsed:    0.5s\n",
      "[Parallel(n_jobs=8)]: Done 200 out of 200 | elapsed:    0.5s finished\n"
     ]
    }
   ],
   "source": [
    "aver.fit(X_full, y_full)\n",
    "make_submission(aver, './output/aver_no_correction.csv')\n",
    "make_submission(aver, './output/aver_correction.csv', 0.91)"
   ]
  },
  {
   "cell_type": "markdown",
   "id": "abroad-interview",
   "metadata": {},
   "source": [
    "Даже простенькое усреднение очень хорошо себя показывает по метрике."
   ]
  },
  {
   "cell_type": "raw",
   "id": "caring-retailer",
   "metadata": {},
   "source": [
    "!kaggle competitions submit sf-dst-car-price-prediction -f ./output/aver_no_correction.csv -m 'aver_no_correction'"
   ]
  },
  {
   "cell_type": "raw",
   "id": "affected-bronze",
   "metadata": {},
   "source": [
    "!kaggle competitions submit sf-dst-car-price-prediction -f ./output/aver_correction.csv -m 'aver_correction'"
   ]
  },
  {
   "cell_type": "markdown",
   "id": "lucky-sport",
   "metadata": {},
   "source": [
    "### 2.2.2. Stacking\n",
    "\n",
    "Попробуем подобрать мета-алгоритм для ансамбля из всех моделей с подобранными гиперпараметрами, а потом применим его к ансамблю из топ-3 алгоритмов по MAPE. \n",
    "Расчёт занимает несколько часов. Его наверняка можно оптимизировать, но в виду сжатых сроков он просто оставлен на ночь."
   ]
  },
  {
   "cell_type": "code",
   "execution_count": 10,
   "id": "divine-anderson",
   "metadata": {},
   "outputs": [],
   "source": [
    "best_lr = Ridge(alpha=0.5, \n",
    "                max_iter=100, \n",
    "                random_state=RANDOM_SEED)\n",
    "\n",
    "bagger_lr = BaggingRegressor(base_estimator=best_lr, \n",
    "                             random_state=RANDOM_SEED, \n",
    "                             n_estimators=20)\n",
    "\n",
    "knr = KNeighborsRegressor(n_neighbors=3)\n",
    "\n",
    "best_rf = RandomForestRegressor(n_estimators=200,\n",
    "                                n_jobs=-1, \n",
    "                                random_state=RANDOM_SEED,\n",
    "                                verbose=False)\n",
    "\n",
    "best_xgb = xgb.XGBRegressor(verbosity=1, \n",
    "                            random_state=RANDOM_SEED,\n",
    "                            learning_rate=0.3,\n",
    "                            n_estimators=100,\n",
    "                            max_depth=6)\n",
    "\n",
    "best_cat = CatBoostRegressor(logging_level = 'Silent', \n",
    "                             task_type=\"CPU\", \n",
    "                             random_seed=RANDOM_SEED,\n",
    "                             iterations = 2000,\n",
    "                             depth = 8)\n",
    "best_tree = DecisionTreeRegressor(max_depth=20, \n",
    "                                  max_features='auto', \n",
    "                                  min_samples_split=50,\n",
    "                                  random_state=RANDOM_SEED)\n",
    "\n",
    "best_bag_tree = BaggingRegressor(base_estimator=DecisionTreeRegressor(max_depth=20,\n",
    "                                                      max_features='auto',\n",
    "                                                      min_samples_split=50,\n",
    "                                                      random_state=RANDOM_SEED),\n",
    "                                                      max_features=0.75, \n",
    "                                                      n_estimators=100)"
   ]
  },
  {
   "cell_type": "code",
   "execution_count": 11,
   "id": "vanilla-sheet",
   "metadata": {},
   "outputs": [],
   "source": [
    "estimators = [('Ridge', best_lr),\n",
    "              ('Bag_lr', bagger_lr),\n",
    "              ('knr', knr),\n",
    "              ('Random Forest', best_rf),\n",
    "              ('XGB', best_xgb),\n",
    "              ('CatBoost', best_cat),\n",
    "              ('best_tree', best_tree),\n",
    "              ('best_bag_tree', best_bag_tree)\n",
    "             ]\n",
    "estimators_champions = [\n",
    "              ('Bag_lr', bagger_lr),\n",
    "              ('Random Forest', best_rf),\n",
    "              ('CatBoost', best_cat),\n",
    "             ]\n",
    "final_estimators = [('Ridge', Ridge(random_state=RANDOM_SEED)),\n",
    "                    ('Random Forest', RandomForestRegressor(random_state=RANDOM_SEED)),\n",
    "                    ('XGB', xgb.XGBRegressor(random_state=RANDOM_SEED)),\n",
    "                    ('Catboost', CatBoostRegressor(random_state=RANDOM_SEED)),\n",
    "                   ]"
   ]
  },
  {
   "cell_type": "code",
   "execution_count": null,
   "id": "characteristic-absorption",
   "metadata": {},
   "outputs": [],
   "source": [
    "stacks_1_layer = [(est[0], StackingRegressor(estimators = estimators, \n",
    "                                             final_estimator=est[1], \n",
    "                                             verbose = False)) \n",
    "                  for est in final_estimators]\n",
    "predicts = []\n",
    "for stack in stacks_1_layer:\n",
    "    stack[1].fit(X_train, y_train)\n",
    "    y_pred = stack[1].predict(X_test)\n",
    "    predicts.append((stack[0], y_pred))"
   ]
  },
  {
   "cell_type": "code",
   "execution_count": 57,
   "id": "interpreted-sweden",
   "metadata": {},
   "outputs": [
    {
     "name": "stdout",
     "output_type": "stream",
     "text": [
      "**************\n",
      "Ridge\n",
      "MAPE для логарифма цены: 0.010108099772041133\n",
      "MAPE для цены в рублях: 0.13362452924428697\n",
      "**************\n",
      "**************\n",
      "Random Forest\n",
      "MAPE для логарифма цены: 0.010340084857180664\n",
      "MAPE для цены в рублях: 0.1371776236597704\n",
      "**************\n",
      "**************\n",
      "XGB\n",
      "MAPE для логарифма цены: 0.010304214742049985\n",
      "MAPE для цены в рублях: 0.1369658390212634\n",
      "**************\n",
      "**************\n",
      "Catboost\n",
      "MAPE для логарифма цены: 0.01017901973548764\n",
      "MAPE для цены в рублях: 0.13509810455498408\n",
      "**************\n"
     ]
    }
   ],
   "source": [
    "for pred in predicts:\n",
    "    print('**************')\n",
    "    print(pred[0])\n",
    "    mapes(y_test, pred[1])\n",
    "    print('**************')"
   ]
  },
  {
   "cell_type": "markdown",
   "id": "standing-ending",
   "metadata": {},
   "source": [
    "В любом случае стэкинг явно даёт эффект, и простая ридж-регрессия в качестве мета-алгоритма справляется лучше всех."
   ]
  },
  {
   "cell_type": "code",
   "execution_count": null,
   "id": "coastal-waterproof",
   "metadata": {},
   "outputs": [],
   "source": [
    "best_stack = StackingRegressor(estimators = estimators, \n",
    "                              final_estimator=Ridge(random_state=RANDOM_SEED), \n",
    "                              verbose = False)"
   ]
  },
  {
   "cell_type": "code",
   "execution_count": null,
   "id": "legitimate-marks",
   "metadata": {},
   "outputs": [],
   "source": [
    "final_estimator=Ridge(random_state=RANDOM_SEED), \n",
    "                              verbose = False)\n",
    "best_stack.fit(X_full, y_full)\n",
    "make_submission(best_stack, './output/stacking_no_correction.csv')\n",
    "make_submission(best_stack, './output/stacking_correction.csv', 0.91)"
   ]
  },
  {
   "cell_type": "code",
   "execution_count": 59,
   "id": "congressional-little",
   "metadata": {},
   "outputs": [
    {
     "name": "stdout",
     "output_type": "stream",
     "text": [
      "Warning: Your Kaggle API key is readable by other users on this system! To fix this, you can run 'chmod 600 /home/rivfader/.kaggle/kaggle.json'\n",
      "100%|█████████████████████████████████████████| 994k/994k [00:03<00:00, 269kB/s]\n",
      "Successfully submitted to [SF-DST] Car Price prediction"
     ]
    }
   ],
   "source": [
    "!kaggle competitions submit sf-dst-car-price-prediction -f ./output/stacking_correction.csv -m 'stacking_correction'"
   ]
  },
  {
   "cell_type": "markdown",
   "id": "mediterranean-thompson",
   "metadata": {},
   "source": [
    "Теперь попробуем на топ-3 алгоритмах."
   ]
  },
  {
   "cell_type": "code",
   "execution_count": 14,
   "id": "registered-cricket",
   "metadata": {},
   "outputs": [
    {
     "name": "stdout",
     "output_type": "stream",
     "text": [
      "MAPE для логарифма цены: 0.01010107172076237\n",
      "MAPE для цены в рублях: 0.13418388545270823\n"
     ]
    },
    {
     "data": {
      "text/plain": [
       "(0.01010107172076237, 0.13418388545270823)"
      ]
     },
     "execution_count": 14,
     "metadata": {},
     "output_type": "execute_result"
    }
   ],
   "source": [
    "best_stack_champions = StackingRegressor(estimators = estimators_champions, \n",
    "                              final_estimator=Ridge(random_state=RANDOM_SEED), \n",
    "                              verbose = False)\n",
    "best_stack_champions.fit(X_train, y_train)\n",
    "y_pred = best_stack_champions.predict(X_test)\n",
    "mapes(y_test, y_pred)"
   ]
  },
  {
   "cell_type": "markdown",
   "id": "loose-liberal",
   "metadata": {},
   "source": [
    "По результатам валидации на обучющей выборке прирост хороший, по результатам проверки на кэггле похуже, но всё равно это лучший результат."
   ]
  },
  {
   "cell_type": "code",
   "execution_count": 15,
   "id": "regulated-comparison",
   "metadata": {},
   "outputs": [],
   "source": [
    "best_stack_champions.fit(X_full, y_full)\n",
    "make_submission(best_stack_champions, './output/stacking_champions.csv', 0.91)\n",
    "make_submission(best_stack_champions, './output/stacking_champions_no_correction.csv')"
   ]
  },
  {
   "cell_type": "raw",
   "id": "illegal-oxford",
   "metadata": {},
   "source": [
    "!kaggle competitions submit sf-dst-car-price-prediction -f ./output/stacking_champions.csv -m 'stacking_champions'\n",
    "!kaggle competitions submit sf-dst-car-price-prediction -f ./output/stacking_champions_no_correction.csv -m 'stacking_champions_no_correction'"
   ]
  },
  {
   "cell_type": "markdown",
   "id": "spatial-origin",
   "metadata": {},
   "source": [
    "# 3. Выводы.\n",
    "\n",
    "1. Отмечен эффект разницы во времени сбора тестовой и обучающей выборки. Целевая переменная (цена) в тестовой выборке отстаёт по времени от обучающей, поэтому метрика на валидации получается лучше, чем на тесте. В данном случае это исправляется простой поправкой на инфляцию, но не всегда может быть всё так просто.\n",
    "2. Проверены одиночные алгоритмы машинного обучения. По результатам можно сказать, что не всегда сложные алгоритмы типа XGBoost дают результат лучше, чем простая ридж-регрессия. Но это, возможно, связано с тем, что эти алгоритмы требуют более сложной настройки и осознанного подбора многих гиперпараметров.\n",
    "3. Использование нескольких алгоритмов в ансамбле даёт определённый прирост метрики, как в случае простого усреднения, так и в случае стэкинга."
   ]
  },
  {
   "cell_type": "code",
   "execution_count": null,
   "id": "nasty-embassy",
   "metadata": {},
   "outputs": [],
   "source": []
  }
 ],
 "metadata": {
  "kernelspec": {
   "display_name": "Python 3",
   "language": "python",
   "name": "python3"
  },
  "language_info": {
   "codemirror_mode": {
    "name": "ipython",
    "version": 3
   },
   "file_extension": ".py",
   "mimetype": "text/x-python",
   "name": "python",
   "nbconvert_exporter": "python",
   "pygments_lexer": "ipython3",
   "version": "3.8.8"
  }
 },
 "nbformat": 4,
 "nbformat_minor": 5
}
