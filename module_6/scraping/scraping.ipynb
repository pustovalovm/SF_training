{
 "cells": [
  {
   "cell_type": "code",
   "execution_count": 1,
   "id": "common-rogers",
   "metadata": {},
   "outputs": [],
   "source": [
    "import requests\n",
    "import sys\n",
    "import gzip\n",
    "import csv\n",
    "import os\n",
    "import pandas as pd\n",
    "from tempfile import TemporaryDirectory \n",
    "from pathlib import Path, PurePath\n",
    "from tqdm.notebook import tqdm\n",
    "from bs4 import BeautifulSoup"
   ]
  },
  {
   "cell_type": "markdown",
   "id": "critical-conversation",
   "metadata": {},
   "source": [
    "В процессе подготовки к скрейпингу объявлений с сайта auto.ru первым делом был открыт файл https://auto.ru/robots.txt, где обнаружена ссылка на карту сайта https://auto.ru/sitemapindex.xml. Это xml-файл, содержащий ссылки на архивы с тектовыми файлами, в которых находятся ссылки на страницы объявлений.\n",
    "Нам нужны не все из них (не рассматриваем коммерческий транспорт и подборки объявлений, потому что в подборках находятся ссылки на те же самые объявления). Для получения ссылок в виде csv файла, который можно было бы передать в scrapy можно воспользоваться этим ноутбуком."
   ]
  },
  {
   "cell_type": "code",
   "execution_count": 2,
   "id": "white-commonwealth",
   "metadata": {},
   "outputs": [],
   "source": [
    "output = Path('.').resolve().parents[0].joinpath('input', 'links.csv')\n",
    "sitemap_link='https://auto.ru/sitemapindex.xml'"
   ]
  },
  {
   "cell_type": "code",
   "execution_count": 3,
   "id": "damaged-vietnamese",
   "metadata": {},
   "outputs": [
    {
     "name": "stdout",
     "output_type": "stream",
     "text": [
      "Found 51 link lists as gzipped xml files.\n"
     ]
    }
   ],
   "source": [
    "temp_fold = TemporaryDirectory()\n",
    "temp_path = Path(temp_fold.name)\n",
    "r = requests.get(sitemap_link)\n",
    "text = r.content.decode()\n",
    "soup = BeautifulSoup(text, 'lxml')\n",
    "links_to_gz = []\n",
    "i = 0\n",
    "for element in soup.find_all('loc'):\n",
    "    links_to_gz.append(element.text.strip())\n",
    "    i += 1\n",
    "print(f'Found {i} link lists as gzipped xml files.')"
   ]
  },
  {
   "cell_type": "code",
   "execution_count": 4,
   "id": "organic-ticket",
   "metadata": {},
   "outputs": [],
   "source": [
    "offers_cars = [x for x in links_to_gz if 'offers_cars' in x]"
   ]
  },
  {
   "cell_type": "code",
   "execution_count": 5,
   "id": "collective-keeping",
   "metadata": {},
   "outputs": [
    {
     "data": {
      "application/vnd.jupyter.widget-view+json": {
       "model_id": "c0f430aed2cd4128bb849464a752e16b",
       "version_major": 2,
       "version_minor": 0
      },
      "text/plain": [
       "  0%|          | 0/8 [00:00<?, ?it/s]"
      ]
     },
     "metadata": {},
     "output_type": "display_data"
    },
    {
     "name": "stdout",
     "output_type": "stream",
     "text": [
      "Downloaded 8 link files\n"
     ]
    }
   ],
   "source": [
    "i=0\n",
    "for link in tqdm(offers_cars):\n",
    "    tempfile = temp_path / link.split('/')[-1]\n",
    "    if not tempfile.is_file():\n",
    "        r = requests.get(link, allow_redirects=True)\n",
    "        with tempfile.open('wb') as file:\n",
    "            file.write(r.content)\n",
    "        i+=1\n",
    "print(f'Downloaded {i} link files')"
   ]
  },
  {
   "cell_type": "code",
   "execution_count": 6,
   "id": "undefined-azerbaijan",
   "metadata": {},
   "outputs": [
    {
     "data": {
      "application/vnd.jupyter.widget-view+json": {
       "model_id": "551bf55b38cf4e36be1d6bf4420f3845",
       "version_major": 2,
       "version_minor": 0
      },
      "text/plain": [
       "  0%|          | 0/8 [00:00<?, ?it/s]"
      ]
     },
     "metadata": {},
     "output_type": "display_data"
    },
    {
     "name": "stdout",
     "output_type": "stream",
     "text": [
      "Unzipped 8 txt files.\n"
     ]
    }
   ],
   "source": [
    "i = 0\n",
    "for gz in tqdm(list(temp_path.iterdir())):\n",
    "    gz = gz.resolve()\n",
    "    if gz.suffix == '.gz':\n",
    "        with gzip.open(gz) as archive:\n",
    "            with open(gz.parent / gz.stem, 'wb') as output_file:\n",
    "                output_file.write(archive.read())\n",
    "        gz.unlink()\n",
    "    i += 1\n",
    "print(f'Unzipped {i} txt files.')"
   ]
  },
  {
   "cell_type": "code",
   "execution_count": 7,
   "id": "fancy-protection",
   "metadata": {},
   "outputs": [
    {
     "data": {
      "application/vnd.jupyter.widget-view+json": {
       "model_id": "ca45c6d324d44059a9f315627b95c70e",
       "version_major": 2,
       "version_minor": 0
      },
      "text/plain": [
       "  0%|          | 0/8 [00:00<?, ?it/s]"
      ]
     },
     "metadata": {},
     "output_type": "display_data"
    },
    {
     "name": "stdout",
     "output_type": "stream",
     "text": [
      "Found 50000 links in file /tmp/tmp8jw7idg2/sitemap_offers_cars_5.txt, totally 50000 links\n",
      "Found 50000 links in file /tmp/tmp8jw7idg2/sitemap_offers_cars_6.txt, totally 100000 links\n",
      "Found 50000 links in file /tmp/tmp8jw7idg2/sitemap_offers_cars_1.txt, totally 150000 links\n",
      "Found 50000 links in file /tmp/tmp8jw7idg2/sitemap_offers_cars_4.txt, totally 200000 links\n",
      "Found 50000 links in file /tmp/tmp8jw7idg2/sitemap_offers_cars_2.txt, totally 250000 links\n",
      "Found 50000 links in file /tmp/tmp8jw7idg2/sitemap_offers_cars_7.txt, totally 300000 links\n",
      "Found 49274 links in file /tmp/tmp8jw7idg2/sitemap_offers_cars_8.txt, totally 349274 links\n",
      "Found 50000 links in file /tmp/tmp8jw7idg2/sitemap_offers_cars_3.txt, totally 399274 links\n",
      "Output written to file /home/rivfader/shared/GoogleDrive/Prog/Skillfactory/SF_training/module_6/input/links.csv\n"
     ]
    }
   ],
   "source": [
    "offers_list = []\n",
    "for txt in tqdm(list(temp_path.iterdir())):\n",
    "    offers_counter = 0\n",
    "    with open(txt, 'r') as f:\n",
    "        file_content = f.read().splitlines()\n",
    "        offers_list += file_content\n",
    "        print(f'Found {len(file_content)} links in file {txt}, totally {len(offers_list)} links')\n",
    "# write this list to csv\n",
    "output_path = Path(output).resolve()\n",
    "with output_path.open('w+', newline='') as f:\n",
    "    wr = csv.writer(f)\n",
    "    for line in offers_list:\n",
    "        wr.writerow([line])\n",
    "print(f'Output written to file {str(output_path)}')\n",
    "# cleanup temp folder\n",
    "temp_fold.cleanup()\n"
   ]
  },
  {
   "cell_type": "markdown",
   "id": "altered-stone",
   "metadata": {},
   "source": [
    "На основе этих ссылок был написан скрейпер, собирающий информацию со страниц объявлений из этих ссылок, и формирующий датасет. \n",
    "Скрейпер запускается из папки ./scraping/autoru_scrapy командой\\\n",
    "``scrapy crawl -a links_file=(ВОТ СЮДА ПОСТАВИТЬ ПУТЬ К РЕЗУЛЬТАТУ РАБОТЫ GET_LINKS.IPYNB) -o ../dataset.csv(или другой путь к выходному датасету) -L ERROR autoru_scraper``\\\n",
    "Cтрока с дефолтными настройками в ячейке ниже, написано для запуска из bash."
   ]
  },
  {
   "cell_type": "code",
   "execution_count": 8,
   "id": "smoking-waterproof",
   "metadata": {},
   "outputs": [],
   "source": [
    "%%bash\n",
    "cd .. &&\n",
    "touch './input/dataset_with_electro.csv' &&\n",
    "output_file_path=$(realpath ./input/dataset_with_electro.csv) &&\n",
    "links_file=$(realpath ./input/links.csv) && \n",
    "cd ./scraping/autoru_scrapy && \n",
    "scrapy crawl -a links_file=$links_file -o $output_file_path -L ERROR autoru_scraper"
   ]
  },
  {
   "cell_type": "markdown",
   "id": "stylish-qualification",
   "metadata": {},
   "source": [
    "Также нам потребуется собрать данные по ссылкам на объявления из теста. Это необходимо для упрощения сведения теста и трейна к одному формату. Никаких подсматриваний в цену."
   ]
  },
  {
   "cell_type": "code",
   "execution_count": 9,
   "id": "capable-order",
   "metadata": {},
   "outputs": [],
   "source": [
    "input_path = Path('.').resolve().parents[0].joinpath('input')\n",
    "test_links = pd.read_csv(input_path.joinpath('test.csv'), usecols=['car_url'])\n",
    "test_links.to_csv(input_path.joinpath('test_links.csv'), header = False, index = False)"
   ]
  },
  {
   "cell_type": "code",
   "execution_count": 10,
   "id": "operational-resource",
   "metadata": {},
   "outputs": [
    {
     "name": "stderr",
     "output_type": "stream",
     "text": [
      "2021-03-17 13:49:02 [scrapy.core.scraper] ERROR: Error processing {'body_type': None,\n",
      " 'brand': 'Toyota',\n",
      " 'catalog_link': None,\n",
      " 'color': 'чёрный',\n",
      " 'complectation': ['Ксеноновые/Биксеноновые фары',\n",
      "                   'Противотуманные фары',\n",
      "                   'Датчик дождя',\n",
      "                   'Датчик света',\n",
      "                   'Электрообогрев боковых зеркал',\n",
      "                   'Диски 17',\n",
      "                   'Рейлинги на крыше',\n",
      "                   'Легкосплавные диски',\n",
      "                   'Центральный замок',\n",
      "                   'Иммобилайзер',\n",
      "                   'Аудиосистема',\n",
      "                   'Третий ряд сидений',\n",
      "                   'Подогрев передних сидений',\n",
      "                   'Регулировка сиденья водителя по высоте',\n",
      "                   'Регулировка передних сидений по высоте',\n",
      "                   'Электрорегулировка сиденья водителя',\n",
      "                   'Электрорегулировка передних сидений',\n",
      "                   'Тонированные стекла',\n",
      "                   'Электростеклоподъёмники передние',\n",
      "                   'Электростеклоподъёмники задние',\n",
      "                   'Климат-контроль 1-зонный',\n",
      "                   'Климат-контроль многозонный',\n",
      "                   'Круиз-контроль',\n",
      "                   'Усилитель руля',\n",
      "                   'Регулировка руля по высоте',\n",
      "                   'Регулировка руля по вылету',\n",
      "                   'Камера задняя',\n",
      "                   'Бортовой компьютер',\n",
      "                   'Электропривод зеркал',\n",
      "                   'Подушка безопасности водителя',\n",
      "                   'Подушка безопасности пассажира',\n",
      "                   'Подушки безопасности оконные (шторки)',\n",
      "                   'Антиблокировочная система (ABS)',\n",
      "                   'Антипробуксовочная система (ASR)',\n",
      "                   'Система стабилизации (ESP)',\n",
      "                   'Полноразмерное запасное колесо'],\n",
      " 'customs': 'Растаможен',\n",
      " 'date_posted': '3 сентября 2020',\n",
      " 'descr': ['ID: 41352',\n",
      "           'Комплектация- Элеганс',\n",
      "           '- Автомобиль прошел комплексную диагностику',\n",
      "           '- Проведена предпродажная подготовка',\n",
      "           '- Гарантия юридической чистоты',\n",
      "           '- Возможна оплата наличным и безналичным платежом',\n",
      "           '- Оформление кредита по двум документам',\n",
      "           '- Обмен Вашего автомобиля на новый',\n",
      "           'Выплатим кредит за Ваш автомобиль.',\n",
      "           'Автомобиль куплен в 2019 году.',\n",
      "           'ПТС оригинал, год выпуска в ПТС 2018г.',\n",
      "           'ПТС выдан Центральной Акцизной Таможней.',\n",
      "           'Обслуживание в соответствии  регламента.',\n",
      "           'Два комплекта  ключей.',\n",
      "           'Один из лучших в своём классе авто.',\n",
      "           'Дополнительно установлено : Ковры в салон.',\n",
      "           'Воспользуйтесь нашей услугой по подбору  автомобиля от '\n",
      "           'официального дилера!',\n",
      "           'Комплектация:',\n",
      "           '• Антиблокировочная система',\n",
      "           '• Антипробуксовочная система',\n",
      "           '• Система курсовой устойчивости',\n",
      "           '• Подушки безопасности водителя',\n",
      "           '• Подушки безопасности пассажира',\n",
      "           '• Оконные шторки безопасности',\n",
      "           '• Иммобилайзер',\n",
      "           '• Центральный замок',\n",
      "           '• Бортовой компьютер',\n",
      "           '• Круиз-контроль',\n",
      "           '• Камера заднего вида',\n",
      "           '• Датчик света',\n",
      "           '• Датчик дождя',\n",
      "           '• Гидро усилитель руля',\n",
      "           '• Регулировка руля в двух плоскостях',\n",
      "           '• Электрорегулировка сиденья водителя',\n",
      "           '• Электрорегулировка сиденья пассажира',\n",
      "           '• Электростеклоподъемники передние и задние',\n",
      "           '• Электропривод зеркал',\n",
      "           '• Климат-контроль 3-зонный',\n",
      "           '• Подогрев сидений водителя и пассажира',\n",
      "           '• Обогрев зеркал',\n",
      "           '• CD',\n",
      "           '• MP3',\n",
      "           '• Третий ряд сидений',\n",
      "           '• Литые легкосплавные диски',\n",
      "           '• Размер дисков 17″',\n",
      "           '• Тонированные стекла',\n",
      "           '• Рейлинги на крыше',\n",
      "           '• Ксеноновые фары',\n",
      "           '• Противотуманные фары',\n",
      "           '• Комплект резиновых ковриков',\n",
      "           '• Запасное колесо'],\n",
      " 'drive': None,\n",
      " 'engine': ['Двигатель', '3.5 л'],\n",
      " 'engine_volume': 3.5,\n",
      " 'exchange': 'Рассмотрю варианты',\n",
      " 'fuel_type': '3.5 л',\n",
      " 'license_plate': None,\n",
      " 'mileage': 877,\n",
      " 'model': 'Sienna',\n",
      " 'model_brand': ['Toyota', '\\xa0', 'Sienna', '\\xa0'],\n",
      " 'offer_id': '1100538252',\n",
      " 'orig_url': 'https://auto.ru/cars/used/sale/toyota/sienna/1100538252-0a76aac4/',\n",
      " 'owners_count': '1\\xa0владелец',\n",
      " 'photos_links': ['//autoru.naydex.net/pRL1I5040/9a1161kHDQ/ra6sy9K4CiZszjfhZNnat9QyZsjEt1UQXd5QnyeJ0AScZ3f1n1hH18yWJW6K9WwK59NavwqR-Vl2Fimko90-hbr77MmV_kYubtkh-T2Yj-CcLHCUgKhcKnaycKgMqfA49lhW58UeGc6M200HhY4tYZOZDphB4vM4FkI0tePINdi9q6nD45xVH37zcsFGw_-R-VVZxuHqZiJRpVqgP4fDIctXcNTDCRWukuF0L-yNG2GQrhedQOTyBSdFOI_c5wz3iIA',\n",
      "                  '//avatars.mds.yandex.net/get-autoru-vos/1894023/b26b16a0efa33ba15edb1d8e4b02c413/1200x900n',\n",
      "                  '//autoru.naydex.net/pRL1I5040/9a1161kHDQ/ra6sy9K4CiZszjfhZNnat9QyZsjEt1UQXd5QnyeJ0AScZ3f1n1tD2ceaI2uKpTtXu4Ze7w2YrF1zEnij9ow7hOz-u5zF-BRyMYwr_meYj-CcLHCUgKhcKnaycKgMqfA49lhW58UeGc6M200HhY4tYZOZDphB4vM4FkI0tePINdi9q6nD45xVH37zcsFGw_-R-VVZxuHqZiJRpVqgP4fDIctXcNTDCRWukuF0L-yNG2GQrhedQOTyBSdFOI_c5wz3iIA',\n",
      "                  '//avatars.mds.yandex.net/get-autoru-vos/2023783/3cfef4ae130326995f33cc7ee0947773/1200x900n',\n",
      "                  '//avatars.mds.yandex.net/get-autoru-vos/2154515/5f464243d7d47dc07e4f1b9ceca4b2d3/1200x900n',\n",
      "                  '//avatars.mds.yandex.net/get-autoru-vos/2163591/d6a2a0414cd3b4b04bed79c7d69e9628/1200x900n',\n",
      "                  '//avatars.mds.yandex.net/get-autoru-vos/1590523/423d6ffa6fe095464156fa8fbe95a0f6/1200x900n',\n",
      "                  '//avatars.mds.yandex.net/get-autoru-vos/2156821/9e897f48ca0e0d16883ee06e2a0307ce/1200x900n',\n",
      "                  '//autoru.naydex.net/pRL1I5040/9a1161kHDQ/ra6sy9K4CiZszjfhZNnat9QyZsjEt1UQXd5QnyeJ0AScZ3f1n1hH2MaZJW6K8z4LvtFbuQCeqAx2EX6jpo1s0O_97siR-BZ7Mdt6rj2Yj-CcLHCUgKhcKnaycKgMqfA49lhW58UeGc6M200HhY4tYZOZDphB4vM4FkI0tePINdi9q6nD45xVH37zcsFGw_-R-VVZxuHqZiJRpVqgP4fDIctXcNTDCRWukuF0L-yNG2GQrhedQOTyBSdFOI_c5wz3iIA',\n",
      "                  '//autoru.naydex.net/pRL1I5040/9a1161kHDQ/ra6sy9K4CiZszjfhZNnat9QyZsjEt1UQXd5QnyeJ0AScZ3f1n1hH2M-cIGyK_z9X6YAO7w-f_gtxEXz2p9luib766J2VrhV5MNh7qWeYj-CcLHCUgKhcKnaycKgMqfA49lhW58UeGc6M200HhY4tYZOZDphB4vM4FkI0tePINdi9q6nD45xVH37zcsFGw_-R-VVZxuHqZiJRpVqgP4fDIctXcNTDCRWukuF0L-yNG2GQrhedQOTyBSdFOI_c5wz3iIA',\n",
      "                  '//autoru.naydex.net/pRL1I5040/9a1161kHDQ/ra6sy9K4CiZszjfhZNnat9QyZsjEt1UQXd5QnyeJ0AScZ3f1n1tP2c-bJmmK9TwBuYcK7Fqar1R1F3mjpt09g-L96pqTrkB5Po97qGSYj-CcLHCUgKhcKnaycKgMqfA49lhW58UeGc6M200HhY4tYZOZDphB4vM4FkI0tePINdi9q6nD45xVH37zcsFGw_-R-VVZxuHqZiJRpVqgP4fDIctXcNTDCRWukuF0L-yNG2GQrhedQOTyBSdFOI_c5wz3iIA',\n",
      "                  '//avatars.mds.yandex.net/get-autoru-vos/2058671/d67555299577bb8b6d19033dc967cd90/1200x900n',\n",
      "                  '//autoru.naydex.net/pRL1I5040/9a1161kHDQ/ra6sy9K4CiZszjfhZNnat9QyZsjEt1UQXd5QnyeJ0AScZ3f1n1tP2MqdJ2yK_zxV7tdavArL-g93EC7_oN5sh-Kpu87FrR17adstoTeYj-CcLHCUgKhcKnaycKgMqfA49lhW58UeGc6M200HhY4tYZOZDphB4vM4FkI0tePINdi9q6nD45xVH37zcsFGw_-R-VVZxuHqZiJRpVqgP4fDIctXcNTDCRWukuF0L-yNG2GQrhedQOTyBSdFOI_c5wz3iIA'],\n",
      " 'price': None,\n",
      " 'pts': 'Оригинал',\n",
      " 'state': 'Не требует ремонта',\n",
      " 'transmission': None,\n",
      " 'url': 'https://auto.ru/cars/used/sale/toyota/sienna/1100538252-0a76aac4/',\n",
      " 'views_stats': '4138',\n",
      " 'views_today': 0,\n",
      " 'views_total': 4138,\n",
      " 'vin': '5TD**************',\n",
      " 'wheel': 'Левый',\n",
      " 'year': 2018}\n",
      "Traceback (most recent call last):\n",
      "  File \"/home/rivfader/anaconda3/envs/autoru/lib/python3.8/site-packages/twisted/internet/defer.py\", line 662, in _runCallbacks\n",
      "    current.result = callback(current.result, *args, **kw)\n",
      "  File \"/home/rivfader/anaconda3/envs/autoru/lib/python3.8/site-packages/scrapy/utils/defer.py\", line 150, in f\n",
      "    return deferred_from_coro(coro_f(*coro_args, **coro_kwargs))\n",
      "  File \"/home/rivfader/shared/GoogleDrive/Prog/Skillfactory/SF_training/module_6/scraping/autoru_scrapy/autoru_scrapy/pipelines.py\", line 110, in process_item\n",
      "    power = str(adapter['engine'][1]).split(' / ')[1]\n",
      "IndexError: list index out of range\n"
     ]
    }
   ],
   "source": [
    "%%bash\n",
    "cd .. &&\n",
    "touch './input/test_scraped.csv' &&\n",
    "output_file_path=$(realpath ./input/test_scraped.csv) &&\n",
    "links_file=$(realpath ./input/test_links.csv) && \n",
    "cd ./scraping/autoru_scrapy && \n",
    "scrapy crawl -a links_file=$links_file -o $output_file_path -L ERROR autoru_scraper"
   ]
  }
 ],
 "metadata": {
  "kernelspec": {
   "display_name": "Python 3",
   "language": "python",
   "name": "python3"
  },
  "language_info": {
   "codemirror_mode": {
    "name": "ipython",
    "version": 3
   },
   "file_extension": ".py",
   "mimetype": "text/x-python",
   "name": "python",
   "nbconvert_exporter": "python",
   "pygments_lexer": "ipython3",
   "version": "3.8.8"
  }
 },
 "nbformat": 4,
 "nbformat_minor": 5
}
